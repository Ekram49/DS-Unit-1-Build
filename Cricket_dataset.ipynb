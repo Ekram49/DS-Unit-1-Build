{
  "nbformat": 4,
  "nbformat_minor": 0,
  "metadata": {
    "colab": {
      "name": "Cricket_dataset.ipynb",
      "provenance": [],
      "collapsed_sections": [],
      "authorship_tag": "ABX9TyPeNzbm+uHccQrARIsWLgk3",
      "include_colab_link": true
    },
    "kernelspec": {
      "name": "python3",
      "display_name": "Python 3"
    }
  },
  "cells": [
    {
      "cell_type": "markdown",
      "metadata": {
        "id": "view-in-github",
        "colab_type": "text"
      },
      "source": [
        "<a href=\"https://colab.research.google.com/github/Ekram49/DS-Unit-1-Build/blob/master/Cricket_dataset.ipynb\" target=\"_parent\"><img src=\"https://colab.research.google.com/assets/colab-badge.svg\" alt=\"Open In Colab\"/></a>"
      ]
    },
    {
      "cell_type": "markdown",
      "metadata": {
        "id": "f2ctRXyVfZVx",
        "colab_type": "text"
      },
      "source": [
        "# Goal\n",
        "It is said that The indian cricket team tends to do well when they play at their home-ground, but struggles when playing abroad. That's why they are often called 'Tigers at home, lambs abroad'. I'm gonna try to figure out if that's the case for only India, or other countries suffer over-seas too?"
      ]
    },
    {
      "cell_type": "code",
      "metadata": {
        "id": "3nSqee0bEKGq",
        "colab_type": "code",
        "colab": {}
      },
      "source": [
        "import pandas as pd\n",
        "import numpy as np\n",
        "import matplotlib.pyplot as plt"
      ],
      "execution_count": 0,
      "outputs": []
    },
    {
      "cell_type": "markdown",
      "metadata": {
        "id": "7pRiJ0sVn9Eb",
        "colab_type": "text"
      },
      "source": [
        "# Loading data"
      ]
    },
    {
      "cell_type": "code",
      "metadata": {
        "id": "e3UVrPQbEcNJ",
        "colab_type": "code",
        "outputId": "44ecdf84-3478-4542-ba2d-cb17099d3a91",
        "colab": {
          "base_uri": "https://localhost:8080/",
          "height": 383
        }
      },
      "source": [
        "df = pd.read_csv('https://raw.githubusercontent.com/Ekram49/DS-Unit-1-Build/master/ContinousDataset.csv')\n",
        "df.head()"
      ],
      "execution_count": 3,
      "outputs": [
        {
          "output_type": "execute_result",
          "data": {
            "text/html": [
              "<div>\n",
              "<style scoped>\n",
              "    .dataframe tbody tr th:only-of-type {\n",
              "        vertical-align: middle;\n",
              "    }\n",
              "\n",
              "    .dataframe tbody tr th {\n",
              "        vertical-align: top;\n",
              "    }\n",
              "\n",
              "    .dataframe thead th {\n",
              "        text-align: right;\n",
              "    }\n",
              "</style>\n",
              "<table border=\"1\" class=\"dataframe\">\n",
              "  <thead>\n",
              "    <tr style=\"text-align: right;\">\n",
              "      <th></th>\n",
              "      <th>Unnamed: 0</th>\n",
              "      <th>Scorecard</th>\n",
              "      <th>Team 1</th>\n",
              "      <th>Team 2</th>\n",
              "      <th>Margin</th>\n",
              "      <th>Ground</th>\n",
              "      <th>Match Date</th>\n",
              "      <th>Winner</th>\n",
              "      <th>Host_Country</th>\n",
              "      <th>Venue_Team1</th>\n",
              "      <th>Venue_Team2</th>\n",
              "      <th>Innings_Team1</th>\n",
              "      <th>Innings_Team2</th>\n",
              "    </tr>\n",
              "  </thead>\n",
              "  <tbody>\n",
              "    <tr>\n",
              "      <th>0</th>\n",
              "      <td>0</td>\n",
              "      <td>ODI # 1</td>\n",
              "      <td>Australia</td>\n",
              "      <td>England</td>\n",
              "      <td>Winner2ndInning</td>\n",
              "      <td>Melbourne</td>\n",
              "      <td>Jan 5, 1971</td>\n",
              "      <td>Australia</td>\n",
              "      <td>Australia</td>\n",
              "      <td>Home</td>\n",
              "      <td>Away</td>\n",
              "      <td>Second</td>\n",
              "      <td>First</td>\n",
              "    </tr>\n",
              "    <tr>\n",
              "      <th>1</th>\n",
              "      <td>1</td>\n",
              "      <td>ODI # 2</td>\n",
              "      <td>England</td>\n",
              "      <td>Australia</td>\n",
              "      <td>Winner2ndInning</td>\n",
              "      <td>Manchester</td>\n",
              "      <td>Aug 24, 1972</td>\n",
              "      <td>England</td>\n",
              "      <td>England</td>\n",
              "      <td>Home</td>\n",
              "      <td>Away</td>\n",
              "      <td>Second</td>\n",
              "      <td>First</td>\n",
              "    </tr>\n",
              "    <tr>\n",
              "      <th>2</th>\n",
              "      <td>2</td>\n",
              "      <td>ODI # 3</td>\n",
              "      <td>England</td>\n",
              "      <td>Australia</td>\n",
              "      <td>Winner2ndInning</td>\n",
              "      <td>Lord's</td>\n",
              "      <td>Aug 26, 1972</td>\n",
              "      <td>Australia</td>\n",
              "      <td>England</td>\n",
              "      <td>Home</td>\n",
              "      <td>Away</td>\n",
              "      <td>First</td>\n",
              "      <td>Second</td>\n",
              "    </tr>\n",
              "    <tr>\n",
              "      <th>3</th>\n",
              "      <td>3</td>\n",
              "      <td>ODI # 4</td>\n",
              "      <td>England</td>\n",
              "      <td>Australia</td>\n",
              "      <td>Winner2ndInning</td>\n",
              "      <td>Birmingham</td>\n",
              "      <td>Aug 28, 1972</td>\n",
              "      <td>England</td>\n",
              "      <td>England</td>\n",
              "      <td>Home</td>\n",
              "      <td>Away</td>\n",
              "      <td>Second</td>\n",
              "      <td>First</td>\n",
              "    </tr>\n",
              "    <tr>\n",
              "      <th>4</th>\n",
              "      <td>4</td>\n",
              "      <td>ODI # 5</td>\n",
              "      <td>New Zealand</td>\n",
              "      <td>Pakistan</td>\n",
              "      <td>Winner1stInning</td>\n",
              "      <td>Christchurch</td>\n",
              "      <td>Feb 11, 1973</td>\n",
              "      <td>New Zealand</td>\n",
              "      <td>New Zealand</td>\n",
              "      <td>Home</td>\n",
              "      <td>Away</td>\n",
              "      <td>First</td>\n",
              "      <td>Second</td>\n",
              "    </tr>\n",
              "  </tbody>\n",
              "</table>\n",
              "</div>"
            ],
            "text/plain": [
              "   Unnamed: 0 Scorecard       Team 1  ... Venue_Team2 Innings_Team1 Innings_Team2\n",
              "0           0   ODI # 1    Australia  ...        Away        Second         First\n",
              "1           1   ODI # 2      England  ...        Away        Second         First\n",
              "2           2   ODI # 3      England  ...        Away         First        Second\n",
              "3           3   ODI # 4      England  ...        Away        Second         First\n",
              "4           4   ODI # 5  New Zealand  ...        Away         First        Second\n",
              "\n",
              "[5 rows x 13 columns]"
            ]
          },
          "metadata": {
            "tags": []
          },
          "execution_count": 3
        }
      ]
    },
    {
      "cell_type": "code",
      "metadata": {
        "id": "ZHys3pBOEyH7",
        "colab_type": "code",
        "outputId": "d5d01fd2-c943-4b62-fc7c-94f19826761f",
        "colab": {
          "base_uri": "https://localhost:8080/",
          "height": 299
        }
      },
      "source": [
        "df = df.rename(columns={\"Team 1\": \"Team_1\", \"Team 2\": \"Team_2\",\n",
        "                   \"Team 1\": \"Team_1\",\"Match Date\":\"Match_Date\"})\n",
        "df.head()"
      ],
      "execution_count": 4,
      "outputs": [
        {
          "output_type": "execute_result",
          "data": {
            "text/html": [
              "<div>\n",
              "<style scoped>\n",
              "    .dataframe tbody tr th:only-of-type {\n",
              "        vertical-align: middle;\n",
              "    }\n",
              "\n",
              "    .dataframe tbody tr th {\n",
              "        vertical-align: top;\n",
              "    }\n",
              "\n",
              "    .dataframe thead th {\n",
              "        text-align: right;\n",
              "    }\n",
              "</style>\n",
              "<table border=\"1\" class=\"dataframe\">\n",
              "  <thead>\n",
              "    <tr style=\"text-align: right;\">\n",
              "      <th></th>\n",
              "      <th>Unnamed: 0</th>\n",
              "      <th>Scorecard</th>\n",
              "      <th>Team_1</th>\n",
              "      <th>Team_2</th>\n",
              "      <th>Margin</th>\n",
              "      <th>Ground</th>\n",
              "      <th>Match_Date</th>\n",
              "      <th>Winner</th>\n",
              "      <th>Host_Country</th>\n",
              "      <th>Venue_Team1</th>\n",
              "      <th>Venue_Team2</th>\n",
              "      <th>Innings_Team1</th>\n",
              "      <th>Innings_Team2</th>\n",
              "    </tr>\n",
              "  </thead>\n",
              "  <tbody>\n",
              "    <tr>\n",
              "      <th>0</th>\n",
              "      <td>0</td>\n",
              "      <td>ODI # 1</td>\n",
              "      <td>Australia</td>\n",
              "      <td>England</td>\n",
              "      <td>Winner2ndInning</td>\n",
              "      <td>Melbourne</td>\n",
              "      <td>Jan 5, 1971</td>\n",
              "      <td>Australia</td>\n",
              "      <td>Australia</td>\n",
              "      <td>Home</td>\n",
              "      <td>Away</td>\n",
              "      <td>Second</td>\n",
              "      <td>First</td>\n",
              "    </tr>\n",
              "    <tr>\n",
              "      <th>1</th>\n",
              "      <td>1</td>\n",
              "      <td>ODI # 2</td>\n",
              "      <td>England</td>\n",
              "      <td>Australia</td>\n",
              "      <td>Winner2ndInning</td>\n",
              "      <td>Manchester</td>\n",
              "      <td>Aug 24, 1972</td>\n",
              "      <td>England</td>\n",
              "      <td>England</td>\n",
              "      <td>Home</td>\n",
              "      <td>Away</td>\n",
              "      <td>Second</td>\n",
              "      <td>First</td>\n",
              "    </tr>\n",
              "    <tr>\n",
              "      <th>2</th>\n",
              "      <td>2</td>\n",
              "      <td>ODI # 3</td>\n",
              "      <td>England</td>\n",
              "      <td>Australia</td>\n",
              "      <td>Winner2ndInning</td>\n",
              "      <td>Lord's</td>\n",
              "      <td>Aug 26, 1972</td>\n",
              "      <td>Australia</td>\n",
              "      <td>England</td>\n",
              "      <td>Home</td>\n",
              "      <td>Away</td>\n",
              "      <td>First</td>\n",
              "      <td>Second</td>\n",
              "    </tr>\n",
              "    <tr>\n",
              "      <th>3</th>\n",
              "      <td>3</td>\n",
              "      <td>ODI # 4</td>\n",
              "      <td>England</td>\n",
              "      <td>Australia</td>\n",
              "      <td>Winner2ndInning</td>\n",
              "      <td>Birmingham</td>\n",
              "      <td>Aug 28, 1972</td>\n",
              "      <td>England</td>\n",
              "      <td>England</td>\n",
              "      <td>Home</td>\n",
              "      <td>Away</td>\n",
              "      <td>Second</td>\n",
              "      <td>First</td>\n",
              "    </tr>\n",
              "    <tr>\n",
              "      <th>4</th>\n",
              "      <td>4</td>\n",
              "      <td>ODI # 5</td>\n",
              "      <td>New Zealand</td>\n",
              "      <td>Pakistan</td>\n",
              "      <td>Winner1stInning</td>\n",
              "      <td>Christchurch</td>\n",
              "      <td>Feb 11, 1973</td>\n",
              "      <td>New Zealand</td>\n",
              "      <td>New Zealand</td>\n",
              "      <td>Home</td>\n",
              "      <td>Away</td>\n",
              "      <td>First</td>\n",
              "      <td>Second</td>\n",
              "    </tr>\n",
              "  </tbody>\n",
              "</table>\n",
              "</div>"
            ],
            "text/plain": [
              "   Unnamed: 0 Scorecard       Team_1  ... Venue_Team2 Innings_Team1 Innings_Team2\n",
              "0           0   ODI # 1    Australia  ...        Away        Second         First\n",
              "1           1   ODI # 2      England  ...        Away        Second         First\n",
              "2           2   ODI # 3      England  ...        Away         First        Second\n",
              "3           3   ODI # 4      England  ...        Away        Second         First\n",
              "4           4   ODI # 5  New Zealand  ...        Away         First        Second\n",
              "\n",
              "[5 rows x 13 columns]"
            ]
          },
          "metadata": {
            "tags": []
          },
          "execution_count": 4
        }
      ]
    },
    {
      "cell_type": "markdown",
      "metadata": {
        "id": "DM8Jy3sHhXyh",
        "colab_type": "text"
      },
      "source": [
        "# Functions\n",
        "In the data set there is no straight-forward data for indivisual teams where the information of their winning ratio at home and winning ratio away is given. So I'm gonna try to acquire the data from my data set.\n",
        "\n",
        "The first step would be to write some functions which will help me figure out the team's winning and losing record both home and away."
      ]
    },
    {
      "cell_type": "code",
      "metadata": {
        "id": "Oi1OlV_EhXMb",
        "colab_type": "code",
        "colab": {}
      },
      "source": [
        "# Team won at home\n",
        "\n",
        "def df_team_Country_win_home(country):\n",
        "  return df[(((df['Team_1'] == country) | (df['Team_2'] == country)) & (df['Winner'] == country) & (df['Host_Country'] == country))]"
      ],
      "execution_count": 0,
      "outputs": []
    },
    {
      "cell_type": "code",
      "metadata": {
        "id": "WP3zEoOAhdR3",
        "colab_type": "code",
        "colab": {}
      },
      "source": [
        "# Team lost at home\n",
        "\n",
        "def df_team_Country_lost_home(country):\n",
        "  return df[(((df['Team_1'] == country) | (df['Team_2'] == country)) & (df['Winner'] != country) & (df['Host_Country'] == country))]"
      ],
      "execution_count": 0,
      "outputs": []
    },
    {
      "cell_type": "code",
      "metadata": {
        "id": "25scqAvxhf-D",
        "colab_type": "code",
        "colab": {}
      },
      "source": [
        "# Team won away\n",
        "\n",
        "def df_team_Country_win_away(country):\n",
        "  return df[(((df['Team_1'] == country) | (df['Team_2'] == country)) & (df['Winner'] == country) & (df['Host_Country'] != country))]"
      ],
      "execution_count": 0,
      "outputs": []
    },
    {
      "cell_type": "code",
      "metadata": {
        "id": "iexthmGmhjTi",
        "colab_type": "code",
        "colab": {}
      },
      "source": [
        "# Team lost away\n",
        "\n",
        "def df_team_Country_lost_away(country):\n",
        "  return df[(((df['Team_1'] == country) | (df['Team_2'] == country)) & (df['Winner'] != country) & (df['Host_Country'] != country))]"
      ],
      "execution_count": 0,
      "outputs": []
    },
    {
      "cell_type": "markdown",
      "metadata": {
        "id": "ESOYisvApnPK",
        "colab_type": "text"
      },
      "source": [
        "# Applying the function\n",
        "Now I'm gonna apply my function to the top 10 ranked teams indivisually to figure out the amount matches they won/loss at home/away. If I can find these information then I can also find their winning ratio in both home and away."
      ]
    },
    {
      "cell_type": "markdown",
      "metadata": {
        "id": "jV9-2kYjb6KK",
        "colab_type": "text"
      },
      "source": [
        "# England"
      ]
    },
    {
      "cell_type": "code",
      "metadata": {
        "id": "1sAVuT0HcqUZ",
        "colab_type": "code",
        "outputId": "dde3e7f6-7127-4433-9297-05cc41d4a2b5",
        "colab": {
          "base_uri": "https://localhost:8080/",
          "height": 299
        }
      },
      "source": [
        "# England won at home\n",
        "df_team_Country_win_home('England').head()"
      ],
      "execution_count": 9,
      "outputs": [
        {
          "output_type": "execute_result",
          "data": {
            "text/html": [
              "<div>\n",
              "<style scoped>\n",
              "    .dataframe tbody tr th:only-of-type {\n",
              "        vertical-align: middle;\n",
              "    }\n",
              "\n",
              "    .dataframe tbody tr th {\n",
              "        vertical-align: top;\n",
              "    }\n",
              "\n",
              "    .dataframe thead th {\n",
              "        text-align: right;\n",
              "    }\n",
              "</style>\n",
              "<table border=\"1\" class=\"dataframe\">\n",
              "  <thead>\n",
              "    <tr style=\"text-align: right;\">\n",
              "      <th></th>\n",
              "      <th>Unnamed: 0</th>\n",
              "      <th>Scorecard</th>\n",
              "      <th>Team_1</th>\n",
              "      <th>Team_2</th>\n",
              "      <th>Margin</th>\n",
              "      <th>Ground</th>\n",
              "      <th>Match_Date</th>\n",
              "      <th>Winner</th>\n",
              "      <th>Host_Country</th>\n",
              "      <th>Venue_Team1</th>\n",
              "      <th>Venue_Team2</th>\n",
              "      <th>Innings_Team1</th>\n",
              "      <th>Innings_Team2</th>\n",
              "    </tr>\n",
              "  </thead>\n",
              "  <tbody>\n",
              "    <tr>\n",
              "      <th>1</th>\n",
              "      <td>1</td>\n",
              "      <td>ODI # 2</td>\n",
              "      <td>England</td>\n",
              "      <td>Australia</td>\n",
              "      <td>Winner2ndInning</td>\n",
              "      <td>Manchester</td>\n",
              "      <td>Aug 24, 1972</td>\n",
              "      <td>England</td>\n",
              "      <td>England</td>\n",
              "      <td>Home</td>\n",
              "      <td>Away</td>\n",
              "      <td>Second</td>\n",
              "      <td>First</td>\n",
              "    </tr>\n",
              "    <tr>\n",
              "      <th>3</th>\n",
              "      <td>3</td>\n",
              "      <td>ODI # 4</td>\n",
              "      <td>England</td>\n",
              "      <td>Australia</td>\n",
              "      <td>Winner2ndInning</td>\n",
              "      <td>Birmingham</td>\n",
              "      <td>Aug 28, 1972</td>\n",
              "      <td>England</td>\n",
              "      <td>England</td>\n",
              "      <td>Home</td>\n",
              "      <td>Away</td>\n",
              "      <td>Second</td>\n",
              "      <td>First</td>\n",
              "    </tr>\n",
              "    <tr>\n",
              "      <th>5</th>\n",
              "      <td>5</td>\n",
              "      <td>ODI # 6</td>\n",
              "      <td>England</td>\n",
              "      <td>New Zealand</td>\n",
              "      <td>Winner2ndInning</td>\n",
              "      <td>Swansea</td>\n",
              "      <td>Jul 18, 1973</td>\n",
              "      <td>England</td>\n",
              "      <td>England</td>\n",
              "      <td>Home</td>\n",
              "      <td>Away</td>\n",
              "      <td>Second</td>\n",
              "      <td>First</td>\n",
              "    </tr>\n",
              "    <tr>\n",
              "      <th>6</th>\n",
              "      <td>6</td>\n",
              "      <td>ODI # 8</td>\n",
              "      <td>England</td>\n",
              "      <td>West Indies</td>\n",
              "      <td>Winner2ndInning</td>\n",
              "      <td>Leeds</td>\n",
              "      <td>Sep 5, 1973</td>\n",
              "      <td>England</td>\n",
              "      <td>England</td>\n",
              "      <td>Home</td>\n",
              "      <td>Away</td>\n",
              "      <td>Second</td>\n",
              "      <td>First</td>\n",
              "    </tr>\n",
              "    <tr>\n",
              "      <th>10</th>\n",
              "      <td>10</td>\n",
              "      <td>ODI # 12</td>\n",
              "      <td>England</td>\n",
              "      <td>India</td>\n",
              "      <td>Winner2ndInning</td>\n",
              "      <td>Leeds</td>\n",
              "      <td>Jul 13, 1974</td>\n",
              "      <td>England</td>\n",
              "      <td>England</td>\n",
              "      <td>Home</td>\n",
              "      <td>Away</td>\n",
              "      <td>Second</td>\n",
              "      <td>First</td>\n",
              "    </tr>\n",
              "  </tbody>\n",
              "</table>\n",
              "</div>"
            ],
            "text/plain": [
              "    Unnamed: 0 Scorecard   Team_1  ... Venue_Team2 Innings_Team1 Innings_Team2\n",
              "1            1   ODI # 2  England  ...        Away        Second         First\n",
              "3            3   ODI # 4  England  ...        Away        Second         First\n",
              "5            5   ODI # 6  England  ...        Away        Second         First\n",
              "6            6   ODI # 8  England  ...        Away        Second         First\n",
              "10          10  ODI # 12  England  ...        Away        Second         First\n",
              "\n",
              "[5 rows x 13 columns]"
            ]
          },
          "metadata": {
            "tags": []
          },
          "execution_count": 9
        }
      ]
    },
    {
      "cell_type": "code",
      "metadata": {
        "id": "BQvP2UFiTyKU",
        "colab_type": "code",
        "outputId": "ae9111be-3546-4a66-e13c-9a572b30f68f",
        "colab": {
          "base_uri": "https://localhost:8080/",
          "height": 34
        }
      },
      "source": [
        "# Number of win at home\n",
        "eng_w_h = df_team_Country_win_home('England').shape[0]\n",
        "eng_w_h"
      ],
      "execution_count": 10,
      "outputs": [
        {
          "output_type": "execute_result",
          "data": {
            "text/plain": [
              "320"
            ]
          },
          "metadata": {
            "tags": []
          },
          "execution_count": 10
        }
      ]
    },
    {
      "cell_type": "code",
      "metadata": {
        "id": "pqVAPJABcqe1",
        "colab_type": "code",
        "outputId": "25708210-3663-4795-94a4-d09dc2f31d3b",
        "colab": {
          "base_uri": "https://localhost:8080/",
          "height": 299
        }
      },
      "source": [
        "# England lost at home\n",
        "df_team_Country_lost_home('England').head()"
      ],
      "execution_count": 11,
      "outputs": [
        {
          "output_type": "execute_result",
          "data": {
            "text/html": [
              "<div>\n",
              "<style scoped>\n",
              "    .dataframe tbody tr th:only-of-type {\n",
              "        vertical-align: middle;\n",
              "    }\n",
              "\n",
              "    .dataframe tbody tr th {\n",
              "        vertical-align: top;\n",
              "    }\n",
              "\n",
              "    .dataframe thead th {\n",
              "        text-align: right;\n",
              "    }\n",
              "</style>\n",
              "<table border=\"1\" class=\"dataframe\">\n",
              "  <thead>\n",
              "    <tr style=\"text-align: right;\">\n",
              "      <th></th>\n",
              "      <th>Unnamed: 0</th>\n",
              "      <th>Scorecard</th>\n",
              "      <th>Team_1</th>\n",
              "      <th>Team_2</th>\n",
              "      <th>Margin</th>\n",
              "      <th>Ground</th>\n",
              "      <th>Match_Date</th>\n",
              "      <th>Winner</th>\n",
              "      <th>Host_Country</th>\n",
              "      <th>Venue_Team1</th>\n",
              "      <th>Venue_Team2</th>\n",
              "      <th>Innings_Team1</th>\n",
              "      <th>Innings_Team2</th>\n",
              "    </tr>\n",
              "  </thead>\n",
              "  <tbody>\n",
              "    <tr>\n",
              "      <th>2</th>\n",
              "      <td>2</td>\n",
              "      <td>ODI # 3</td>\n",
              "      <td>England</td>\n",
              "      <td>Australia</td>\n",
              "      <td>Winner2ndInning</td>\n",
              "      <td>Lord's</td>\n",
              "      <td>Aug 26, 1972</td>\n",
              "      <td>Australia</td>\n",
              "      <td>England</td>\n",
              "      <td>Home</td>\n",
              "      <td>Away</td>\n",
              "      <td>First</td>\n",
              "      <td>Second</td>\n",
              "    </tr>\n",
              "    <tr>\n",
              "      <th>7</th>\n",
              "      <td>7</td>\n",
              "      <td>ODI # 9</td>\n",
              "      <td>England</td>\n",
              "      <td>West Indies</td>\n",
              "      <td>Winner2ndInning</td>\n",
              "      <td>The Oval</td>\n",
              "      <td>Sep 7, 1973</td>\n",
              "      <td>West Indies</td>\n",
              "      <td>England</td>\n",
              "      <td>Home</td>\n",
              "      <td>Away</td>\n",
              "      <td>First</td>\n",
              "      <td>Second</td>\n",
              "    </tr>\n",
              "    <tr>\n",
              "      <th>12</th>\n",
              "      <td>12</td>\n",
              "      <td>ODI # 14</td>\n",
              "      <td>England</td>\n",
              "      <td>Pakistan</td>\n",
              "      <td>Winner2ndInning</td>\n",
              "      <td>Nottingham</td>\n",
              "      <td>Aug 31, 1974</td>\n",
              "      <td>Pakistan</td>\n",
              "      <td>England</td>\n",
              "      <td>Home</td>\n",
              "      <td>Away</td>\n",
              "      <td>First</td>\n",
              "      <td>Second</td>\n",
              "    </tr>\n",
              "    <tr>\n",
              "      <th>13</th>\n",
              "      <td>13</td>\n",
              "      <td>ODI # 15</td>\n",
              "      <td>England</td>\n",
              "      <td>Pakistan</td>\n",
              "      <td>Winner2ndInning</td>\n",
              "      <td>Birmingham</td>\n",
              "      <td>Sep 3, 1974</td>\n",
              "      <td>Pakistan</td>\n",
              "      <td>England</td>\n",
              "      <td>Home</td>\n",
              "      <td>Away</td>\n",
              "      <td>First</td>\n",
              "      <td>Second</td>\n",
              "    </tr>\n",
              "    <tr>\n",
              "      <th>27</th>\n",
              "      <td>27</td>\n",
              "      <td>ODI # 31</td>\n",
              "      <td>England</td>\n",
              "      <td>Australia</td>\n",
              "      <td>Winner2ndInning</td>\n",
              "      <td>Leeds</td>\n",
              "      <td>Jun 18, 1975</td>\n",
              "      <td>Australia</td>\n",
              "      <td>England</td>\n",
              "      <td>Home</td>\n",
              "      <td>Away</td>\n",
              "      <td>First</td>\n",
              "      <td>Second</td>\n",
              "    </tr>\n",
              "  </tbody>\n",
              "</table>\n",
              "</div>"
            ],
            "text/plain": [
              "    Unnamed: 0 Scorecard   Team_1  ... Venue_Team2 Innings_Team1 Innings_Team2\n",
              "2            2   ODI # 3  England  ...        Away         First        Second\n",
              "7            7   ODI # 9  England  ...        Away         First        Second\n",
              "12          12  ODI # 14  England  ...        Away         First        Second\n",
              "13          13  ODI # 15  England  ...        Away         First        Second\n",
              "27          27  ODI # 31  England  ...        Away         First        Second\n",
              "\n",
              "[5 rows x 13 columns]"
            ]
          },
          "metadata": {
            "tags": []
          },
          "execution_count": 11
        }
      ]
    },
    {
      "cell_type": "code",
      "metadata": {
        "id": "PL69y3aET3oY",
        "colab_type": "code",
        "outputId": "297e53ef-dd4e-4f56-d847-937440c2e914",
        "colab": {
          "base_uri": "https://localhost:8080/",
          "height": 34
        }
      },
      "source": [
        "# Number of loss at home\n",
        "eng_l_h = df_team_Country_lost_home('England').shape[0]\n",
        "eng_l_h"
      ],
      "execution_count": 12,
      "outputs": [
        {
          "output_type": "execute_result",
          "data": {
            "text/plain": [
              "220"
            ]
          },
          "metadata": {
            "tags": []
          },
          "execution_count": 12
        }
      ]
    },
    {
      "cell_type": "code",
      "metadata": {
        "id": "Dzlp137sCBov",
        "colab_type": "code",
        "outputId": "5b780c89-d407-4deb-fa31-65f4313db7b9",
        "colab": {
          "base_uri": "https://localhost:8080/",
          "height": 34
        }
      },
      "source": [
        "# Winning ratio at home********************************\n",
        "eng_w_h_r = round(((eng_w_h) / (eng_w_h + eng_l_h)) * 100, 2)\n",
        "eng_w_h_r"
      ],
      "execution_count": 13,
      "outputs": [
        {
          "output_type": "execute_result",
          "data": {
            "text/plain": [
              "59.26"
            ]
          },
          "metadata": {
            "tags": []
          },
          "execution_count": 13
        }
      ]
    },
    {
      "cell_type": "code",
      "metadata": {
        "id": "NEXPkKEzcqok",
        "colab_type": "code",
        "outputId": "8fb63885-8a5a-4d2d-bb7b-ddd53484c0f0",
        "colab": {
          "base_uri": "https://localhost:8080/",
          "height": 299
        }
      },
      "source": [
        "# England won away\n",
        "df_team_Country_win_away('England').head()"
      ],
      "execution_count": 14,
      "outputs": [
        {
          "output_type": "execute_result",
          "data": {
            "text/html": [
              "<div>\n",
              "<style scoped>\n",
              "    .dataframe tbody tr th:only-of-type {\n",
              "        vertical-align: middle;\n",
              "    }\n",
              "\n",
              "    .dataframe tbody tr th {\n",
              "        vertical-align: top;\n",
              "    }\n",
              "\n",
              "    .dataframe thead th {\n",
              "        text-align: right;\n",
              "    }\n",
              "</style>\n",
              "<table border=\"1\" class=\"dataframe\">\n",
              "  <thead>\n",
              "    <tr style=\"text-align: right;\">\n",
              "      <th></th>\n",
              "      <th>Unnamed: 0</th>\n",
              "      <th>Scorecard</th>\n",
              "      <th>Team_1</th>\n",
              "      <th>Team_2</th>\n",
              "      <th>Margin</th>\n",
              "      <th>Ground</th>\n",
              "      <th>Match_Date</th>\n",
              "      <th>Winner</th>\n",
              "      <th>Host_Country</th>\n",
              "      <th>Venue_Team1</th>\n",
              "      <th>Venue_Team2</th>\n",
              "      <th>Innings_Team1</th>\n",
              "      <th>Innings_Team2</th>\n",
              "    </tr>\n",
              "  </thead>\n",
              "  <tbody>\n",
              "    <tr>\n",
              "      <th>14</th>\n",
              "      <td>14</td>\n",
              "      <td>ODI # 16</td>\n",
              "      <td>Australia</td>\n",
              "      <td>England</td>\n",
              "      <td>Winner2ndInning</td>\n",
              "      <td>Melbourne</td>\n",
              "      <td>Jan 1, 1975</td>\n",
              "      <td>England</td>\n",
              "      <td>Australia</td>\n",
              "      <td>Home</td>\n",
              "      <td>Away</td>\n",
              "      <td>First</td>\n",
              "      <td>Second</td>\n",
              "    </tr>\n",
              "    <tr>\n",
              "      <th>41</th>\n",
              "      <td>41</td>\n",
              "      <td>ODI # 45</td>\n",
              "      <td>Pakistan</td>\n",
              "      <td>England</td>\n",
              "      <td>Winner2ndInning</td>\n",
              "      <td>Sahiwal</td>\n",
              "      <td>Dec 23, 1977</td>\n",
              "      <td>England</td>\n",
              "      <td>Pakistan</td>\n",
              "      <td>Home</td>\n",
              "      <td>Away</td>\n",
              "      <td>First</td>\n",
              "      <td>Second</td>\n",
              "    </tr>\n",
              "    <tr>\n",
              "      <th>42</th>\n",
              "      <td>42</td>\n",
              "      <td>ODI # 46</td>\n",
              "      <td>Pakistan</td>\n",
              "      <td>England</td>\n",
              "      <td>Winner2ndInning</td>\n",
              "      <td>Sialkot</td>\n",
              "      <td>Dec 30, 1977</td>\n",
              "      <td>England</td>\n",
              "      <td>Pakistan</td>\n",
              "      <td>Home</td>\n",
              "      <td>Away</td>\n",
              "      <td>First</td>\n",
              "      <td>Second</td>\n",
              "    </tr>\n",
              "    <tr>\n",
              "      <th>52</th>\n",
              "      <td>53</td>\n",
              "      <td>ODI # 58</td>\n",
              "      <td>Australia</td>\n",
              "      <td>England</td>\n",
              "      <td>Winner2ndInning</td>\n",
              "      <td>Melbourne</td>\n",
              "      <td>Jan 24, 1979</td>\n",
              "      <td>England</td>\n",
              "      <td>Australia</td>\n",
              "      <td>Home</td>\n",
              "      <td>Away</td>\n",
              "      <td>First</td>\n",
              "      <td>Second</td>\n",
              "    </tr>\n",
              "    <tr>\n",
              "      <th>70</th>\n",
              "      <td>71</td>\n",
              "      <td>ODI # 76</td>\n",
              "      <td>England</td>\n",
              "      <td>West Indies</td>\n",
              "      <td>Winner1stInning</td>\n",
              "      <td>Sydney</td>\n",
              "      <td>Nov 28, 1979</td>\n",
              "      <td>England</td>\n",
              "      <td>Australia</td>\n",
              "      <td>Neutral</td>\n",
              "      <td>Neutral</td>\n",
              "      <td>First</td>\n",
              "      <td>Second</td>\n",
              "    </tr>\n",
              "  </tbody>\n",
              "</table>\n",
              "</div>"
            ],
            "text/plain": [
              "    Unnamed: 0 Scorecard     Team_1  ... Venue_Team2 Innings_Team1 Innings_Team2\n",
              "14          14  ODI # 16  Australia  ...        Away         First        Second\n",
              "41          41  ODI # 45   Pakistan  ...        Away         First        Second\n",
              "42          42  ODI # 46   Pakistan  ...        Away         First        Second\n",
              "52          53  ODI # 58  Australia  ...        Away         First        Second\n",
              "70          71  ODI # 76    England  ...     Neutral         First        Second\n",
              "\n",
              "[5 rows x 13 columns]"
            ]
          },
          "metadata": {
            "tags": []
          },
          "execution_count": 14
        }
      ]
    },
    {
      "cell_type": "code",
      "metadata": {
        "id": "vTG7OMGXT7yU",
        "colab_type": "code",
        "outputId": "d7120c6f-a4dc-4291-a4a5-32f9ccca07f3",
        "colab": {
          "base_uri": "https://localhost:8080/",
          "height": 34
        }
      },
      "source": [
        "# Number of win away\n",
        "eng_w_a = df_team_Country_win_away('England').shape[0]\n",
        "eng_w_a"
      ],
      "execution_count": 15,
      "outputs": [
        {
          "output_type": "execute_result",
          "data": {
            "text/plain": [
              "366"
            ]
          },
          "metadata": {
            "tags": []
          },
          "execution_count": 15
        }
      ]
    },
    {
      "cell_type": "code",
      "metadata": {
        "id": "Yuc7Y7NscqyX",
        "colab_type": "code",
        "outputId": "0225e89a-e932-4d17-9214-c8bd30452b0a",
        "colab": {
          "base_uri": "https://localhost:8080/",
          "height": 266
        }
      },
      "source": [
        "# England lost Away\n",
        "df_team_Country_lost_away('England').head()"
      ],
      "execution_count": 16,
      "outputs": [
        {
          "output_type": "execute_result",
          "data": {
            "text/html": [
              "<div>\n",
              "<style scoped>\n",
              "    .dataframe tbody tr th:only-of-type {\n",
              "        vertical-align: middle;\n",
              "    }\n",
              "\n",
              "    .dataframe tbody tr th {\n",
              "        vertical-align: top;\n",
              "    }\n",
              "\n",
              "    .dataframe thead th {\n",
              "        text-align: right;\n",
              "    }\n",
              "</style>\n",
              "<table border=\"1\" class=\"dataframe\">\n",
              "  <thead>\n",
              "    <tr style=\"text-align: right;\">\n",
              "      <th></th>\n",
              "      <th>Unnamed: 0</th>\n",
              "      <th>Scorecard</th>\n",
              "      <th>Team_1</th>\n",
              "      <th>Team_2</th>\n",
              "      <th>Margin</th>\n",
              "      <th>Ground</th>\n",
              "      <th>Match_Date</th>\n",
              "      <th>Winner</th>\n",
              "      <th>Host_Country</th>\n",
              "      <th>Venue_Team1</th>\n",
              "      <th>Venue_Team2</th>\n",
              "      <th>Innings_Team1</th>\n",
              "      <th>Innings_Team2</th>\n",
              "    </tr>\n",
              "  </thead>\n",
              "  <tbody>\n",
              "    <tr>\n",
              "      <th>0</th>\n",
              "      <td>0</td>\n",
              "      <td>ODI # 1</td>\n",
              "      <td>Australia</td>\n",
              "      <td>England</td>\n",
              "      <td>Winner2ndInning</td>\n",
              "      <td>Melbourne</td>\n",
              "      <td>Jan 5, 1971</td>\n",
              "      <td>Australia</td>\n",
              "      <td>Australia</td>\n",
              "      <td>Home</td>\n",
              "      <td>Away</td>\n",
              "      <td>Second</td>\n",
              "      <td>First</td>\n",
              "    </tr>\n",
              "    <tr>\n",
              "      <th>43</th>\n",
              "      <td>43</td>\n",
              "      <td>ODI # 47</td>\n",
              "      <td>Pakistan</td>\n",
              "      <td>England</td>\n",
              "      <td>Winner1stInning</td>\n",
              "      <td>Lahore</td>\n",
              "      <td>Jan 13, 1978</td>\n",
              "      <td>Pakistan</td>\n",
              "      <td>Pakistan</td>\n",
              "      <td>Home</td>\n",
              "      <td>Away</td>\n",
              "      <td>First</td>\n",
              "      <td>Second</td>\n",
              "    </tr>\n",
              "    <tr>\n",
              "      <th>53</th>\n",
              "      <td>54</td>\n",
              "      <td>ODI # 59</td>\n",
              "      <td>Australia</td>\n",
              "      <td>England</td>\n",
              "      <td>Winner2ndInning</td>\n",
              "      <td>Melbourne</td>\n",
              "      <td>Feb 4, 1979</td>\n",
              "      <td>Australia</td>\n",
              "      <td>Australia</td>\n",
              "      <td>Home</td>\n",
              "      <td>Away</td>\n",
              "      <td>Second</td>\n",
              "      <td>First</td>\n",
              "    </tr>\n",
              "    <tr>\n",
              "      <th>54</th>\n",
              "      <td>55</td>\n",
              "      <td>ODI # 60</td>\n",
              "      <td>Australia</td>\n",
              "      <td>England</td>\n",
              "      <td>Winner2ndInning</td>\n",
              "      <td>Melbourne</td>\n",
              "      <td>Feb 7, 1979</td>\n",
              "      <td>Australia</td>\n",
              "      <td>Australia</td>\n",
              "      <td>Home</td>\n",
              "      <td>Away</td>\n",
              "      <td>Second</td>\n",
              "      <td>First</td>\n",
              "    </tr>\n",
              "    <tr>\n",
              "      <th>75</th>\n",
              "      <td>76</td>\n",
              "      <td>ODI # 81</td>\n",
              "      <td>England</td>\n",
              "      <td>West Indies</td>\n",
              "      <td>Winner2ndInning</td>\n",
              "      <td>Brisbane</td>\n",
              "      <td>Dec 23, 1979</td>\n",
              "      <td>West Indies</td>\n",
              "      <td>Australia</td>\n",
              "      <td>Neutral</td>\n",
              "      <td>Neutral</td>\n",
              "      <td>First</td>\n",
              "      <td>Second</td>\n",
              "    </tr>\n",
              "  </tbody>\n",
              "</table>\n",
              "</div>"
            ],
            "text/plain": [
              "    Unnamed: 0 Scorecard     Team_1  ... Venue_Team2 Innings_Team1 Innings_Team2\n",
              "0            0   ODI # 1  Australia  ...        Away        Second         First\n",
              "43          43  ODI # 47   Pakistan  ...        Away         First        Second\n",
              "53          54  ODI # 59  Australia  ...        Away        Second         First\n",
              "54          55  ODI # 60  Australia  ...        Away        Second         First\n",
              "75          76  ODI # 81    England  ...     Neutral         First        Second\n",
              "\n",
              "[5 rows x 13 columns]"
            ]
          },
          "metadata": {
            "tags": []
          },
          "execution_count": 16
        }
      ]
    },
    {
      "cell_type": "code",
      "metadata": {
        "id": "vvWcc6txT-ds",
        "colab_type": "code",
        "outputId": "bc968883-11dc-4e87-8973-f6cdcbf87164",
        "colab": {
          "base_uri": "https://localhost:8080/",
          "height": 34
        }
      },
      "source": [
        "# Number of loss away\n",
        "eng_l_a = df_team_Country_lost_away('England').shape[0]\n",
        "eng_l_a"
      ],
      "execution_count": 17,
      "outputs": [
        {
          "output_type": "execute_result",
          "data": {
            "text/plain": [
              "422"
            ]
          },
          "metadata": {
            "tags": []
          },
          "execution_count": 17
        }
      ]
    },
    {
      "cell_type": "code",
      "metadata": {
        "id": "Op65MCcYC9Ax",
        "colab_type": "code",
        "outputId": "8e2ae31a-71af-41b4-f4b6-d86bb4d708bd",
        "colab": {
          "base_uri": "https://localhost:8080/",
          "height": 34
        }
      },
      "source": [
        "# Winning ratio away****************************\n",
        "eng_w_a_r = round(((eng_w_a) / (eng_w_a + eng_l_a)) * 100, 2)\n",
        "eng_w_a_r"
      ],
      "execution_count": 18,
      "outputs": [
        {
          "output_type": "execute_result",
          "data": {
            "text/plain": [
              "46.45"
            ]
          },
          "metadata": {
            "tags": []
          },
          "execution_count": 18
        }
      ]
    },
    {
      "cell_type": "markdown",
      "metadata": {
        "id": "njpYdwBAcFK4",
        "colab_type": "text"
      },
      "source": [
        "# India"
      ]
    },
    {
      "cell_type": "code",
      "metadata": {
        "id": "B_Nak7YFc7Q0",
        "colab_type": "code",
        "outputId": "a893b7a1-bf64-4d19-93c6-83c8d1e08ee5",
        "colab": {
          "base_uri": "https://localhost:8080/",
          "height": 316
        }
      },
      "source": [
        "# India won at home\n",
        "df_team_Country_win_home('India').head()"
      ],
      "execution_count": 19,
      "outputs": [
        {
          "output_type": "execute_result",
          "data": {
            "text/html": [
              "<div>\n",
              "<style scoped>\n",
              "    .dataframe tbody tr th:only-of-type {\n",
              "        vertical-align: middle;\n",
              "    }\n",
              "\n",
              "    .dataframe tbody tr th {\n",
              "        vertical-align: top;\n",
              "    }\n",
              "\n",
              "    .dataframe thead th {\n",
              "        text-align: right;\n",
              "    }\n",
              "</style>\n",
              "<table border=\"1\" class=\"dataframe\">\n",
              "  <thead>\n",
              "    <tr style=\"text-align: right;\">\n",
              "      <th></th>\n",
              "      <th>Unnamed: 0</th>\n",
              "      <th>Scorecard</th>\n",
              "      <th>Team_1</th>\n",
              "      <th>Team_2</th>\n",
              "      <th>Margin</th>\n",
              "      <th>Ground</th>\n",
              "      <th>Match_Date</th>\n",
              "      <th>Winner</th>\n",
              "      <th>Host_Country</th>\n",
              "      <th>Venue_Team1</th>\n",
              "      <th>Venue_Team2</th>\n",
              "      <th>Innings_Team1</th>\n",
              "      <th>Innings_Team2</th>\n",
              "    </tr>\n",
              "  </thead>\n",
              "  <tbody>\n",
              "    <tr>\n",
              "      <th>124</th>\n",
              "      <td>125</td>\n",
              "      <td>ODI # 131</td>\n",
              "      <td>India</td>\n",
              "      <td>England</td>\n",
              "      <td>Winner2ndInning</td>\n",
              "      <td>Jalandhar</td>\n",
              "      <td>Dec 20, 1981</td>\n",
              "      <td>India</td>\n",
              "      <td>India</td>\n",
              "      <td>Home</td>\n",
              "      <td>Away</td>\n",
              "      <td>Second</td>\n",
              "      <td>First</td>\n",
              "    </tr>\n",
              "    <tr>\n",
              "      <th>136</th>\n",
              "      <td>137</td>\n",
              "      <td>ODI # 143</td>\n",
              "      <td>India</td>\n",
              "      <td>England</td>\n",
              "      <td>Winner2ndInning</td>\n",
              "      <td>Cuttack</td>\n",
              "      <td>Jan 27, 1982</td>\n",
              "      <td>India</td>\n",
              "      <td>India</td>\n",
              "      <td>Home</td>\n",
              "      <td>Away</td>\n",
              "      <td>Second</td>\n",
              "      <td>First</td>\n",
              "    </tr>\n",
              "    <tr>\n",
              "      <th>149</th>\n",
              "      <td>150</td>\n",
              "      <td>ODI # 156</td>\n",
              "      <td>India</td>\n",
              "      <td>Sri Lanka</td>\n",
              "      <td>Winner1stInning</td>\n",
              "      <td>Amritsar</td>\n",
              "      <td>Sep 12, 1982</td>\n",
              "      <td>India</td>\n",
              "      <td>India</td>\n",
              "      <td>Home</td>\n",
              "      <td>Away</td>\n",
              "      <td>First</td>\n",
              "      <td>Second</td>\n",
              "    </tr>\n",
              "    <tr>\n",
              "      <th>150</th>\n",
              "      <td>151</td>\n",
              "      <td>ODI # 157</td>\n",
              "      <td>India</td>\n",
              "      <td>Sri Lanka</td>\n",
              "      <td>Winner2ndInning</td>\n",
              "      <td>Delhi</td>\n",
              "      <td>Sep 15, 1982</td>\n",
              "      <td>India</td>\n",
              "      <td>India</td>\n",
              "      <td>Home</td>\n",
              "      <td>Away</td>\n",
              "      <td>Second</td>\n",
              "      <td>First</td>\n",
              "    </tr>\n",
              "    <tr>\n",
              "      <th>152</th>\n",
              "      <td>153</td>\n",
              "      <td>ODI # 159</td>\n",
              "      <td>India</td>\n",
              "      <td>Sri Lanka</td>\n",
              "      <td>Winner2ndInning</td>\n",
              "      <td>Bengaluru</td>\n",
              "      <td>Sep 26, 1982</td>\n",
              "      <td>India</td>\n",
              "      <td>India</td>\n",
              "      <td>Home</td>\n",
              "      <td>Away</td>\n",
              "      <td>Second</td>\n",
              "      <td>First</td>\n",
              "    </tr>\n",
              "  </tbody>\n",
              "</table>\n",
              "</div>"
            ],
            "text/plain": [
              "     Unnamed: 0  Scorecard Team_1  ... Venue_Team2 Innings_Team1 Innings_Team2\n",
              "124         125  ODI # 131  India  ...        Away        Second         First\n",
              "136         137  ODI # 143  India  ...        Away        Second         First\n",
              "149         150  ODI # 156  India  ...        Away         First        Second\n",
              "150         151  ODI # 157  India  ...        Away        Second         First\n",
              "152         153  ODI # 159  India  ...        Away        Second         First\n",
              "\n",
              "[5 rows x 13 columns]"
            ]
          },
          "metadata": {
            "tags": []
          },
          "execution_count": 19
        }
      ]
    },
    {
      "cell_type": "code",
      "metadata": {
        "id": "d2LLhxTnUFR4",
        "colab_type": "code",
        "outputId": "6f65853a-7114-48d8-bd90-db663dd9f331",
        "colab": {
          "base_uri": "https://localhost:8080/",
          "height": 34
        }
      },
      "source": [
        "# Number of win at home\n",
        "ind_w_h = df_team_Country_win_home('India').shape[0]\n",
        "ind_w_h"
      ],
      "execution_count": 20,
      "outputs": [
        {
          "output_type": "execute_result",
          "data": {
            "text/plain": [
              "358"
            ]
          },
          "metadata": {
            "tags": []
          },
          "execution_count": 20
        }
      ]
    },
    {
      "cell_type": "code",
      "metadata": {
        "id": "5gMAegjJc7Ul",
        "colab_type": "code",
        "outputId": "09282e00-93d1-47ae-be49-c9115edf047b",
        "colab": {
          "base_uri": "https://localhost:8080/",
          "height": 316
        }
      },
      "source": [
        "# India lost at home\n",
        "df_team_Country_lost_home('India').head()"
      ],
      "execution_count": 21,
      "outputs": [
        {
          "output_type": "execute_result",
          "data": {
            "text/html": [
              "<div>\n",
              "<style scoped>\n",
              "    .dataframe tbody tr th:only-of-type {\n",
              "        vertical-align: middle;\n",
              "    }\n",
              "\n",
              "    .dataframe tbody tr th {\n",
              "        vertical-align: top;\n",
              "    }\n",
              "\n",
              "    .dataframe thead th {\n",
              "        text-align: right;\n",
              "    }\n",
              "</style>\n",
              "<table border=\"1\" class=\"dataframe\">\n",
              "  <thead>\n",
              "    <tr style=\"text-align: right;\">\n",
              "      <th></th>\n",
              "      <th>Unnamed: 0</th>\n",
              "      <th>Scorecard</th>\n",
              "      <th>Team_1</th>\n",
              "      <th>Team_2</th>\n",
              "      <th>Margin</th>\n",
              "      <th>Ground</th>\n",
              "      <th>Match_Date</th>\n",
              "      <th>Winner</th>\n",
              "      <th>Host_Country</th>\n",
              "      <th>Venue_Team1</th>\n",
              "      <th>Venue_Team2</th>\n",
              "      <th>Innings_Team1</th>\n",
              "      <th>Innings_Team2</th>\n",
              "    </tr>\n",
              "  </thead>\n",
              "  <tbody>\n",
              "    <tr>\n",
              "      <th>118</th>\n",
              "      <td>119</td>\n",
              "      <td>ODI # 125</td>\n",
              "      <td>India</td>\n",
              "      <td>England</td>\n",
              "      <td>Winner2ndInning</td>\n",
              "      <td>Ahmedabad</td>\n",
              "      <td>Nov 25, 1981</td>\n",
              "      <td>England</td>\n",
              "      <td>India</td>\n",
              "      <td>Home</td>\n",
              "      <td>Away</td>\n",
              "      <td>First</td>\n",
              "      <td>Second</td>\n",
              "    </tr>\n",
              "    <tr>\n",
              "      <th>216</th>\n",
              "      <td>217</td>\n",
              "      <td>ODI # 226</td>\n",
              "      <td>India</td>\n",
              "      <td>West Indies</td>\n",
              "      <td>Winner1stInning</td>\n",
              "      <td>Srinagar</td>\n",
              "      <td>Oct 13, 1983</td>\n",
              "      <td>West Indies</td>\n",
              "      <td>India</td>\n",
              "      <td>Home</td>\n",
              "      <td>Away</td>\n",
              "      <td>Second</td>\n",
              "      <td>First</td>\n",
              "    </tr>\n",
              "    <tr>\n",
              "      <th>217</th>\n",
              "      <td>218</td>\n",
              "      <td>ODI # 227</td>\n",
              "      <td>India</td>\n",
              "      <td>West Indies</td>\n",
              "      <td>Winner2ndInning</td>\n",
              "      <td>Vadodara</td>\n",
              "      <td>Nov 9, 1983</td>\n",
              "      <td>West Indies</td>\n",
              "      <td>India</td>\n",
              "      <td>Home</td>\n",
              "      <td>Away</td>\n",
              "      <td>First</td>\n",
              "      <td>Second</td>\n",
              "    </tr>\n",
              "    <tr>\n",
              "      <th>218</th>\n",
              "      <td>219</td>\n",
              "      <td>ODI # 228</td>\n",
              "      <td>India</td>\n",
              "      <td>West Indies</td>\n",
              "      <td>Winner2ndInning</td>\n",
              "      <td>Indore</td>\n",
              "      <td>Dec 1, 1983</td>\n",
              "      <td>West Indies</td>\n",
              "      <td>India</td>\n",
              "      <td>Home</td>\n",
              "      <td>Away</td>\n",
              "      <td>First</td>\n",
              "      <td>Second</td>\n",
              "    </tr>\n",
              "    <tr>\n",
              "      <th>219</th>\n",
              "      <td>220</td>\n",
              "      <td>ODI # 229</td>\n",
              "      <td>India</td>\n",
              "      <td>West Indies</td>\n",
              "      <td>Winner1stInning</td>\n",
              "      <td>Jamshedpur</td>\n",
              "      <td>Dec 7, 1983</td>\n",
              "      <td>West Indies</td>\n",
              "      <td>India</td>\n",
              "      <td>Home</td>\n",
              "      <td>Away</td>\n",
              "      <td>Second</td>\n",
              "      <td>First</td>\n",
              "    </tr>\n",
              "  </tbody>\n",
              "</table>\n",
              "</div>"
            ],
            "text/plain": [
              "     Unnamed: 0  Scorecard Team_1  ... Venue_Team2 Innings_Team1 Innings_Team2\n",
              "118         119  ODI # 125  India  ...        Away         First        Second\n",
              "216         217  ODI # 226  India  ...        Away        Second         First\n",
              "217         218  ODI # 227  India  ...        Away         First        Second\n",
              "218         219  ODI # 228  India  ...        Away         First        Second\n",
              "219         220  ODI # 229  India  ...        Away        Second         First\n",
              "\n",
              "[5 rows x 13 columns]"
            ]
          },
          "metadata": {
            "tags": []
          },
          "execution_count": 21
        }
      ]
    },
    {
      "cell_type": "code",
      "metadata": {
        "id": "VGvCODe5UP2U",
        "colab_type": "code",
        "outputId": "c269b37e-3abc-4b36-dd0a-2680ca7b60e4",
        "colab": {
          "base_uri": "https://localhost:8080/",
          "height": 34
        }
      },
      "source": [
        "# Number of loss at home\n",
        "ind_l_h = df_team_Country_lost_home('India').shape[0]\n",
        "ind_l_h"
      ],
      "execution_count": 22,
      "outputs": [
        {
          "output_type": "execute_result",
          "data": {
            "text/plain": [
              "232"
            ]
          },
          "metadata": {
            "tags": []
          },
          "execution_count": 22
        }
      ]
    },
    {
      "cell_type": "code",
      "metadata": {
        "id": "O0mDPt6xEgPk",
        "colab_type": "code",
        "outputId": "129a1d3d-304e-4233-fbb8-c33aaf0521f1",
        "colab": {
          "base_uri": "https://localhost:8080/",
          "height": 34
        }
      },
      "source": [
        "# Winning ratio at home*********************\n",
        "ind_w_h_r = round(((ind_w_h) / (ind_w_h + ind_l_h)) * 100, 2)\n",
        "ind_w_h_r"
      ],
      "execution_count": 23,
      "outputs": [
        {
          "output_type": "execute_result",
          "data": {
            "text/plain": [
              "60.68"
            ]
          },
          "metadata": {
            "tags": []
          },
          "execution_count": 23
        }
      ]
    },
    {
      "cell_type": "code",
      "metadata": {
        "id": "IufjMsq8c7YU",
        "colab_type": "code",
        "outputId": "fa3ed985-d6c8-42b8-954b-3d0f0000b87c",
        "colab": {
          "base_uri": "https://localhost:8080/",
          "height": 282
        }
      },
      "source": [
        "# India won away\n",
        "df_team_Country_win_away('India').head()"
      ],
      "execution_count": 24,
      "outputs": [
        {
          "output_type": "execute_result",
          "data": {
            "text/html": [
              "<div>\n",
              "<style scoped>\n",
              "    .dataframe tbody tr th:only-of-type {\n",
              "        vertical-align: middle;\n",
              "    }\n",
              "\n",
              "    .dataframe tbody tr th {\n",
              "        vertical-align: top;\n",
              "    }\n",
              "\n",
              "    .dataframe thead th {\n",
              "        text-align: right;\n",
              "    }\n",
              "</style>\n",
              "<table border=\"1\" class=\"dataframe\">\n",
              "  <thead>\n",
              "    <tr style=\"text-align: right;\">\n",
              "      <th></th>\n",
              "      <th>Unnamed: 0</th>\n",
              "      <th>Scorecard</th>\n",
              "      <th>Team_1</th>\n",
              "      <th>Team_2</th>\n",
              "      <th>Margin</th>\n",
              "      <th>Ground</th>\n",
              "      <th>Match_Date</th>\n",
              "      <th>Winner</th>\n",
              "      <th>Host_Country</th>\n",
              "      <th>Venue_Team1</th>\n",
              "      <th>Venue_Team2</th>\n",
              "      <th>Innings_Team1</th>\n",
              "      <th>Innings_Team2</th>\n",
              "    </tr>\n",
              "  </thead>\n",
              "  <tbody>\n",
              "    <tr>\n",
              "      <th>20</th>\n",
              "      <td>20</td>\n",
              "      <td>ODI # 24</td>\n",
              "      <td>East Africa</td>\n",
              "      <td>India</td>\n",
              "      <td>Winner2ndInning</td>\n",
              "      <td>Leeds</td>\n",
              "      <td>Jun 11, 1975</td>\n",
              "      <td>India</td>\n",
              "      <td>England</td>\n",
              "      <td>Neutral</td>\n",
              "      <td>Neutral</td>\n",
              "      <td>First</td>\n",
              "      <td>Second</td>\n",
              "    </tr>\n",
              "    <tr>\n",
              "      <th>50</th>\n",
              "      <td>50</td>\n",
              "      <td>ODI # 54</td>\n",
              "      <td>Pakistan</td>\n",
              "      <td>India</td>\n",
              "      <td>Winner1stInning</td>\n",
              "      <td>Quetta</td>\n",
              "      <td>Oct 1, 1978</td>\n",
              "      <td>India</td>\n",
              "      <td>Pakistan</td>\n",
              "      <td>Home</td>\n",
              "      <td>Away</td>\n",
              "      <td>Second</td>\n",
              "      <td>First</td>\n",
              "    </tr>\n",
              "    <tr>\n",
              "      <th>91</th>\n",
              "      <td>92</td>\n",
              "      <td>ODI # 97</td>\n",
              "      <td>Australia</td>\n",
              "      <td>India</td>\n",
              "      <td>Winner1stInning</td>\n",
              "      <td>Melbourne</td>\n",
              "      <td>Dec 6, 1980</td>\n",
              "      <td>India</td>\n",
              "      <td>Australia</td>\n",
              "      <td>Home</td>\n",
              "      <td>Away</td>\n",
              "      <td>Second</td>\n",
              "      <td>First</td>\n",
              "    </tr>\n",
              "    <tr>\n",
              "      <th>93</th>\n",
              "      <td>94</td>\n",
              "      <td>ODI # 99</td>\n",
              "      <td>India</td>\n",
              "      <td>New Zealand</td>\n",
              "      <td>Winner1stInning</td>\n",
              "      <td>Perth</td>\n",
              "      <td>Dec 9, 1980</td>\n",
              "      <td>India</td>\n",
              "      <td>Australia</td>\n",
              "      <td>Neutral</td>\n",
              "      <td>Neutral</td>\n",
              "      <td>First</td>\n",
              "      <td>Second</td>\n",
              "    </tr>\n",
              "    <tr>\n",
              "      <th>97</th>\n",
              "      <td>98</td>\n",
              "      <td>ODI # 103</td>\n",
              "      <td>India</td>\n",
              "      <td>New Zealand</td>\n",
              "      <td>Winner1stInning</td>\n",
              "      <td>Adelaide</td>\n",
              "      <td>Dec 23, 1980</td>\n",
              "      <td>India</td>\n",
              "      <td>Australia</td>\n",
              "      <td>Neutral</td>\n",
              "      <td>Neutral</td>\n",
              "      <td>First</td>\n",
              "      <td>Second</td>\n",
              "    </tr>\n",
              "  </tbody>\n",
              "</table>\n",
              "</div>"
            ],
            "text/plain": [
              "    Unnamed: 0  Scorecard       Team_1  ... Venue_Team2 Innings_Team1 Innings_Team2\n",
              "20          20   ODI # 24  East Africa  ...     Neutral         First        Second\n",
              "50          50   ODI # 54     Pakistan  ...        Away        Second         First\n",
              "91          92   ODI # 97    Australia  ...        Away        Second         First\n",
              "93          94   ODI # 99        India  ...     Neutral         First        Second\n",
              "97          98  ODI # 103        India  ...     Neutral         First        Second\n",
              "\n",
              "[5 rows x 13 columns]"
            ]
          },
          "metadata": {
            "tags": []
          },
          "execution_count": 24
        }
      ]
    },
    {
      "cell_type": "code",
      "metadata": {
        "id": "zOtvDqlYULZM",
        "colab_type": "code",
        "outputId": "36bb81d7-8696-459a-f3ad-34b1ec66ce42",
        "colab": {
          "base_uri": "https://localhost:8080/",
          "height": 34
        }
      },
      "source": [
        "# Number of win away\n",
        "ind_w_a = df_team_Country_win_away('India').shape[0]\n",
        "ind_w_a"
      ],
      "execution_count": 25,
      "outputs": [
        {
          "output_type": "execute_result",
          "data": {
            "text/plain": [
              "592"
            ]
          },
          "metadata": {
            "tags": []
          },
          "execution_count": 25
        }
      ]
    },
    {
      "cell_type": "code",
      "metadata": {
        "id": "wYHkc6Oqc7bt",
        "colab_type": "code",
        "outputId": "d7d8c4c3-3f10-4cac-cabb-9e7dc076bd5e",
        "colab": {
          "base_uri": "https://localhost:8080/",
          "height": 282
        }
      },
      "source": [
        "# India lost Away\n",
        "df_team_Country_lost_away('India').head()"
      ],
      "execution_count": 26,
      "outputs": [
        {
          "output_type": "execute_result",
          "data": {
            "text/html": [
              "<div>\n",
              "<style scoped>\n",
              "    .dataframe tbody tr th:only-of-type {\n",
              "        vertical-align: middle;\n",
              "    }\n",
              "\n",
              "    .dataframe tbody tr th {\n",
              "        vertical-align: top;\n",
              "    }\n",
              "\n",
              "    .dataframe thead th {\n",
              "        text-align: right;\n",
              "    }\n",
              "</style>\n",
              "<table border=\"1\" class=\"dataframe\">\n",
              "  <thead>\n",
              "    <tr style=\"text-align: right;\">\n",
              "      <th></th>\n",
              "      <th>Unnamed: 0</th>\n",
              "      <th>Scorecard</th>\n",
              "      <th>Team_1</th>\n",
              "      <th>Team_2</th>\n",
              "      <th>Margin</th>\n",
              "      <th>Ground</th>\n",
              "      <th>Match_Date</th>\n",
              "      <th>Winner</th>\n",
              "      <th>Host_Country</th>\n",
              "      <th>Venue_Team1</th>\n",
              "      <th>Venue_Team2</th>\n",
              "      <th>Innings_Team1</th>\n",
              "      <th>Innings_Team2</th>\n",
              "    </tr>\n",
              "  </thead>\n",
              "  <tbody>\n",
              "    <tr>\n",
              "      <th>10</th>\n",
              "      <td>10</td>\n",
              "      <td>ODI # 12</td>\n",
              "      <td>England</td>\n",
              "      <td>India</td>\n",
              "      <td>Winner2ndInning</td>\n",
              "      <td>Leeds</td>\n",
              "      <td>Jul 13, 1974</td>\n",
              "      <td>England</td>\n",
              "      <td>England</td>\n",
              "      <td>Home</td>\n",
              "      <td>Away</td>\n",
              "      <td>Second</td>\n",
              "      <td>First</td>\n",
              "    </tr>\n",
              "    <tr>\n",
              "      <th>11</th>\n",
              "      <td>11</td>\n",
              "      <td>ODI # 13</td>\n",
              "      <td>England</td>\n",
              "      <td>India</td>\n",
              "      <td>Winner2ndInning</td>\n",
              "      <td>The Oval</td>\n",
              "      <td>Jul 15-16, 1974</td>\n",
              "      <td>England</td>\n",
              "      <td>England</td>\n",
              "      <td>Home</td>\n",
              "      <td>Away</td>\n",
              "      <td>Second</td>\n",
              "      <td>First</td>\n",
              "    </tr>\n",
              "    <tr>\n",
              "      <th>15</th>\n",
              "      <td>15</td>\n",
              "      <td>ODI # 19</td>\n",
              "      <td>England</td>\n",
              "      <td>India</td>\n",
              "      <td>Winner1stInning</td>\n",
              "      <td>Lord's</td>\n",
              "      <td>Jun 7, 1975</td>\n",
              "      <td>England</td>\n",
              "      <td>England</td>\n",
              "      <td>Home</td>\n",
              "      <td>Away</td>\n",
              "      <td>First</td>\n",
              "      <td>Second</td>\n",
              "    </tr>\n",
              "    <tr>\n",
              "      <th>24</th>\n",
              "      <td>24</td>\n",
              "      <td>ODI # 28</td>\n",
              "      <td>India</td>\n",
              "      <td>New Zealand</td>\n",
              "      <td>Winner2ndInning</td>\n",
              "      <td>Manchester</td>\n",
              "      <td>Jun 14, 1975</td>\n",
              "      <td>New Zealand</td>\n",
              "      <td>England</td>\n",
              "      <td>Neutral</td>\n",
              "      <td>Neutral</td>\n",
              "      <td>First</td>\n",
              "      <td>Second</td>\n",
              "    </tr>\n",
              "    <tr>\n",
              "      <th>31</th>\n",
              "      <td>31</td>\n",
              "      <td>ODI # 35</td>\n",
              "      <td>New Zealand</td>\n",
              "      <td>India</td>\n",
              "      <td>Winner2ndInning</td>\n",
              "      <td>Christchurch</td>\n",
              "      <td>Feb 21, 1976</td>\n",
              "      <td>New Zealand</td>\n",
              "      <td>New Zealand</td>\n",
              "      <td>Home</td>\n",
              "      <td>Away</td>\n",
              "      <td>Second</td>\n",
              "      <td>First</td>\n",
              "    </tr>\n",
              "  </tbody>\n",
              "</table>\n",
              "</div>"
            ],
            "text/plain": [
              "    Unnamed: 0 Scorecard       Team_1  ... Venue_Team2 Innings_Team1 Innings_Team2\n",
              "10          10  ODI # 12      England  ...        Away        Second         First\n",
              "11          11  ODI # 13      England  ...        Away        Second         First\n",
              "15          15  ODI # 19      England  ...        Away         First        Second\n",
              "24          24  ODI # 28        India  ...     Neutral         First        Second\n",
              "31          31  ODI # 35  New Zealand  ...        Away        Second         First\n",
              "\n",
              "[5 rows x 13 columns]"
            ]
          },
          "metadata": {
            "tags": []
          },
          "execution_count": 26
        }
      ]
    },
    {
      "cell_type": "code",
      "metadata": {
        "id": "SEgItIWQUXvl",
        "colab_type": "code",
        "outputId": "147c27c4-705b-47ce-db9b-49639deaa2b1",
        "colab": {
          "base_uri": "https://localhost:8080/",
          "height": 34
        }
      },
      "source": [
        "# Number of loss away\n",
        "ind_l_a = df_team_Country_lost_away('India').shape[0]\n",
        "ind_l_a"
      ],
      "execution_count": 27,
      "outputs": [
        {
          "output_type": "execute_result",
          "data": {
            "text/plain": [
              "578"
            ]
          },
          "metadata": {
            "tags": []
          },
          "execution_count": 27
        }
      ]
    },
    {
      "cell_type": "code",
      "metadata": {
        "id": "OT3xOLLEHkOZ",
        "colab_type": "code",
        "outputId": "1ed971b4-91cb-4b3a-a232-22a401893025",
        "colab": {
          "base_uri": "https://localhost:8080/",
          "height": 34
        }
      },
      "source": [
        "# Winning ratio away****************************\n",
        "ind_w_a_r = round(((ind_w_a) / (ind_w_a + ind_l_a)) * 100, 2)\n",
        "ind_w_a_r"
      ],
      "execution_count": 28,
      "outputs": [
        {
          "output_type": "execute_result",
          "data": {
            "text/plain": [
              "50.6"
            ]
          },
          "metadata": {
            "tags": []
          },
          "execution_count": 28
        }
      ]
    },
    {
      "cell_type": "markdown",
      "metadata": {
        "id": "BxHFb252cI9-",
        "colab_type": "text"
      },
      "source": [
        "# New Zealand"
      ]
    },
    {
      "cell_type": "code",
      "metadata": {
        "id": "uO2jgHZOc8Aa",
        "colab_type": "code",
        "outputId": "6f12283a-985c-4746-a059-ed2b532d3826",
        "colab": {
          "base_uri": "https://localhost:8080/",
          "height": 316
        }
      },
      "source": [
        "# New Zealand won at home\n",
        "df_team_Country_win_home('New Zealand').head()"
      ],
      "execution_count": 29,
      "outputs": [
        {
          "output_type": "execute_result",
          "data": {
            "text/html": [
              "<div>\n",
              "<style scoped>\n",
              "    .dataframe tbody tr th:only-of-type {\n",
              "        vertical-align: middle;\n",
              "    }\n",
              "\n",
              "    .dataframe tbody tr th {\n",
              "        vertical-align: top;\n",
              "    }\n",
              "\n",
              "    .dataframe thead th {\n",
              "        text-align: right;\n",
              "    }\n",
              "</style>\n",
              "<table border=\"1\" class=\"dataframe\">\n",
              "  <thead>\n",
              "    <tr style=\"text-align: right;\">\n",
              "      <th></th>\n",
              "      <th>Unnamed: 0</th>\n",
              "      <th>Scorecard</th>\n",
              "      <th>Team_1</th>\n",
              "      <th>Team_2</th>\n",
              "      <th>Margin</th>\n",
              "      <th>Ground</th>\n",
              "      <th>Match_Date</th>\n",
              "      <th>Winner</th>\n",
              "      <th>Host_Country</th>\n",
              "      <th>Venue_Team1</th>\n",
              "      <th>Venue_Team2</th>\n",
              "      <th>Innings_Team1</th>\n",
              "      <th>Innings_Team2</th>\n",
              "    </tr>\n",
              "  </thead>\n",
              "  <tbody>\n",
              "    <tr>\n",
              "      <th>4</th>\n",
              "      <td>4</td>\n",
              "      <td>ODI # 5</td>\n",
              "      <td>New Zealand</td>\n",
              "      <td>Pakistan</td>\n",
              "      <td>Winner1stInning</td>\n",
              "      <td>Christchurch</td>\n",
              "      <td>Feb 11, 1973</td>\n",
              "      <td>New Zealand</td>\n",
              "      <td>New Zealand</td>\n",
              "      <td>Home</td>\n",
              "      <td>Away</td>\n",
              "      <td>First</td>\n",
              "      <td>Second</td>\n",
              "    </tr>\n",
              "    <tr>\n",
              "      <th>31</th>\n",
              "      <td>31</td>\n",
              "      <td>ODI # 35</td>\n",
              "      <td>New Zealand</td>\n",
              "      <td>India</td>\n",
              "      <td>Winner2ndInning</td>\n",
              "      <td>Christchurch</td>\n",
              "      <td>Feb 21, 1976</td>\n",
              "      <td>New Zealand</td>\n",
              "      <td>New Zealand</td>\n",
              "      <td>Home</td>\n",
              "      <td>Away</td>\n",
              "      <td>Second</td>\n",
              "      <td>First</td>\n",
              "    </tr>\n",
              "    <tr>\n",
              "      <th>32</th>\n",
              "      <td>32</td>\n",
              "      <td>ODI # 36</td>\n",
              "      <td>New Zealand</td>\n",
              "      <td>India</td>\n",
              "      <td>Winner1stInning</td>\n",
              "      <td>Auckland</td>\n",
              "      <td>Feb 22, 1976</td>\n",
              "      <td>New Zealand</td>\n",
              "      <td>New Zealand</td>\n",
              "      <td>Home</td>\n",
              "      <td>Away</td>\n",
              "      <td>First</td>\n",
              "      <td>Second</td>\n",
              "    </tr>\n",
              "    <tr>\n",
              "      <th>82</th>\n",
              "      <td>83</td>\n",
              "      <td>ODI # 88</td>\n",
              "      <td>New Zealand</td>\n",
              "      <td>West Indies</td>\n",
              "      <td>Winner2ndInning</td>\n",
              "      <td>Christchurch</td>\n",
              "      <td>Feb 6, 1980</td>\n",
              "      <td>New Zealand</td>\n",
              "      <td>New Zealand</td>\n",
              "      <td>Home</td>\n",
              "      <td>Away</td>\n",
              "      <td>Second</td>\n",
              "      <td>First</td>\n",
              "    </tr>\n",
              "    <tr>\n",
              "      <th>109</th>\n",
              "      <td>110</td>\n",
              "      <td>ODI # 116</td>\n",
              "      <td>New Zealand</td>\n",
              "      <td>India</td>\n",
              "      <td>Winner1stInning</td>\n",
              "      <td>Auckland</td>\n",
              "      <td>Feb 14, 1981</td>\n",
              "      <td>New Zealand</td>\n",
              "      <td>New Zealand</td>\n",
              "      <td>Home</td>\n",
              "      <td>Away</td>\n",
              "      <td>First</td>\n",
              "      <td>Second</td>\n",
              "    </tr>\n",
              "  </tbody>\n",
              "</table>\n",
              "</div>"
            ],
            "text/plain": [
              "     Unnamed: 0  Scorecard       Team_1  ... Venue_Team2 Innings_Team1 Innings_Team2\n",
              "4             4    ODI # 5  New Zealand  ...        Away         First        Second\n",
              "31           31   ODI # 35  New Zealand  ...        Away        Second         First\n",
              "32           32   ODI # 36  New Zealand  ...        Away         First        Second\n",
              "82           83   ODI # 88  New Zealand  ...        Away        Second         First\n",
              "109         110  ODI # 116  New Zealand  ...        Away         First        Second\n",
              "\n",
              "[5 rows x 13 columns]"
            ]
          },
          "metadata": {
            "tags": []
          },
          "execution_count": 29
        }
      ]
    },
    {
      "cell_type": "code",
      "metadata": {
        "id": "GBmOO58HUbv1",
        "colab_type": "code",
        "outputId": "1c1b93bb-0b80-4482-e049-2b5e814ed00a",
        "colab": {
          "base_uri": "https://localhost:8080/",
          "height": 34
        }
      },
      "source": [
        "# Number of win at home\n",
        "nz_w_h = df_team_Country_win_home('New Zealand').shape[0]\n",
        "nz_w_h"
      ],
      "execution_count": 30,
      "outputs": [
        {
          "output_type": "execute_result",
          "data": {
            "text/plain": [
              "324"
            ]
          },
          "metadata": {
            "tags": []
          },
          "execution_count": 30
        }
      ]
    },
    {
      "cell_type": "code",
      "metadata": {
        "id": "LkOBDBmnc8DX",
        "colab_type": "code",
        "outputId": "aeaaf6eb-f792-4a52-b11b-f60f4f577831",
        "colab": {
          "base_uri": "https://localhost:8080/",
          "height": 316
        }
      },
      "source": [
        "# New Zealand lost at home\n",
        "df_team_Country_lost_home('New Zealand').head()"
      ],
      "execution_count": 31,
      "outputs": [
        {
          "output_type": "execute_result",
          "data": {
            "text/html": [
              "<div>\n",
              "<style scoped>\n",
              "    .dataframe tbody tr th:only-of-type {\n",
              "        vertical-align: middle;\n",
              "    }\n",
              "\n",
              "    .dataframe tbody tr th {\n",
              "        vertical-align: top;\n",
              "    }\n",
              "\n",
              "    .dataframe thead th {\n",
              "        text-align: right;\n",
              "    }\n",
              "</style>\n",
              "<table border=\"1\" class=\"dataframe\">\n",
              "  <thead>\n",
              "    <tr style=\"text-align: right;\">\n",
              "      <th></th>\n",
              "      <th>Unnamed: 0</th>\n",
              "      <th>Scorecard</th>\n",
              "      <th>Team_1</th>\n",
              "      <th>Team_2</th>\n",
              "      <th>Margin</th>\n",
              "      <th>Ground</th>\n",
              "      <th>Match_Date</th>\n",
              "      <th>Winner</th>\n",
              "      <th>Host_Country</th>\n",
              "      <th>Venue_Team1</th>\n",
              "      <th>Venue_Team2</th>\n",
              "      <th>Innings_Team1</th>\n",
              "      <th>Innings_Team2</th>\n",
              "    </tr>\n",
              "  </thead>\n",
              "  <tbody>\n",
              "    <tr>\n",
              "      <th>8</th>\n",
              "      <td>8</td>\n",
              "      <td>ODI # 10</td>\n",
              "      <td>New Zealand</td>\n",
              "      <td>Australia</td>\n",
              "      <td>Winner2ndInning</td>\n",
              "      <td>Dunedin</td>\n",
              "      <td>Mar 30, 1974</td>\n",
              "      <td>Australia</td>\n",
              "      <td>New Zealand</td>\n",
              "      <td>Home</td>\n",
              "      <td>Away</td>\n",
              "      <td>First</td>\n",
              "      <td>Second</td>\n",
              "    </tr>\n",
              "    <tr>\n",
              "      <th>9</th>\n",
              "      <td>9</td>\n",
              "      <td>ODI # 11</td>\n",
              "      <td>New Zealand</td>\n",
              "      <td>Australia</td>\n",
              "      <td>Winner1stInning</td>\n",
              "      <td>Christchurch</td>\n",
              "      <td>Mar 31, 1974</td>\n",
              "      <td>Australia</td>\n",
              "      <td>New Zealand</td>\n",
              "      <td>Home</td>\n",
              "      <td>Away</td>\n",
              "      <td>Second</td>\n",
              "      <td>First</td>\n",
              "    </tr>\n",
              "    <tr>\n",
              "      <th>140</th>\n",
              "      <td>141</td>\n",
              "      <td>ODI # 147</td>\n",
              "      <td>New Zealand</td>\n",
              "      <td>Australia</td>\n",
              "      <td>Winner2ndInning</td>\n",
              "      <td>Dunedin</td>\n",
              "      <td>Feb 17, 1982</td>\n",
              "      <td>Australia</td>\n",
              "      <td>New Zealand</td>\n",
              "      <td>Home</td>\n",
              "      <td>Away</td>\n",
              "      <td>First</td>\n",
              "      <td>Second</td>\n",
              "    </tr>\n",
              "    <tr>\n",
              "      <th>141</th>\n",
              "      <td>142</td>\n",
              "      <td>ODI # 148</td>\n",
              "      <td>New Zealand</td>\n",
              "      <td>Australia</td>\n",
              "      <td>Winner2ndInning</td>\n",
              "      <td>Wellington</td>\n",
              "      <td>Feb 20, 1982</td>\n",
              "      <td>Australia</td>\n",
              "      <td>New Zealand</td>\n",
              "      <td>Home</td>\n",
              "      <td>Away</td>\n",
              "      <td>First</td>\n",
              "      <td>Second</td>\n",
              "    </tr>\n",
              "    <tr>\n",
              "      <th>237</th>\n",
              "      <td>238</td>\n",
              "      <td>ODI # 249</td>\n",
              "      <td>New Zealand</td>\n",
              "      <td>England</td>\n",
              "      <td>Winner1stInning</td>\n",
              "      <td>Christchurch</td>\n",
              "      <td>Feb 18, 1984</td>\n",
              "      <td>England</td>\n",
              "      <td>New Zealand</td>\n",
              "      <td>Home</td>\n",
              "      <td>Away</td>\n",
              "      <td>Second</td>\n",
              "      <td>First</td>\n",
              "    </tr>\n",
              "  </tbody>\n",
              "</table>\n",
              "</div>"
            ],
            "text/plain": [
              "     Unnamed: 0  Scorecard       Team_1  ... Venue_Team2 Innings_Team1 Innings_Team2\n",
              "8             8   ODI # 10  New Zealand  ...        Away         First        Second\n",
              "9             9   ODI # 11  New Zealand  ...        Away        Second         First\n",
              "140         141  ODI # 147  New Zealand  ...        Away         First        Second\n",
              "141         142  ODI # 148  New Zealand  ...        Away         First        Second\n",
              "237         238  ODI # 249  New Zealand  ...        Away        Second         First\n",
              "\n",
              "[5 rows x 13 columns]"
            ]
          },
          "metadata": {
            "tags": []
          },
          "execution_count": 31
        }
      ]
    },
    {
      "cell_type": "code",
      "metadata": {
        "id": "dp93DNCoUeXn",
        "colab_type": "code",
        "outputId": "fb79af91-bda7-4b5c-93d5-2ab8e06748dc",
        "colab": {
          "base_uri": "https://localhost:8080/",
          "height": 34
        }
      },
      "source": [
        "# Number of loss at home\n",
        "nz_l_h = df_team_Country_lost_home('New Zealand').shape[0]\n",
        "nz_l_h"
      ],
      "execution_count": 32,
      "outputs": [
        {
          "output_type": "execute_result",
          "data": {
            "text/plain": [
              "218"
            ]
          },
          "metadata": {
            "tags": []
          },
          "execution_count": 32
        }
      ]
    },
    {
      "cell_type": "code",
      "metadata": {
        "id": "zq7AOs9asdNM",
        "colab_type": "code",
        "outputId": "77cf3341-4cf9-4bbb-ad67-106051d3d624",
        "colab": {
          "base_uri": "https://localhost:8080/",
          "height": 34
        }
      },
      "source": [
        "# Winning ratio at home********************\n",
        "nz_w_h_r = round(((nz_w_h) / (nz_w_h + nz_l_h)) * 100, 2)\n",
        "nz_w_h_r"
      ],
      "execution_count": 33,
      "outputs": [
        {
          "output_type": "execute_result",
          "data": {
            "text/plain": [
              "59.78"
            ]
          },
          "metadata": {
            "tags": []
          },
          "execution_count": 33
        }
      ]
    },
    {
      "cell_type": "code",
      "metadata": {
        "id": "msvmnsT_c8GQ",
        "colab_type": "code",
        "outputId": "140aa149-d324-4328-b0bf-a08846eac1ec",
        "colab": {
          "base_uri": "https://localhost:8080/",
          "height": 316
        }
      },
      "source": [
        "# New Zealand won away\n",
        "df_team_Country_win_away('New Zealand').head()"
      ],
      "execution_count": 34,
      "outputs": [
        {
          "output_type": "execute_result",
          "data": {
            "text/html": [
              "<div>\n",
              "<style scoped>\n",
              "    .dataframe tbody tr th:only-of-type {\n",
              "        vertical-align: middle;\n",
              "    }\n",
              "\n",
              "    .dataframe tbody tr th {\n",
              "        vertical-align: top;\n",
              "    }\n",
              "\n",
              "    .dataframe thead th {\n",
              "        text-align: right;\n",
              "    }\n",
              "</style>\n",
              "<table border=\"1\" class=\"dataframe\">\n",
              "  <thead>\n",
              "    <tr style=\"text-align: right;\">\n",
              "      <th></th>\n",
              "      <th>Unnamed: 0</th>\n",
              "      <th>Scorecard</th>\n",
              "      <th>Team_1</th>\n",
              "      <th>Team_2</th>\n",
              "      <th>Margin</th>\n",
              "      <th>Ground</th>\n",
              "      <th>Match_Date</th>\n",
              "      <th>Winner</th>\n",
              "      <th>Host_Country</th>\n",
              "      <th>Venue_Team1</th>\n",
              "      <th>Venue_Team2</th>\n",
              "      <th>Innings_Team1</th>\n",
              "      <th>Innings_Team2</th>\n",
              "    </tr>\n",
              "  </thead>\n",
              "  <tbody>\n",
              "    <tr>\n",
              "      <th>16</th>\n",
              "      <td>16</td>\n",
              "      <td>ODI # 20</td>\n",
              "      <td>East Africa</td>\n",
              "      <td>New Zealand</td>\n",
              "      <td>Winner1stInning</td>\n",
              "      <td>Birmingham</td>\n",
              "      <td>Jun 7, 1975</td>\n",
              "      <td>New Zealand</td>\n",
              "      <td>England</td>\n",
              "      <td>Neutral</td>\n",
              "      <td>Neutral</td>\n",
              "      <td>Second</td>\n",
              "      <td>First</td>\n",
              "    </tr>\n",
              "    <tr>\n",
              "      <th>24</th>\n",
              "      <td>24</td>\n",
              "      <td>ODI # 28</td>\n",
              "      <td>India</td>\n",
              "      <td>New Zealand</td>\n",
              "      <td>Winner2ndInning</td>\n",
              "      <td>Manchester</td>\n",
              "      <td>Jun 14, 1975</td>\n",
              "      <td>New Zealand</td>\n",
              "      <td>England</td>\n",
              "      <td>Neutral</td>\n",
              "      <td>Neutral</td>\n",
              "      <td>First</td>\n",
              "      <td>Second</td>\n",
              "    </tr>\n",
              "    <tr>\n",
              "      <th>36</th>\n",
              "      <td>36</td>\n",
              "      <td>ODI # 40</td>\n",
              "      <td>Pakistan</td>\n",
              "      <td>New Zealand</td>\n",
              "      <td>Winner1stInning</td>\n",
              "      <td>Sialkot</td>\n",
              "      <td>Oct 16, 1976</td>\n",
              "      <td>New Zealand</td>\n",
              "      <td>Pakistan</td>\n",
              "      <td>Home</td>\n",
              "      <td>Away</td>\n",
              "      <td>Second</td>\n",
              "      <td>First</td>\n",
              "    </tr>\n",
              "    <tr>\n",
              "      <th>56</th>\n",
              "      <td>57</td>\n",
              "      <td>ODI # 62</td>\n",
              "      <td>New Zealand</td>\n",
              "      <td>Sri Lanka</td>\n",
              "      <td>Winner2ndInning</td>\n",
              "      <td>Nottingham</td>\n",
              "      <td>Jun 9, 1979</td>\n",
              "      <td>New Zealand</td>\n",
              "      <td>England</td>\n",
              "      <td>Neutral</td>\n",
              "      <td>Neutral</td>\n",
              "      <td>Second</td>\n",
              "      <td>First</td>\n",
              "    </tr>\n",
              "    <tr>\n",
              "      <th>59</th>\n",
              "      <td>60</td>\n",
              "      <td>ODI # 65</td>\n",
              "      <td>India</td>\n",
              "      <td>New Zealand</td>\n",
              "      <td>Winner2ndInning</td>\n",
              "      <td>Leeds</td>\n",
              "      <td>Jun 13, 1979</td>\n",
              "      <td>New Zealand</td>\n",
              "      <td>England</td>\n",
              "      <td>Neutral</td>\n",
              "      <td>Neutral</td>\n",
              "      <td>First</td>\n",
              "      <td>Second</td>\n",
              "    </tr>\n",
              "  </tbody>\n",
              "</table>\n",
              "</div>"
            ],
            "text/plain": [
              "    Unnamed: 0 Scorecard       Team_1  ... Venue_Team2 Innings_Team1 Innings_Team2\n",
              "16          16  ODI # 20  East Africa  ...     Neutral        Second         First\n",
              "24          24  ODI # 28        India  ...     Neutral         First        Second\n",
              "36          36  ODI # 40     Pakistan  ...        Away        Second         First\n",
              "56          57  ODI # 62  New Zealand  ...     Neutral        Second         First\n",
              "59          60  ODI # 65        India  ...     Neutral         First        Second\n",
              "\n",
              "[5 rows x 13 columns]"
            ]
          },
          "metadata": {
            "tags": []
          },
          "execution_count": 34
        }
      ]
    },
    {
      "cell_type": "code",
      "metadata": {
        "id": "qe4Wkd4vUiJV",
        "colab_type": "code",
        "outputId": "416ab97e-f219-4b3f-c200-78a52451ba3a",
        "colab": {
          "base_uri": "https://localhost:8080/",
          "height": 34
        }
      },
      "source": [
        "# Number of win away\n",
        "nz_w_a = df_team_Country_win_away('New Zealand').shape[0]\n",
        "nz_w_a"
      ],
      "execution_count": 35,
      "outputs": [
        {
          "output_type": "execute_result",
          "data": {
            "text/plain": [
              "324"
            ]
          },
          "metadata": {
            "tags": []
          },
          "execution_count": 35
        }
      ]
    },
    {
      "cell_type": "code",
      "metadata": {
        "id": "sQOK8hp-c8Jm",
        "colab_type": "code",
        "outputId": "eff2062c-df2f-4834-bf0c-ef4f74eb854d",
        "colab": {
          "base_uri": "https://localhost:8080/",
          "height": 316
        }
      },
      "source": [
        "# New Zealand lost Away\n",
        "df_team_Country_lost_away('New Zealand').head()"
      ],
      "execution_count": 36,
      "outputs": [
        {
          "output_type": "execute_result",
          "data": {
            "text/html": [
              "<div>\n",
              "<style scoped>\n",
              "    .dataframe tbody tr th:only-of-type {\n",
              "        vertical-align: middle;\n",
              "    }\n",
              "\n",
              "    .dataframe tbody tr th {\n",
              "        vertical-align: top;\n",
              "    }\n",
              "\n",
              "    .dataframe thead th {\n",
              "        text-align: right;\n",
              "    }\n",
              "</style>\n",
              "<table border=\"1\" class=\"dataframe\">\n",
              "  <thead>\n",
              "    <tr style=\"text-align: right;\">\n",
              "      <th></th>\n",
              "      <th>Unnamed: 0</th>\n",
              "      <th>Scorecard</th>\n",
              "      <th>Team_1</th>\n",
              "      <th>Team_2</th>\n",
              "      <th>Margin</th>\n",
              "      <th>Ground</th>\n",
              "      <th>Match_Date</th>\n",
              "      <th>Winner</th>\n",
              "      <th>Host_Country</th>\n",
              "      <th>Venue_Team1</th>\n",
              "      <th>Venue_Team2</th>\n",
              "      <th>Innings_Team1</th>\n",
              "      <th>Innings_Team2</th>\n",
              "    </tr>\n",
              "  </thead>\n",
              "  <tbody>\n",
              "    <tr>\n",
              "      <th>5</th>\n",
              "      <td>5</td>\n",
              "      <td>ODI # 6</td>\n",
              "      <td>England</td>\n",
              "      <td>New Zealand</td>\n",
              "      <td>Winner2ndInning</td>\n",
              "      <td>Swansea</td>\n",
              "      <td>Jul 18, 1973</td>\n",
              "      <td>England</td>\n",
              "      <td>England</td>\n",
              "      <td>Home</td>\n",
              "      <td>Away</td>\n",
              "      <td>Second</td>\n",
              "      <td>First</td>\n",
              "    </tr>\n",
              "    <tr>\n",
              "      <th>19</th>\n",
              "      <td>19</td>\n",
              "      <td>ODI # 23</td>\n",
              "      <td>England</td>\n",
              "      <td>New Zealand</td>\n",
              "      <td>Winner1stInning</td>\n",
              "      <td>Nottingham</td>\n",
              "      <td>Jun 11, 1975</td>\n",
              "      <td>England</td>\n",
              "      <td>England</td>\n",
              "      <td>Home</td>\n",
              "      <td>Away</td>\n",
              "      <td>First</td>\n",
              "      <td>Second</td>\n",
              "    </tr>\n",
              "    <tr>\n",
              "      <th>28</th>\n",
              "      <td>28</td>\n",
              "      <td>ODI # 32</td>\n",
              "      <td>New Zealand</td>\n",
              "      <td>West Indies</td>\n",
              "      <td>Winner2ndInning</td>\n",
              "      <td>The Oval</td>\n",
              "      <td>Jun 18, 1975</td>\n",
              "      <td>West Indies</td>\n",
              "      <td>England</td>\n",
              "      <td>Neutral</td>\n",
              "      <td>Neutral</td>\n",
              "      <td>First</td>\n",
              "      <td>Second</td>\n",
              "    </tr>\n",
              "    <tr>\n",
              "      <th>48</th>\n",
              "      <td>48</td>\n",
              "      <td>ODI # 52</td>\n",
              "      <td>England</td>\n",
              "      <td>New Zealand</td>\n",
              "      <td>Winner1stInning</td>\n",
              "      <td>Scarborough</td>\n",
              "      <td>Jul 15, 1978</td>\n",
              "      <td>England</td>\n",
              "      <td>England</td>\n",
              "      <td>Home</td>\n",
              "      <td>Away</td>\n",
              "      <td>First</td>\n",
              "      <td>Second</td>\n",
              "    </tr>\n",
              "    <tr>\n",
              "      <th>49</th>\n",
              "      <td>49</td>\n",
              "      <td>ODI # 53</td>\n",
              "      <td>England</td>\n",
              "      <td>New Zealand</td>\n",
              "      <td>Winner1stInning</td>\n",
              "      <td>Manchester</td>\n",
              "      <td>Jul 17, 1978</td>\n",
              "      <td>England</td>\n",
              "      <td>England</td>\n",
              "      <td>Home</td>\n",
              "      <td>Away</td>\n",
              "      <td>First</td>\n",
              "      <td>Second</td>\n",
              "    </tr>\n",
              "  </tbody>\n",
              "</table>\n",
              "</div>"
            ],
            "text/plain": [
              "    Unnamed: 0 Scorecard       Team_1  ... Venue_Team2 Innings_Team1 Innings_Team2\n",
              "5            5   ODI # 6      England  ...        Away        Second         First\n",
              "19          19  ODI # 23      England  ...        Away         First        Second\n",
              "28          28  ODI # 32  New Zealand  ...     Neutral         First        Second\n",
              "48          48  ODI # 52      England  ...        Away         First        Second\n",
              "49          49  ODI # 53      England  ...        Away         First        Second\n",
              "\n",
              "[5 rows x 13 columns]"
            ]
          },
          "metadata": {
            "tags": []
          },
          "execution_count": 36
        }
      ]
    },
    {
      "cell_type": "code",
      "metadata": {
        "id": "pyYFXMr6UklU",
        "colab_type": "code",
        "outputId": "40a7c063-755f-4d48-c25b-9d2e851c84cb",
        "colab": {
          "base_uri": "https://localhost:8080/",
          "height": 34
        }
      },
      "source": [
        "# Number of loss away\n",
        "nz_l_a = df_team_Country_lost_away('New Zealand').shape[0]\n",
        "nz_l_a"
      ],
      "execution_count": 37,
      "outputs": [
        {
          "output_type": "execute_result",
          "data": {
            "text/plain": [
              "506"
            ]
          },
          "metadata": {
            "tags": []
          },
          "execution_count": 37
        }
      ]
    },
    {
      "cell_type": "code",
      "metadata": {
        "id": "cGstxeo6HvCQ",
        "colab_type": "code",
        "outputId": "06f355c2-7dcd-476a-882a-828aac298ee2",
        "colab": {
          "base_uri": "https://localhost:8080/",
          "height": 34
        }
      },
      "source": [
        "# Winning ratio away****************************\n",
        "nz_w_a_r = round(((nz_w_a) / (nz_w_a + nz_l_a)) * 100, 2)\n",
        "nz_w_a_r"
      ],
      "execution_count": 38,
      "outputs": [
        {
          "output_type": "execute_result",
          "data": {
            "text/plain": [
              "39.04"
            ]
          },
          "metadata": {
            "tags": []
          },
          "execution_count": 38
        }
      ]
    },
    {
      "cell_type": "markdown",
      "metadata": {
        "id": "UUiIRJ2PcOTt",
        "colab_type": "text"
      },
      "source": [
        "# South Africa"
      ]
    },
    {
      "cell_type": "code",
      "metadata": {
        "id": "UQHqAhqEdNuN",
        "colab_type": "code",
        "outputId": "444c86d1-4880-4e3e-e82a-bdb3b6cd37b4",
        "colab": {
          "base_uri": "https://localhost:8080/",
          "height": 316
        }
      },
      "source": [
        "# South Africa won at home\n",
        "df_team_Country_win_home('South Africa').head()"
      ],
      "execution_count": 39,
      "outputs": [
        {
          "output_type": "execute_result",
          "data": {
            "text/html": [
              "<div>\n",
              "<style scoped>\n",
              "    .dataframe tbody tr th:only-of-type {\n",
              "        vertical-align: middle;\n",
              "    }\n",
              "\n",
              "    .dataframe tbody tr th {\n",
              "        vertical-align: top;\n",
              "    }\n",
              "\n",
              "    .dataframe thead th {\n",
              "        text-align: right;\n",
              "    }\n",
              "</style>\n",
              "<table border=\"1\" class=\"dataframe\">\n",
              "  <thead>\n",
              "    <tr style=\"text-align: right;\">\n",
              "      <th></th>\n",
              "      <th>Unnamed: 0</th>\n",
              "      <th>Scorecard</th>\n",
              "      <th>Team_1</th>\n",
              "      <th>Team_2</th>\n",
              "      <th>Margin</th>\n",
              "      <th>Ground</th>\n",
              "      <th>Match_Date</th>\n",
              "      <th>Winner</th>\n",
              "      <th>Host_Country</th>\n",
              "      <th>Venue_Team1</th>\n",
              "      <th>Venue_Team2</th>\n",
              "      <th>Innings_Team1</th>\n",
              "      <th>Innings_Team2</th>\n",
              "    </tr>\n",
              "  </thead>\n",
              "  <tbody>\n",
              "    <tr>\n",
              "      <th>737</th>\n",
              "      <td>740</td>\n",
              "      <td>ODI # 770</td>\n",
              "      <td>South Africa</td>\n",
              "      <td>India</td>\n",
              "      <td>Winner2ndInning</td>\n",
              "      <td>Cape Town</td>\n",
              "      <td>Dec 7, 1992</td>\n",
              "      <td>South Africa</td>\n",
              "      <td>South Africa</td>\n",
              "      <td>Home</td>\n",
              "      <td>Away</td>\n",
              "      <td>Second</td>\n",
              "      <td>First</td>\n",
              "    </tr>\n",
              "    <tr>\n",
              "      <th>739</th>\n",
              "      <td>742</td>\n",
              "      <td>ODI # 772</td>\n",
              "      <td>South Africa</td>\n",
              "      <td>India</td>\n",
              "      <td>Winner2ndInning</td>\n",
              "      <td>Port Elizabeth</td>\n",
              "      <td>Dec 9, 1992</td>\n",
              "      <td>South Africa</td>\n",
              "      <td>South Africa</td>\n",
              "      <td>Home</td>\n",
              "      <td>Away</td>\n",
              "      <td>Second</td>\n",
              "      <td>First</td>\n",
              "    </tr>\n",
              "    <tr>\n",
              "      <th>745</th>\n",
              "      <td>748</td>\n",
              "      <td>ODI # 779</td>\n",
              "      <td>South Africa</td>\n",
              "      <td>India</td>\n",
              "      <td>Winner2ndInning</td>\n",
              "      <td>Johannesburg</td>\n",
              "      <td>Dec 13, 1992</td>\n",
              "      <td>South Africa</td>\n",
              "      <td>South Africa</td>\n",
              "      <td>Home</td>\n",
              "      <td>Away</td>\n",
              "      <td>Second</td>\n",
              "      <td>First</td>\n",
              "    </tr>\n",
              "    <tr>\n",
              "      <th>747</th>\n",
              "      <td>750</td>\n",
              "      <td>ODI # 781</td>\n",
              "      <td>South Africa</td>\n",
              "      <td>India</td>\n",
              "      <td>Winner2ndInning</td>\n",
              "      <td>Bloemfontein</td>\n",
              "      <td>Dec 15, 1992</td>\n",
              "      <td>South Africa</td>\n",
              "      <td>South Africa</td>\n",
              "      <td>Home</td>\n",
              "      <td>Away</td>\n",
              "      <td>Second</td>\n",
              "      <td>First</td>\n",
              "    </tr>\n",
              "    <tr>\n",
              "      <th>749</th>\n",
              "      <td>752</td>\n",
              "      <td>ODI # 783</td>\n",
              "      <td>South Africa</td>\n",
              "      <td>India</td>\n",
              "      <td>Winner1stInning</td>\n",
              "      <td>Durban</td>\n",
              "      <td>Dec 17, 1992</td>\n",
              "      <td>South Africa</td>\n",
              "      <td>South Africa</td>\n",
              "      <td>Home</td>\n",
              "      <td>Away</td>\n",
              "      <td>First</td>\n",
              "      <td>Second</td>\n",
              "    </tr>\n",
              "  </tbody>\n",
              "</table>\n",
              "</div>"
            ],
            "text/plain": [
              "     Unnamed: 0  Scorecard  ... Innings_Team1 Innings_Team2\n",
              "737         740  ODI # 770  ...        Second         First\n",
              "739         742  ODI # 772  ...        Second         First\n",
              "745         748  ODI # 779  ...        Second         First\n",
              "747         750  ODI # 781  ...        Second         First\n",
              "749         752  ODI # 783  ...         First        Second\n",
              "\n",
              "[5 rows x 13 columns]"
            ]
          },
          "metadata": {
            "tags": []
          },
          "execution_count": 39
        }
      ]
    },
    {
      "cell_type": "code",
      "metadata": {
        "id": "8lub5JEBUnhy",
        "colab_type": "code",
        "outputId": "2313cc66-47a5-4411-a828-976f5245ee5f",
        "colab": {
          "base_uri": "https://localhost:8080/",
          "height": 34
        }
      },
      "source": [
        "# Number of win at home\n",
        "sa_w_h = df_team_Country_win_home('South Africa').shape[0]\n",
        "sa_w_h"
      ],
      "execution_count": 40,
      "outputs": [
        {
          "output_type": "execute_result",
          "data": {
            "text/plain": [
              "336"
            ]
          },
          "metadata": {
            "tags": []
          },
          "execution_count": 40
        }
      ]
    },
    {
      "cell_type": "code",
      "metadata": {
        "id": "L42BPQ_XdN15",
        "colab_type": "code",
        "outputId": "464ad290-3bca-43c0-d4b5-66fb2bcd1289",
        "colab": {
          "base_uri": "https://localhost:8080/",
          "height": 316
        }
      },
      "source": [
        "# South Africa lost at home\n",
        "df_team_Country_lost_home('South Africa').head()"
      ],
      "execution_count": 41,
      "outputs": [
        {
          "output_type": "execute_result",
          "data": {
            "text/html": [
              "<div>\n",
              "<style scoped>\n",
              "    .dataframe tbody tr th:only-of-type {\n",
              "        vertical-align: middle;\n",
              "    }\n",
              "\n",
              "    .dataframe tbody tr th {\n",
              "        vertical-align: top;\n",
              "    }\n",
              "\n",
              "    .dataframe thead th {\n",
              "        text-align: right;\n",
              "    }\n",
              "</style>\n",
              "<table border=\"1\" class=\"dataframe\">\n",
              "  <thead>\n",
              "    <tr style=\"text-align: right;\">\n",
              "      <th></th>\n",
              "      <th>Unnamed: 0</th>\n",
              "      <th>Scorecard</th>\n",
              "      <th>Team_1</th>\n",
              "      <th>Team_2</th>\n",
              "      <th>Margin</th>\n",
              "      <th>Ground</th>\n",
              "      <th>Match_Date</th>\n",
              "      <th>Winner</th>\n",
              "      <th>Host_Country</th>\n",
              "      <th>Venue_Team1</th>\n",
              "      <th>Venue_Team2</th>\n",
              "      <th>Innings_Team1</th>\n",
              "      <th>Innings_Team2</th>\n",
              "    </tr>\n",
              "  </thead>\n",
              "  <tbody>\n",
              "    <tr>\n",
              "      <th>740</th>\n",
              "      <td>743</td>\n",
              "      <td>ODI # 774</td>\n",
              "      <td>South Africa</td>\n",
              "      <td>India</td>\n",
              "      <td>Winner2ndInning</td>\n",
              "      <td>Centurion</td>\n",
              "      <td>Dec 11, 1992</td>\n",
              "      <td>India</td>\n",
              "      <td>South Africa</td>\n",
              "      <td>Home</td>\n",
              "      <td>Away</td>\n",
              "      <td>First</td>\n",
              "      <td>Second</td>\n",
              "    </tr>\n",
              "    <tr>\n",
              "      <th>750</th>\n",
              "      <td>753</td>\n",
              "      <td>ODI # 784</td>\n",
              "      <td>South Africa</td>\n",
              "      <td>India</td>\n",
              "      <td>Winner2ndInning</td>\n",
              "      <td>East London</td>\n",
              "      <td>Dec 19, 1992</td>\n",
              "      <td>India</td>\n",
              "      <td>South Africa</td>\n",
              "      <td>Home</td>\n",
              "      <td>Away</td>\n",
              "      <td>First</td>\n",
              "      <td>Second</td>\n",
              "    </tr>\n",
              "    <tr>\n",
              "      <th>766</th>\n",
              "      <td>769</td>\n",
              "      <td>ODI # 800</td>\n",
              "      <td>South Africa</td>\n",
              "      <td>Pakistan</td>\n",
              "      <td>Winner1stInning</td>\n",
              "      <td>Durban</td>\n",
              "      <td>Feb 9, 1993</td>\n",
              "      <td>Pakistan</td>\n",
              "      <td>South Africa</td>\n",
              "      <td>Home</td>\n",
              "      <td>Away</td>\n",
              "      <td>Second</td>\n",
              "      <td>First</td>\n",
              "    </tr>\n",
              "    <tr>\n",
              "      <th>769</th>\n",
              "      <td>772</td>\n",
              "      <td>ODI # 803</td>\n",
              "      <td>South Africa</td>\n",
              "      <td>Pakistan</td>\n",
              "      <td>Winner1stInning</td>\n",
              "      <td>East London</td>\n",
              "      <td>Feb 15, 1993</td>\n",
              "      <td>Pakistan</td>\n",
              "      <td>South Africa</td>\n",
              "      <td>Home</td>\n",
              "      <td>Away</td>\n",
              "      <td>Second</td>\n",
              "      <td>First</td>\n",
              "    </tr>\n",
              "    <tr>\n",
              "      <th>772</th>\n",
              "      <td>775</td>\n",
              "      <td>ODI # 806</td>\n",
              "      <td>South Africa</td>\n",
              "      <td>Pakistan</td>\n",
              "      <td>Winner1stInning</td>\n",
              "      <td>Centurion</td>\n",
              "      <td>Feb 21, 1993</td>\n",
              "      <td>Pakistan</td>\n",
              "      <td>South Africa</td>\n",
              "      <td>Home</td>\n",
              "      <td>Away</td>\n",
              "      <td>Second</td>\n",
              "      <td>First</td>\n",
              "    </tr>\n",
              "  </tbody>\n",
              "</table>\n",
              "</div>"
            ],
            "text/plain": [
              "     Unnamed: 0  Scorecard  ... Innings_Team1 Innings_Team2\n",
              "740         743  ODI # 774  ...         First        Second\n",
              "750         753  ODI # 784  ...         First        Second\n",
              "766         769  ODI # 800  ...        Second         First\n",
              "769         772  ODI # 803  ...        Second         First\n",
              "772         775  ODI # 806  ...        Second         First\n",
              "\n",
              "[5 rows x 13 columns]"
            ]
          },
          "metadata": {
            "tags": []
          },
          "execution_count": 41
        }
      ]
    },
    {
      "cell_type": "code",
      "metadata": {
        "id": "dk9fm-pjUsJb",
        "colab_type": "code",
        "outputId": "fe368a5c-b93c-4108-f122-9ff818f8bfb4",
        "colab": {
          "base_uri": "https://localhost:8080/",
          "height": 34
        }
      },
      "source": [
        "# Number of loss at home\n",
        "sa_l_h = df_team_Country_lost_home('South Africa').shape[0]\n",
        "sa_l_h"
      ],
      "execution_count": 42,
      "outputs": [
        {
          "output_type": "execute_result",
          "data": {
            "text/plain": [
              "122"
            ]
          },
          "metadata": {
            "tags": []
          },
          "execution_count": 42
        }
      ]
    },
    {
      "cell_type": "code",
      "metadata": {
        "id": "CGaFF-cWFmGN",
        "colab_type": "code",
        "outputId": "fc2b5545-0af5-41ab-9ebb-353b5a478e32",
        "colab": {
          "base_uri": "https://localhost:8080/",
          "height": 34
        }
      },
      "source": [
        "# Winning ratio at home************************\n",
        "sa_w_h_r = round(((sa_w_h) / (sa_w_h + sa_l_h)) * 100, 2)\n",
        "sa_w_h_r"
      ],
      "execution_count": 43,
      "outputs": [
        {
          "output_type": "execute_result",
          "data": {
            "text/plain": [
              "73.36"
            ]
          },
          "metadata": {
            "tags": []
          },
          "execution_count": 43
        }
      ]
    },
    {
      "cell_type": "code",
      "metadata": {
        "id": "nHMuTwEGdN7g",
        "colab_type": "code",
        "outputId": "7f1a2502-252b-4b80-ed3c-8f6bd4b8939b",
        "colab": {
          "base_uri": "https://localhost:8080/",
          "height": 316
        }
      },
      "source": [
        "# South Africa won away\n",
        "df_team_Country_win_away('South Africa').head()"
      ],
      "execution_count": 44,
      "outputs": [
        {
          "output_type": "execute_result",
          "data": {
            "text/html": [
              "<div>\n",
              "<style scoped>\n",
              "    .dataframe tbody tr th:only-of-type {\n",
              "        vertical-align: middle;\n",
              "    }\n",
              "\n",
              "    .dataframe tbody tr th {\n",
              "        vertical-align: top;\n",
              "    }\n",
              "\n",
              "    .dataframe thead th {\n",
              "        text-align: right;\n",
              "    }\n",
              "</style>\n",
              "<table border=\"1\" class=\"dataframe\">\n",
              "  <thead>\n",
              "    <tr style=\"text-align: right;\">\n",
              "      <th></th>\n",
              "      <th>Unnamed: 0</th>\n",
              "      <th>Scorecard</th>\n",
              "      <th>Team_1</th>\n",
              "      <th>Team_2</th>\n",
              "      <th>Margin</th>\n",
              "      <th>Ground</th>\n",
              "      <th>Match_Date</th>\n",
              "      <th>Winner</th>\n",
              "      <th>Host_Country</th>\n",
              "      <th>Venue_Team1</th>\n",
              "      <th>Venue_Team2</th>\n",
              "      <th>Innings_Team1</th>\n",
              "      <th>Innings_Team2</th>\n",
              "    </tr>\n",
              "  </thead>\n",
              "  <tbody>\n",
              "    <tr>\n",
              "      <th>661</th>\n",
              "      <td>664</td>\n",
              "      <td>ODI # 688</td>\n",
              "      <td>India</td>\n",
              "      <td>South Africa</td>\n",
              "      <td>Winner2ndInning</td>\n",
              "      <td>New Delhi</td>\n",
              "      <td>Nov 14, 1991</td>\n",
              "      <td>South Africa</td>\n",
              "      <td>NaN</td>\n",
              "      <td>Neutral</td>\n",
              "      <td>Neutral</td>\n",
              "      <td>First</td>\n",
              "      <td>Second</td>\n",
              "    </tr>\n",
              "    <tr>\n",
              "      <th>689</th>\n",
              "      <td>692</td>\n",
              "      <td>ODI # 719</td>\n",
              "      <td>Australia</td>\n",
              "      <td>South Africa</td>\n",
              "      <td>Winner2ndInning</td>\n",
              "      <td>Sydney</td>\n",
              "      <td>Feb 26, 1992</td>\n",
              "      <td>South Africa</td>\n",
              "      <td>Australia</td>\n",
              "      <td>Home</td>\n",
              "      <td>Away</td>\n",
              "      <td>First</td>\n",
              "      <td>Second</td>\n",
              "    </tr>\n",
              "    <tr>\n",
              "      <th>698</th>\n",
              "      <td>701</td>\n",
              "      <td>ODI # 730</td>\n",
              "      <td>South Africa</td>\n",
              "      <td>West Indies</td>\n",
              "      <td>Winner1stInning</td>\n",
              "      <td>Christchurch</td>\n",
              "      <td>Mar 5, 1992</td>\n",
              "      <td>South Africa</td>\n",
              "      <td>New Zealand</td>\n",
              "      <td>Neutral</td>\n",
              "      <td>Neutral</td>\n",
              "      <td>First</td>\n",
              "      <td>Second</td>\n",
              "    </tr>\n",
              "    <tr>\n",
              "      <th>703</th>\n",
              "      <td>706</td>\n",
              "      <td>ODI # 735</td>\n",
              "      <td>Pakistan</td>\n",
              "      <td>South Africa</td>\n",
              "      <td>Winner1stInning</td>\n",
              "      <td>Brisbane</td>\n",
              "      <td>Mar 8, 1992</td>\n",
              "      <td>South Africa</td>\n",
              "      <td>Australia</td>\n",
              "      <td>Neutral</td>\n",
              "      <td>Neutral</td>\n",
              "      <td>Second</td>\n",
              "      <td>First</td>\n",
              "    </tr>\n",
              "    <tr>\n",
              "      <th>706</th>\n",
              "      <td>709</td>\n",
              "      <td>ODI # 738</td>\n",
              "      <td>South Africa</td>\n",
              "      <td>Zimbabwe</td>\n",
              "      <td>Winner2ndInning</td>\n",
              "      <td>Canberra</td>\n",
              "      <td>Mar 10, 1992</td>\n",
              "      <td>South Africa</td>\n",
              "      <td>Australia</td>\n",
              "      <td>Neutral</td>\n",
              "      <td>Neutral</td>\n",
              "      <td>Second</td>\n",
              "      <td>First</td>\n",
              "    </tr>\n",
              "  </tbody>\n",
              "</table>\n",
              "</div>"
            ],
            "text/plain": [
              "     Unnamed: 0  Scorecard  ... Innings_Team1 Innings_Team2\n",
              "661         664  ODI # 688  ...         First        Second\n",
              "689         692  ODI # 719  ...         First        Second\n",
              "698         701  ODI # 730  ...         First        Second\n",
              "703         706  ODI # 735  ...        Second         First\n",
              "706         709  ODI # 738  ...        Second         First\n",
              "\n",
              "[5 rows x 13 columns]"
            ]
          },
          "metadata": {
            "tags": []
          },
          "execution_count": 44
        }
      ]
    },
    {
      "cell_type": "code",
      "metadata": {
        "id": "OFacr0FDUwTq",
        "colab_type": "code",
        "outputId": "44977de2-dcde-485d-f866-690554ea6377",
        "colab": {
          "base_uri": "https://localhost:8080/",
          "height": 34
        }
      },
      "source": [
        "# Number of win away\n",
        "sa_w_a = df_team_Country_win_away('South Africa').shape[0]\n",
        "sa_w_a"
      ],
      "execution_count": 45,
      "outputs": [
        {
          "output_type": "execute_result",
          "data": {
            "text/plain": [
              "386"
            ]
          },
          "metadata": {
            "tags": []
          },
          "execution_count": 45
        }
      ]
    },
    {
      "cell_type": "code",
      "metadata": {
        "id": "1VBdLKGPdN-3",
        "colab_type": "code",
        "outputId": "b9113eef-4a58-4a56-daa2-ae8cb38ea553",
        "colab": {
          "base_uri": "https://localhost:8080/",
          "height": 316
        }
      },
      "source": [
        "# South Africa lost Away\n",
        "df_team_Country_lost_away('South Africa').head()"
      ],
      "execution_count": 46,
      "outputs": [
        {
          "output_type": "execute_result",
          "data": {
            "text/html": [
              "<div>\n",
              "<style scoped>\n",
              "    .dataframe tbody tr th:only-of-type {\n",
              "        vertical-align: middle;\n",
              "    }\n",
              "\n",
              "    .dataframe tbody tr th {\n",
              "        vertical-align: top;\n",
              "    }\n",
              "\n",
              "    .dataframe thead th {\n",
              "        text-align: right;\n",
              "    }\n",
              "</style>\n",
              "<table border=\"1\" class=\"dataframe\">\n",
              "  <thead>\n",
              "    <tr style=\"text-align: right;\">\n",
              "      <th></th>\n",
              "      <th>Unnamed: 0</th>\n",
              "      <th>Scorecard</th>\n",
              "      <th>Team_1</th>\n",
              "      <th>Team_2</th>\n",
              "      <th>Margin</th>\n",
              "      <th>Ground</th>\n",
              "      <th>Match_Date</th>\n",
              "      <th>Winner</th>\n",
              "      <th>Host_Country</th>\n",
              "      <th>Venue_Team1</th>\n",
              "      <th>Venue_Team2</th>\n",
              "      <th>Innings_Team1</th>\n",
              "      <th>Innings_Team2</th>\n",
              "    </tr>\n",
              "  </thead>\n",
              "  <tbody>\n",
              "    <tr>\n",
              "      <th>659</th>\n",
              "      <td>662</td>\n",
              "      <td>ODI # 686</td>\n",
              "      <td>India</td>\n",
              "      <td>South Africa</td>\n",
              "      <td>Winner2ndInning</td>\n",
              "      <td>Kolkata</td>\n",
              "      <td>Nov 10, 1991</td>\n",
              "      <td>India</td>\n",
              "      <td>India</td>\n",
              "      <td>Home</td>\n",
              "      <td>Away</td>\n",
              "      <td>Second</td>\n",
              "      <td>First</td>\n",
              "    </tr>\n",
              "    <tr>\n",
              "      <th>660</th>\n",
              "      <td>663</td>\n",
              "      <td>ODI # 687</td>\n",
              "      <td>India</td>\n",
              "      <td>South Africa</td>\n",
              "      <td>Winner1stInning</td>\n",
              "      <td>Gwalior</td>\n",
              "      <td>Nov 12, 1991</td>\n",
              "      <td>India</td>\n",
              "      <td>India</td>\n",
              "      <td>Home</td>\n",
              "      <td>Away</td>\n",
              "      <td>First</td>\n",
              "      <td>Second</td>\n",
              "    </tr>\n",
              "    <tr>\n",
              "      <th>692</th>\n",
              "      <td>695</td>\n",
              "      <td>ODI # 723</td>\n",
              "      <td>New Zealand</td>\n",
              "      <td>South Africa</td>\n",
              "      <td>Winner2ndInning</td>\n",
              "      <td>Auckland</td>\n",
              "      <td>Feb 29, 1992</td>\n",
              "      <td>New Zealand</td>\n",
              "      <td>New Zealand</td>\n",
              "      <td>Home</td>\n",
              "      <td>Away</td>\n",
              "      <td>Second</td>\n",
              "      <td>First</td>\n",
              "    </tr>\n",
              "    <tr>\n",
              "      <th>695</th>\n",
              "      <td>698</td>\n",
              "      <td>ODI # 727</td>\n",
              "      <td>South Africa</td>\n",
              "      <td>Sri Lanka</td>\n",
              "      <td>Winner2ndInning</td>\n",
              "      <td>Wellington</td>\n",
              "      <td>Mar 2, 1992</td>\n",
              "      <td>Sri Lanka</td>\n",
              "      <td>New Zealand</td>\n",
              "      <td>Neutral</td>\n",
              "      <td>Neutral</td>\n",
              "      <td>First</td>\n",
              "      <td>Second</td>\n",
              "    </tr>\n",
              "    <tr>\n",
              "      <th>709</th>\n",
              "      <td>712</td>\n",
              "      <td>ODI # 741</td>\n",
              "      <td>England</td>\n",
              "      <td>South Africa</td>\n",
              "      <td>Winner2ndInning</td>\n",
              "      <td>Melbourne</td>\n",
              "      <td>Mar 12, 1992</td>\n",
              "      <td>England</td>\n",
              "      <td>Australia</td>\n",
              "      <td>Neutral</td>\n",
              "      <td>Neutral</td>\n",
              "      <td>Second</td>\n",
              "      <td>First</td>\n",
              "    </tr>\n",
              "  </tbody>\n",
              "</table>\n",
              "</div>"
            ],
            "text/plain": [
              "     Unnamed: 0  Scorecard  ... Innings_Team1 Innings_Team2\n",
              "659         662  ODI # 686  ...        Second         First\n",
              "660         663  ODI # 687  ...         First        Second\n",
              "692         695  ODI # 723  ...        Second         First\n",
              "695         698  ODI # 727  ...         First        Second\n",
              "709         712  ODI # 741  ...        Second         First\n",
              "\n",
              "[5 rows x 13 columns]"
            ]
          },
          "metadata": {
            "tags": []
          },
          "execution_count": 46
        }
      ]
    },
    {
      "cell_type": "code",
      "metadata": {
        "id": "r97mZSEIU0TV",
        "colab_type": "code",
        "outputId": "0c60e0bc-3746-46a5-c58f-f8e5ea6e2292",
        "colab": {
          "base_uri": "https://localhost:8080/",
          "height": 34
        }
      },
      "source": [
        "# Number of loss away\n",
        "sa_l_a = df_team_Country_lost_away('South Africa').shape[0]\n",
        "sa_l_a"
      ],
      "execution_count": 47,
      "outputs": [
        {
          "output_type": "execute_result",
          "data": {
            "text/plain": [
              "278"
            ]
          },
          "metadata": {
            "tags": []
          },
          "execution_count": 47
        }
      ]
    },
    {
      "cell_type": "code",
      "metadata": {
        "id": "mKdH8khiIQ7W",
        "colab_type": "code",
        "outputId": "2cd63c26-ac6b-449d-8c83-d960e0bf37f4",
        "colab": {
          "base_uri": "https://localhost:8080/",
          "height": 34
        }
      },
      "source": [
        "# Winning ratio away****************************\n",
        "sa_w_a_r = round(((sa_w_a) / (sa_w_a + sa_l_a)) * 100, 2)\n",
        "sa_w_a_r"
      ],
      "execution_count": 48,
      "outputs": [
        {
          "output_type": "execute_result",
          "data": {
            "text/plain": [
              "58.13"
            ]
          },
          "metadata": {
            "tags": []
          },
          "execution_count": 48
        }
      ]
    },
    {
      "cell_type": "markdown",
      "metadata": {
        "id": "dtCd8WbbRH7o",
        "colab_type": "text"
      },
      "source": [
        "## Australia\n",
        "\n"
      ]
    },
    {
      "cell_type": "code",
      "metadata": {
        "id": "g1kq8zXoRRZs",
        "colab_type": "code",
        "outputId": "0e382ab6-a32e-4748-8b09-d0045858b19e",
        "colab": {
          "base_uri": "https://localhost:8080/",
          "height": 266
        }
      },
      "source": [
        "# Australia won at home\n",
        "df_team_Country_win_home('Australia').head()"
      ],
      "execution_count": 49,
      "outputs": [
        {
          "output_type": "execute_result",
          "data": {
            "text/html": [
              "<div>\n",
              "<style scoped>\n",
              "    .dataframe tbody tr th:only-of-type {\n",
              "        vertical-align: middle;\n",
              "    }\n",
              "\n",
              "    .dataframe tbody tr th {\n",
              "        vertical-align: top;\n",
              "    }\n",
              "\n",
              "    .dataframe thead th {\n",
              "        text-align: right;\n",
              "    }\n",
              "</style>\n",
              "<table border=\"1\" class=\"dataframe\">\n",
              "  <thead>\n",
              "    <tr style=\"text-align: right;\">\n",
              "      <th></th>\n",
              "      <th>Unnamed: 0</th>\n",
              "      <th>Scorecard</th>\n",
              "      <th>Team_1</th>\n",
              "      <th>Team_2</th>\n",
              "      <th>Margin</th>\n",
              "      <th>Ground</th>\n",
              "      <th>Match_Date</th>\n",
              "      <th>Winner</th>\n",
              "      <th>Host_Country</th>\n",
              "      <th>Venue_Team1</th>\n",
              "      <th>Venue_Team2</th>\n",
              "      <th>Innings_Team1</th>\n",
              "      <th>Innings_Team2</th>\n",
              "    </tr>\n",
              "  </thead>\n",
              "  <tbody>\n",
              "    <tr>\n",
              "      <th>0</th>\n",
              "      <td>0</td>\n",
              "      <td>ODI # 1</td>\n",
              "      <td>Australia</td>\n",
              "      <td>England</td>\n",
              "      <td>Winner2ndInning</td>\n",
              "      <td>Melbourne</td>\n",
              "      <td>Jan 5, 1971</td>\n",
              "      <td>Australia</td>\n",
              "      <td>Australia</td>\n",
              "      <td>Home</td>\n",
              "      <td>Away</td>\n",
              "      <td>Second</td>\n",
              "      <td>First</td>\n",
              "    </tr>\n",
              "    <tr>\n",
              "      <th>30</th>\n",
              "      <td>30</td>\n",
              "      <td>ODI # 34</td>\n",
              "      <td>Australia</td>\n",
              "      <td>West Indies</td>\n",
              "      <td>Winner2ndInning</td>\n",
              "      <td>Adelaide</td>\n",
              "      <td>Dec 20, 1975</td>\n",
              "      <td>Australia</td>\n",
              "      <td>Australia</td>\n",
              "      <td>Home</td>\n",
              "      <td>Away</td>\n",
              "      <td>Second</td>\n",
              "      <td>First</td>\n",
              "    </tr>\n",
              "    <tr>\n",
              "      <th>53</th>\n",
              "      <td>54</td>\n",
              "      <td>ODI # 59</td>\n",
              "      <td>Australia</td>\n",
              "      <td>England</td>\n",
              "      <td>Winner2ndInning</td>\n",
              "      <td>Melbourne</td>\n",
              "      <td>Feb 4, 1979</td>\n",
              "      <td>Australia</td>\n",
              "      <td>Australia</td>\n",
              "      <td>Home</td>\n",
              "      <td>Away</td>\n",
              "      <td>Second</td>\n",
              "      <td>First</td>\n",
              "    </tr>\n",
              "    <tr>\n",
              "      <th>54</th>\n",
              "      <td>55</td>\n",
              "      <td>ODI # 60</td>\n",
              "      <td>Australia</td>\n",
              "      <td>England</td>\n",
              "      <td>Winner2ndInning</td>\n",
              "      <td>Melbourne</td>\n",
              "      <td>Feb 7, 1979</td>\n",
              "      <td>Australia</td>\n",
              "      <td>Australia</td>\n",
              "      <td>Home</td>\n",
              "      <td>Away</td>\n",
              "      <td>Second</td>\n",
              "      <td>First</td>\n",
              "    </tr>\n",
              "    <tr>\n",
              "      <th>69</th>\n",
              "      <td>70</td>\n",
              "      <td>ODI # 75</td>\n",
              "      <td>Australia</td>\n",
              "      <td>West Indies</td>\n",
              "      <td>Winner2ndInning</td>\n",
              "      <td>Sydney</td>\n",
              "      <td>Nov 27, 1979</td>\n",
              "      <td>Australia</td>\n",
              "      <td>Australia</td>\n",
              "      <td>Home</td>\n",
              "      <td>Away</td>\n",
              "      <td>Second</td>\n",
              "      <td>First</td>\n",
              "    </tr>\n",
              "  </tbody>\n",
              "</table>\n",
              "</div>"
            ],
            "text/plain": [
              "    Unnamed: 0 Scorecard     Team_1  ... Venue_Team2 Innings_Team1 Innings_Team2\n",
              "0            0   ODI # 1  Australia  ...        Away        Second         First\n",
              "30          30  ODI # 34  Australia  ...        Away        Second         First\n",
              "53          54  ODI # 59  Australia  ...        Away        Second         First\n",
              "54          55  ODI # 60  Australia  ...        Away        Second         First\n",
              "69          70  ODI # 75  Australia  ...        Away        Second         First\n",
              "\n",
              "[5 rows x 13 columns]"
            ]
          },
          "metadata": {
            "tags": []
          },
          "execution_count": 49
        }
      ]
    },
    {
      "cell_type": "code",
      "metadata": {
        "id": "c025jHFRU-ui",
        "colab_type": "code",
        "outputId": "2b51ad7b-c98c-4bd8-a553-8653bbfd0d98",
        "colab": {
          "base_uri": "https://localhost:8080/",
          "height": 34
        }
      },
      "source": [
        "# Number of win at home\n",
        "aus_w_h = df_team_Country_win_home('Australia').shape[0]\n",
        "aus_w_h"
      ],
      "execution_count": 50,
      "outputs": [
        {
          "output_type": "execute_result",
          "data": {
            "text/plain": [
              "548"
            ]
          },
          "metadata": {
            "tags": []
          },
          "execution_count": 50
        }
      ]
    },
    {
      "cell_type": "code",
      "metadata": {
        "id": "C13CKvJQVDEQ",
        "colab_type": "code",
        "outputId": "737b0871-0444-4f1b-f267-64c6e88b2411",
        "colab": {
          "base_uri": "https://localhost:8080/",
          "height": 282
        }
      },
      "source": [
        "# Australia lost at home\n",
        "df_team_Country_lost_home('Australia').head()"
      ],
      "execution_count": 51,
      "outputs": [
        {
          "output_type": "execute_result",
          "data": {
            "text/html": [
              "<div>\n",
              "<style scoped>\n",
              "    .dataframe tbody tr th:only-of-type {\n",
              "        vertical-align: middle;\n",
              "    }\n",
              "\n",
              "    .dataframe tbody tr th {\n",
              "        vertical-align: top;\n",
              "    }\n",
              "\n",
              "    .dataframe thead th {\n",
              "        text-align: right;\n",
              "    }\n",
              "</style>\n",
              "<table border=\"1\" class=\"dataframe\">\n",
              "  <thead>\n",
              "    <tr style=\"text-align: right;\">\n",
              "      <th></th>\n",
              "      <th>Unnamed: 0</th>\n",
              "      <th>Scorecard</th>\n",
              "      <th>Team_1</th>\n",
              "      <th>Team_2</th>\n",
              "      <th>Margin</th>\n",
              "      <th>Ground</th>\n",
              "      <th>Match_Date</th>\n",
              "      <th>Winner</th>\n",
              "      <th>Host_Country</th>\n",
              "      <th>Venue_Team1</th>\n",
              "      <th>Venue_Team2</th>\n",
              "      <th>Innings_Team1</th>\n",
              "      <th>Innings_Team2</th>\n",
              "    </tr>\n",
              "  </thead>\n",
              "  <tbody>\n",
              "    <tr>\n",
              "      <th>14</th>\n",
              "      <td>14</td>\n",
              "      <td>ODI # 16</td>\n",
              "      <td>Australia</td>\n",
              "      <td>England</td>\n",
              "      <td>Winner2ndInning</td>\n",
              "      <td>Melbourne</td>\n",
              "      <td>Jan 1, 1975</td>\n",
              "      <td>England</td>\n",
              "      <td>Australia</td>\n",
              "      <td>Home</td>\n",
              "      <td>Away</td>\n",
              "      <td>First</td>\n",
              "      <td>Second</td>\n",
              "    </tr>\n",
              "    <tr>\n",
              "      <th>52</th>\n",
              "      <td>53</td>\n",
              "      <td>ODI # 58</td>\n",
              "      <td>Australia</td>\n",
              "      <td>England</td>\n",
              "      <td>Winner2ndInning</td>\n",
              "      <td>Melbourne</td>\n",
              "      <td>Jan 24, 1979</td>\n",
              "      <td>England</td>\n",
              "      <td>Australia</td>\n",
              "      <td>Home</td>\n",
              "      <td>Away</td>\n",
              "      <td>First</td>\n",
              "      <td>Second</td>\n",
              "    </tr>\n",
              "    <tr>\n",
              "      <th>71</th>\n",
              "      <td>72</td>\n",
              "      <td>ODI # 77</td>\n",
              "      <td>Australia</td>\n",
              "      <td>England</td>\n",
              "      <td>Winner2ndInning</td>\n",
              "      <td>Melbourne</td>\n",
              "      <td>Dec 8, 1979</td>\n",
              "      <td>England</td>\n",
              "      <td>Australia</td>\n",
              "      <td>Home</td>\n",
              "      <td>Away</td>\n",
              "      <td>First</td>\n",
              "      <td>Second</td>\n",
              "    </tr>\n",
              "    <tr>\n",
              "      <th>72</th>\n",
              "      <td>73</td>\n",
              "      <td>ODI # 78</td>\n",
              "      <td>Australia</td>\n",
              "      <td>West Indies</td>\n",
              "      <td>Winner1stInning</td>\n",
              "      <td>Melbourne</td>\n",
              "      <td>Dec 9, 1979</td>\n",
              "      <td>West Indies</td>\n",
              "      <td>Australia</td>\n",
              "      <td>Home</td>\n",
              "      <td>Away</td>\n",
              "      <td>Second</td>\n",
              "      <td>First</td>\n",
              "    </tr>\n",
              "    <tr>\n",
              "      <th>73</th>\n",
              "      <td>74</td>\n",
              "      <td>ODI # 79</td>\n",
              "      <td>Australia</td>\n",
              "      <td>England</td>\n",
              "      <td>Winner1stInning</td>\n",
              "      <td>Sydney</td>\n",
              "      <td>Dec 11, 1979</td>\n",
              "      <td>England</td>\n",
              "      <td>Australia</td>\n",
              "      <td>Home</td>\n",
              "      <td>Away</td>\n",
              "      <td>Second</td>\n",
              "      <td>First</td>\n",
              "    </tr>\n",
              "  </tbody>\n",
              "</table>\n",
              "</div>"
            ],
            "text/plain": [
              "    Unnamed: 0 Scorecard     Team_1  ... Venue_Team2 Innings_Team1 Innings_Team2\n",
              "14          14  ODI # 16  Australia  ...        Away         First        Second\n",
              "52          53  ODI # 58  Australia  ...        Away         First        Second\n",
              "71          72  ODI # 77  Australia  ...        Away         First        Second\n",
              "72          73  ODI # 78  Australia  ...        Away        Second         First\n",
              "73          74  ODI # 79  Australia  ...        Away        Second         First\n",
              "\n",
              "[5 rows x 13 columns]"
            ]
          },
          "metadata": {
            "tags": []
          },
          "execution_count": 51
        }
      ]
    },
    {
      "cell_type": "code",
      "metadata": {
        "id": "ym04PZd7VCMv",
        "colab_type": "code",
        "outputId": "a029918b-db5b-41a5-e25a-aa8305ca84f1",
        "colab": {
          "base_uri": "https://localhost:8080/",
          "height": 34
        }
      },
      "source": [
        "# Number of loss at home\n",
        "aus_l_h = df_team_Country_lost_home('Australia').shape[0]\n",
        "aus_l_h"
      ],
      "execution_count": 52,
      "outputs": [
        {
          "output_type": "execute_result",
          "data": {
            "text/plain": [
              "270"
            ]
          },
          "metadata": {
            "tags": []
          },
          "execution_count": 52
        }
      ]
    },
    {
      "cell_type": "code",
      "metadata": {
        "id": "7Q1AvhzuFzma",
        "colab_type": "code",
        "outputId": "ad4bef95-60ee-4461-a366-2baa45abae73",
        "colab": {
          "base_uri": "https://localhost:8080/",
          "height": 34
        }
      },
      "source": [
        "# Winning ratio at home************\n",
        "aus_w_h_r = round(((aus_w_h) / (aus_w_h + aus_l_h)) * 100, 2)\n",
        "aus_w_h_r"
      ],
      "execution_count": 53,
      "outputs": [
        {
          "output_type": "execute_result",
          "data": {
            "text/plain": [
              "66.99"
            ]
          },
          "metadata": {
            "tags": []
          },
          "execution_count": 53
        }
      ]
    },
    {
      "cell_type": "code",
      "metadata": {
        "id": "8avT4ywnVZRp",
        "colab_type": "code",
        "outputId": "79cd348b-3774-4012-9e0b-11b0708b4fce",
        "colab": {
          "base_uri": "https://localhost:8080/",
          "height": 299
        }
      },
      "source": [
        "# Australia won away\n",
        "df_team_Country_win_away('Australia').head()"
      ],
      "execution_count": 54,
      "outputs": [
        {
          "output_type": "execute_result",
          "data": {
            "text/html": [
              "<div>\n",
              "<style scoped>\n",
              "    .dataframe tbody tr th:only-of-type {\n",
              "        vertical-align: middle;\n",
              "    }\n",
              "\n",
              "    .dataframe tbody tr th {\n",
              "        vertical-align: top;\n",
              "    }\n",
              "\n",
              "    .dataframe thead th {\n",
              "        text-align: right;\n",
              "    }\n",
              "</style>\n",
              "<table border=\"1\" class=\"dataframe\">\n",
              "  <thead>\n",
              "    <tr style=\"text-align: right;\">\n",
              "      <th></th>\n",
              "      <th>Unnamed: 0</th>\n",
              "      <th>Scorecard</th>\n",
              "      <th>Team_1</th>\n",
              "      <th>Team_2</th>\n",
              "      <th>Margin</th>\n",
              "      <th>Ground</th>\n",
              "      <th>Match_Date</th>\n",
              "      <th>Winner</th>\n",
              "      <th>Host_Country</th>\n",
              "      <th>Venue_Team1</th>\n",
              "      <th>Venue_Team2</th>\n",
              "      <th>Innings_Team1</th>\n",
              "      <th>Innings_Team2</th>\n",
              "    </tr>\n",
              "  </thead>\n",
              "  <tbody>\n",
              "    <tr>\n",
              "      <th>2</th>\n",
              "      <td>2</td>\n",
              "      <td>ODI # 3</td>\n",
              "      <td>England</td>\n",
              "      <td>Australia</td>\n",
              "      <td>Winner2ndInning</td>\n",
              "      <td>Lord's</td>\n",
              "      <td>Aug 26, 1972</td>\n",
              "      <td>Australia</td>\n",
              "      <td>England</td>\n",
              "      <td>Home</td>\n",
              "      <td>Away</td>\n",
              "      <td>First</td>\n",
              "      <td>Second</td>\n",
              "    </tr>\n",
              "    <tr>\n",
              "      <th>8</th>\n",
              "      <td>8</td>\n",
              "      <td>ODI # 10</td>\n",
              "      <td>New Zealand</td>\n",
              "      <td>Australia</td>\n",
              "      <td>Winner2ndInning</td>\n",
              "      <td>Dunedin</td>\n",
              "      <td>Mar 30, 1974</td>\n",
              "      <td>Australia</td>\n",
              "      <td>New Zealand</td>\n",
              "      <td>Home</td>\n",
              "      <td>Away</td>\n",
              "      <td>First</td>\n",
              "      <td>Second</td>\n",
              "    </tr>\n",
              "    <tr>\n",
              "      <th>9</th>\n",
              "      <td>9</td>\n",
              "      <td>ODI # 11</td>\n",
              "      <td>New Zealand</td>\n",
              "      <td>Australia</td>\n",
              "      <td>Winner1stInning</td>\n",
              "      <td>Christchurch</td>\n",
              "      <td>Mar 31, 1974</td>\n",
              "      <td>Australia</td>\n",
              "      <td>New Zealand</td>\n",
              "      <td>Home</td>\n",
              "      <td>Away</td>\n",
              "      <td>Second</td>\n",
              "      <td>First</td>\n",
              "    </tr>\n",
              "    <tr>\n",
              "      <th>17</th>\n",
              "      <td>17</td>\n",
              "      <td>ODI # 21</td>\n",
              "      <td>Australia</td>\n",
              "      <td>Pakistan</td>\n",
              "      <td>Winner1stInning</td>\n",
              "      <td>Leeds</td>\n",
              "      <td>Jun 7, 1975</td>\n",
              "      <td>Australia</td>\n",
              "      <td>England</td>\n",
              "      <td>Neutral</td>\n",
              "      <td>Neutral</td>\n",
              "      <td>First</td>\n",
              "      <td>Second</td>\n",
              "    </tr>\n",
              "    <tr>\n",
              "      <th>21</th>\n",
              "      <td>21</td>\n",
              "      <td>ODI # 25</td>\n",
              "      <td>Australia</td>\n",
              "      <td>Sri Lanka</td>\n",
              "      <td>Winner1stInning</td>\n",
              "      <td>The Oval</td>\n",
              "      <td>Jun 11, 1975</td>\n",
              "      <td>Australia</td>\n",
              "      <td>England</td>\n",
              "      <td>Neutral</td>\n",
              "      <td>Neutral</td>\n",
              "      <td>First</td>\n",
              "      <td>Second</td>\n",
              "    </tr>\n",
              "  </tbody>\n",
              "</table>\n",
              "</div>"
            ],
            "text/plain": [
              "    Unnamed: 0 Scorecard       Team_1  ... Venue_Team2 Innings_Team1 Innings_Team2\n",
              "2            2   ODI # 3      England  ...        Away         First        Second\n",
              "8            8  ODI # 10  New Zealand  ...        Away         First        Second\n",
              "9            9  ODI # 11  New Zealand  ...        Away        Second         First\n",
              "17          17  ODI # 21    Australia  ...     Neutral         First        Second\n",
              "21          21  ODI # 25    Australia  ...     Neutral         First        Second\n",
              "\n",
              "[5 rows x 13 columns]"
            ]
          },
          "metadata": {
            "tags": []
          },
          "execution_count": 54
        }
      ]
    },
    {
      "cell_type": "code",
      "metadata": {
        "id": "g8i5-rdxVFgl",
        "colab_type": "code",
        "outputId": "28b49836-629f-40d4-ec42-bb91e899bb02",
        "colab": {
          "base_uri": "https://localhost:8080/",
          "height": 34
        }
      },
      "source": [
        "# Number of win away\n",
        "aus_w_a = df_team_Country_win_away('Australia').shape[0]\n",
        "aus_w_a"
      ],
      "execution_count": 55,
      "outputs": [
        {
          "output_type": "execute_result",
          "data": {
            "text/plain": [
              "556"
            ]
          },
          "metadata": {
            "tags": []
          },
          "execution_count": 55
        }
      ]
    },
    {
      "cell_type": "code",
      "metadata": {
        "id": "jWbJY6aUVyCW",
        "colab_type": "code",
        "outputId": "75340f9d-9d1d-406c-bd22-7068b2a1702e",
        "colab": {
          "base_uri": "https://localhost:8080/",
          "height": 299
        }
      },
      "source": [
        "# Australia lost Away\n",
        "df_team_Country_lost_away('Australia').head()"
      ],
      "execution_count": 56,
      "outputs": [
        {
          "output_type": "execute_result",
          "data": {
            "text/html": [
              "<div>\n",
              "<style scoped>\n",
              "    .dataframe tbody tr th:only-of-type {\n",
              "        vertical-align: middle;\n",
              "    }\n",
              "\n",
              "    .dataframe tbody tr th {\n",
              "        vertical-align: top;\n",
              "    }\n",
              "\n",
              "    .dataframe thead th {\n",
              "        text-align: right;\n",
              "    }\n",
              "</style>\n",
              "<table border=\"1\" class=\"dataframe\">\n",
              "  <thead>\n",
              "    <tr style=\"text-align: right;\">\n",
              "      <th></th>\n",
              "      <th>Unnamed: 0</th>\n",
              "      <th>Scorecard</th>\n",
              "      <th>Team_1</th>\n",
              "      <th>Team_2</th>\n",
              "      <th>Margin</th>\n",
              "      <th>Ground</th>\n",
              "      <th>Match_Date</th>\n",
              "      <th>Winner</th>\n",
              "      <th>Host_Country</th>\n",
              "      <th>Venue_Team1</th>\n",
              "      <th>Venue_Team2</th>\n",
              "      <th>Innings_Team1</th>\n",
              "      <th>Innings_Team2</th>\n",
              "    </tr>\n",
              "  </thead>\n",
              "  <tbody>\n",
              "    <tr>\n",
              "      <th>1</th>\n",
              "      <td>1</td>\n",
              "      <td>ODI # 2</td>\n",
              "      <td>England</td>\n",
              "      <td>Australia</td>\n",
              "      <td>Winner2ndInning</td>\n",
              "      <td>Manchester</td>\n",
              "      <td>Aug 24, 1972</td>\n",
              "      <td>England</td>\n",
              "      <td>England</td>\n",
              "      <td>Home</td>\n",
              "      <td>Away</td>\n",
              "      <td>Second</td>\n",
              "      <td>First</td>\n",
              "    </tr>\n",
              "    <tr>\n",
              "      <th>3</th>\n",
              "      <td>3</td>\n",
              "      <td>ODI # 4</td>\n",
              "      <td>England</td>\n",
              "      <td>Australia</td>\n",
              "      <td>Winner2ndInning</td>\n",
              "      <td>Birmingham</td>\n",
              "      <td>Aug 28, 1972</td>\n",
              "      <td>England</td>\n",
              "      <td>England</td>\n",
              "      <td>Home</td>\n",
              "      <td>Away</td>\n",
              "      <td>Second</td>\n",
              "      <td>First</td>\n",
              "    </tr>\n",
              "    <tr>\n",
              "      <th>25</th>\n",
              "      <td>25</td>\n",
              "      <td>ODI # 29</td>\n",
              "      <td>Australia</td>\n",
              "      <td>West Indies</td>\n",
              "      <td>Winner2ndInning</td>\n",
              "      <td>The Oval</td>\n",
              "      <td>Jun 14, 1975</td>\n",
              "      <td>West Indies</td>\n",
              "      <td>England</td>\n",
              "      <td>Neutral</td>\n",
              "      <td>Neutral</td>\n",
              "      <td>First</td>\n",
              "      <td>Second</td>\n",
              "    </tr>\n",
              "    <tr>\n",
              "      <th>29</th>\n",
              "      <td>29</td>\n",
              "      <td>ODI # 33</td>\n",
              "      <td>Australia</td>\n",
              "      <td>West Indies</td>\n",
              "      <td>Winner1stInning</td>\n",
              "      <td>Lord's</td>\n",
              "      <td>Jun 21, 1975</td>\n",
              "      <td>West Indies</td>\n",
              "      <td>England</td>\n",
              "      <td>Neutral</td>\n",
              "      <td>Neutral</td>\n",
              "      <td>Second</td>\n",
              "      <td>First</td>\n",
              "    </tr>\n",
              "    <tr>\n",
              "      <th>38</th>\n",
              "      <td>38</td>\n",
              "      <td>ODI # 42</td>\n",
              "      <td>England</td>\n",
              "      <td>Australia</td>\n",
              "      <td>Winner2ndInning</td>\n",
              "      <td>Manchester</td>\n",
              "      <td>Jun 2, 1977</td>\n",
              "      <td>England</td>\n",
              "      <td>England</td>\n",
              "      <td>Home</td>\n",
              "      <td>Away</td>\n",
              "      <td>Second</td>\n",
              "      <td>First</td>\n",
              "    </tr>\n",
              "  </tbody>\n",
              "</table>\n",
              "</div>"
            ],
            "text/plain": [
              "    Unnamed: 0 Scorecard     Team_1  ... Venue_Team2 Innings_Team1 Innings_Team2\n",
              "1            1   ODI # 2    England  ...        Away        Second         First\n",
              "3            3   ODI # 4    England  ...        Away        Second         First\n",
              "25          25  ODI # 29  Australia  ...     Neutral         First        Second\n",
              "29          29  ODI # 33  Australia  ...     Neutral        Second         First\n",
              "38          38  ODI # 42    England  ...        Away        Second         First\n",
              "\n",
              "[5 rows x 13 columns]"
            ]
          },
          "metadata": {
            "tags": []
          },
          "execution_count": 56
        }
      ]
    },
    {
      "cell_type": "code",
      "metadata": {
        "id": "q0XVi5H_VIjB",
        "colab_type": "code",
        "outputId": "c5574a85-8df7-447d-8d29-42015f00eafd",
        "colab": {
          "base_uri": "https://localhost:8080/",
          "height": 34
        }
      },
      "source": [
        "# Number of loss away\n",
        "aus_l_a = df_team_Country_lost_away('Australia').shape[0]\n",
        "aus_l_a"
      ],
      "execution_count": 57,
      "outputs": [
        {
          "output_type": "execute_result",
          "data": {
            "text/plain": [
              "344"
            ]
          },
          "metadata": {
            "tags": []
          },
          "execution_count": 57
        }
      ]
    },
    {
      "cell_type": "code",
      "metadata": {
        "id": "B9enK_SKIcPH",
        "colab_type": "code",
        "outputId": "1a7cf942-700b-4d28-9721-53b80d0a373a",
        "colab": {
          "base_uri": "https://localhost:8080/",
          "height": 34
        }
      },
      "source": [
        "# Winning ratio away****************************\n",
        "aus_w_a_r = round(((aus_w_a) / (aus_w_a + aus_l_a)) * 100, 2)\n",
        "aus_w_a_r"
      ],
      "execution_count": 58,
      "outputs": [
        {
          "output_type": "execute_result",
          "data": {
            "text/plain": [
              "61.78"
            ]
          },
          "metadata": {
            "tags": []
          },
          "execution_count": 58
        }
      ]
    },
    {
      "cell_type": "markdown",
      "metadata": {
        "id": "TdvrbmGpcS3Q",
        "colab_type": "text"
      },
      "source": [
        "# Pakistan"
      ]
    },
    {
      "cell_type": "code",
      "metadata": {
        "id": "Fuji9qSgdYeW",
        "colab_type": "code",
        "outputId": "8b0ebe74-1d82-4f92-e18e-0fc229557ff6",
        "colab": {
          "base_uri": "https://localhost:8080/",
          "height": 299
        }
      },
      "source": [
        "# Pakistan won at home\n",
        "df_team_Country_win_home('Pakistan').head()"
      ],
      "execution_count": 59,
      "outputs": [
        {
          "output_type": "execute_result",
          "data": {
            "text/html": [
              "<div>\n",
              "<style scoped>\n",
              "    .dataframe tbody tr th:only-of-type {\n",
              "        vertical-align: middle;\n",
              "    }\n",
              "\n",
              "    .dataframe tbody tr th {\n",
              "        vertical-align: top;\n",
              "    }\n",
              "\n",
              "    .dataframe thead th {\n",
              "        text-align: right;\n",
              "    }\n",
              "</style>\n",
              "<table border=\"1\" class=\"dataframe\">\n",
              "  <thead>\n",
              "    <tr style=\"text-align: right;\">\n",
              "      <th></th>\n",
              "      <th>Unnamed: 0</th>\n",
              "      <th>Scorecard</th>\n",
              "      <th>Team_1</th>\n",
              "      <th>Team_2</th>\n",
              "      <th>Margin</th>\n",
              "      <th>Ground</th>\n",
              "      <th>Match_Date</th>\n",
              "      <th>Winner</th>\n",
              "      <th>Host_Country</th>\n",
              "      <th>Venue_Team1</th>\n",
              "      <th>Venue_Team2</th>\n",
              "      <th>Innings_Team1</th>\n",
              "      <th>Innings_Team2</th>\n",
              "    </tr>\n",
              "  </thead>\n",
              "  <tbody>\n",
              "    <tr>\n",
              "      <th>43</th>\n",
              "      <td>43</td>\n",
              "      <td>ODI # 47</td>\n",
              "      <td>Pakistan</td>\n",
              "      <td>England</td>\n",
              "      <td>Winner1stInning</td>\n",
              "      <td>Lahore</td>\n",
              "      <td>Jan 13, 1978</td>\n",
              "      <td>Pakistan</td>\n",
              "      <td>Pakistan</td>\n",
              "      <td>Home</td>\n",
              "      <td>Away</td>\n",
              "      <td>First</td>\n",
              "      <td>Second</td>\n",
              "    </tr>\n",
              "    <tr>\n",
              "      <th>51</th>\n",
              "      <td>51</td>\n",
              "      <td>ODI # 55</td>\n",
              "      <td>Pakistan</td>\n",
              "      <td>India</td>\n",
              "      <td>Winner2ndInning</td>\n",
              "      <td>Sialkot</td>\n",
              "      <td>Oct 13, 1978</td>\n",
              "      <td>Pakistan</td>\n",
              "      <td>Pakistan</td>\n",
              "      <td>Home</td>\n",
              "      <td>Away</td>\n",
              "      <td>Second</td>\n",
              "      <td>First</td>\n",
              "    </tr>\n",
              "    <tr>\n",
              "      <th>142</th>\n",
              "      <td>143</td>\n",
              "      <td>ODI # 149</td>\n",
              "      <td>Pakistan</td>\n",
              "      <td>Sri Lanka</td>\n",
              "      <td>Winner2ndInning</td>\n",
              "      <td>Karachi</td>\n",
              "      <td>Mar 12, 1982</td>\n",
              "      <td>Pakistan</td>\n",
              "      <td>Pakistan</td>\n",
              "      <td>Home</td>\n",
              "      <td>Away</td>\n",
              "      <td>Second</td>\n",
              "      <td>First</td>\n",
              "    </tr>\n",
              "    <tr>\n",
              "      <th>144</th>\n",
              "      <td>145</td>\n",
              "      <td>ODI # 151</td>\n",
              "      <td>Pakistan</td>\n",
              "      <td>Sri Lanka</td>\n",
              "      <td>Winner2ndInning</td>\n",
              "      <td>Karachi</td>\n",
              "      <td>Mar 31, 1982</td>\n",
              "      <td>Pakistan</td>\n",
              "      <td>Pakistan</td>\n",
              "      <td>Home</td>\n",
              "      <td>Away</td>\n",
              "      <td>Second</td>\n",
              "      <td>First</td>\n",
              "    </tr>\n",
              "    <tr>\n",
              "      <th>153</th>\n",
              "      <td>154</td>\n",
              "      <td>ODI # 160</td>\n",
              "      <td>Pakistan</td>\n",
              "      <td>Australia</td>\n",
              "      <td>Winner1stInning</td>\n",
              "      <td>Lahore</td>\n",
              "      <td>Oct 8, 1982</td>\n",
              "      <td>Pakistan</td>\n",
              "      <td>Pakistan</td>\n",
              "      <td>Home</td>\n",
              "      <td>Away</td>\n",
              "      <td>First</td>\n",
              "      <td>Second</td>\n",
              "    </tr>\n",
              "  </tbody>\n",
              "</table>\n",
              "</div>"
            ],
            "text/plain": [
              "     Unnamed: 0  Scorecard    Team_1  ... Venue_Team2 Innings_Team1 Innings_Team2\n",
              "43           43   ODI # 47  Pakistan  ...        Away         First        Second\n",
              "51           51   ODI # 55  Pakistan  ...        Away        Second         First\n",
              "142         143  ODI # 149  Pakistan  ...        Away        Second         First\n",
              "144         145  ODI # 151  Pakistan  ...        Away        Second         First\n",
              "153         154  ODI # 160  Pakistan  ...        Away         First        Second\n",
              "\n",
              "[5 rows x 13 columns]"
            ]
          },
          "metadata": {
            "tags": []
          },
          "execution_count": 59
        }
      ]
    },
    {
      "cell_type": "code",
      "metadata": {
        "id": "NxRp5DGnVMW-",
        "colab_type": "code",
        "outputId": "f7be7b0c-ef76-4e83-cee8-5428cbadd598",
        "colab": {
          "base_uri": "https://localhost:8080/",
          "height": 34
        }
      },
      "source": [
        "# Number of win at home\n",
        "pak_w_h = df_team_Country_win_home('Pakistan').shape[0]\n",
        "pak_w_h"
      ],
      "execution_count": 60,
      "outputs": [
        {
          "output_type": "execute_result",
          "data": {
            "text/plain": [
              "202"
            ]
          },
          "metadata": {
            "tags": []
          },
          "execution_count": 60
        }
      ]
    },
    {
      "cell_type": "code",
      "metadata": {
        "id": "pBcd78mxdiFE",
        "colab_type": "code",
        "outputId": "3565169f-9302-4e38-e9af-01f55f863a03",
        "colab": {
          "base_uri": "https://localhost:8080/",
          "height": 299
        }
      },
      "source": [
        "# Pakistan lost at home\n",
        "df_team_Country_lost_home('Pakistan').head()"
      ],
      "execution_count": 61,
      "outputs": [
        {
          "output_type": "execute_result",
          "data": {
            "text/html": [
              "<div>\n",
              "<style scoped>\n",
              "    .dataframe tbody tr th:only-of-type {\n",
              "        vertical-align: middle;\n",
              "    }\n",
              "\n",
              "    .dataframe tbody tr th {\n",
              "        vertical-align: top;\n",
              "    }\n",
              "\n",
              "    .dataframe thead th {\n",
              "        text-align: right;\n",
              "    }\n",
              "</style>\n",
              "<table border=\"1\" class=\"dataframe\">\n",
              "  <thead>\n",
              "    <tr style=\"text-align: right;\">\n",
              "      <th></th>\n",
              "      <th>Unnamed: 0</th>\n",
              "      <th>Scorecard</th>\n",
              "      <th>Team_1</th>\n",
              "      <th>Team_2</th>\n",
              "      <th>Margin</th>\n",
              "      <th>Ground</th>\n",
              "      <th>Match_Date</th>\n",
              "      <th>Winner</th>\n",
              "      <th>Host_Country</th>\n",
              "      <th>Venue_Team1</th>\n",
              "      <th>Venue_Team2</th>\n",
              "      <th>Innings_Team1</th>\n",
              "      <th>Innings_Team2</th>\n",
              "    </tr>\n",
              "  </thead>\n",
              "  <tbody>\n",
              "    <tr>\n",
              "      <th>36</th>\n",
              "      <td>36</td>\n",
              "      <td>ODI # 40</td>\n",
              "      <td>Pakistan</td>\n",
              "      <td>New Zealand</td>\n",
              "      <td>Winner1stInning</td>\n",
              "      <td>Sialkot</td>\n",
              "      <td>Oct 16, 1976</td>\n",
              "      <td>New Zealand</td>\n",
              "      <td>Pakistan</td>\n",
              "      <td>Home</td>\n",
              "      <td>Away</td>\n",
              "      <td>Second</td>\n",
              "      <td>First</td>\n",
              "    </tr>\n",
              "    <tr>\n",
              "      <th>41</th>\n",
              "      <td>41</td>\n",
              "      <td>ODI # 45</td>\n",
              "      <td>Pakistan</td>\n",
              "      <td>England</td>\n",
              "      <td>Winner2ndInning</td>\n",
              "      <td>Sahiwal</td>\n",
              "      <td>Dec 23, 1977</td>\n",
              "      <td>England</td>\n",
              "      <td>Pakistan</td>\n",
              "      <td>Home</td>\n",
              "      <td>Away</td>\n",
              "      <td>First</td>\n",
              "      <td>Second</td>\n",
              "    </tr>\n",
              "    <tr>\n",
              "      <th>42</th>\n",
              "      <td>42</td>\n",
              "      <td>ODI # 46</td>\n",
              "      <td>Pakistan</td>\n",
              "      <td>England</td>\n",
              "      <td>Winner2ndInning</td>\n",
              "      <td>Sialkot</td>\n",
              "      <td>Dec 30, 1977</td>\n",
              "      <td>England</td>\n",
              "      <td>Pakistan</td>\n",
              "      <td>Home</td>\n",
              "      <td>Away</td>\n",
              "      <td>First</td>\n",
              "      <td>Second</td>\n",
              "    </tr>\n",
              "    <tr>\n",
              "      <th>50</th>\n",
              "      <td>50</td>\n",
              "      <td>ODI # 54</td>\n",
              "      <td>Pakistan</td>\n",
              "      <td>India</td>\n",
              "      <td>Winner1stInning</td>\n",
              "      <td>Quetta</td>\n",
              "      <td>Oct 1, 1978</td>\n",
              "      <td>India</td>\n",
              "      <td>Pakistan</td>\n",
              "      <td>Home</td>\n",
              "      <td>Away</td>\n",
              "      <td>Second</td>\n",
              "      <td>First</td>\n",
              "    </tr>\n",
              "    <tr>\n",
              "      <th>87</th>\n",
              "      <td>88</td>\n",
              "      <td>ODI # 93</td>\n",
              "      <td>Pakistan</td>\n",
              "      <td>West Indies</td>\n",
              "      <td>Winner2ndInning</td>\n",
              "      <td>Karachi</td>\n",
              "      <td>Nov 21, 1980</td>\n",
              "      <td>West Indies</td>\n",
              "      <td>Pakistan</td>\n",
              "      <td>Home</td>\n",
              "      <td>Away</td>\n",
              "      <td>First</td>\n",
              "      <td>Second</td>\n",
              "    </tr>\n",
              "  </tbody>\n",
              "</table>\n",
              "</div>"
            ],
            "text/plain": [
              "    Unnamed: 0 Scorecard    Team_1  ... Venue_Team2 Innings_Team1 Innings_Team2\n",
              "36          36  ODI # 40  Pakistan  ...        Away        Second         First\n",
              "41          41  ODI # 45  Pakistan  ...        Away         First        Second\n",
              "42          42  ODI # 46  Pakistan  ...        Away         First        Second\n",
              "50          50  ODI # 54  Pakistan  ...        Away        Second         First\n",
              "87          88  ODI # 93  Pakistan  ...        Away         First        Second\n",
              "\n",
              "[5 rows x 13 columns]"
            ]
          },
          "metadata": {
            "tags": []
          },
          "execution_count": 61
        }
      ]
    },
    {
      "cell_type": "code",
      "metadata": {
        "id": "k1aeC6vkVZSf",
        "colab_type": "code",
        "outputId": "b5cdb286-60af-4522-935e-8beed316b14b",
        "colab": {
          "base_uri": "https://localhost:8080/",
          "height": 34
        }
      },
      "source": [
        "# Number of loss at home\n",
        "pak_l_h = df_team_Country_lost_home('Pakistan').shape[0]\n",
        "pak_l_h"
      ],
      "execution_count": 62,
      "outputs": [
        {
          "output_type": "execute_result",
          "data": {
            "text/plain": [
              "128"
            ]
          },
          "metadata": {
            "tags": []
          },
          "execution_count": 62
        }
      ]
    },
    {
      "cell_type": "code",
      "metadata": {
        "id": "7lqNCTguGAmM",
        "colab_type": "code",
        "outputId": "a7ac77ce-6f56-42da-b4b3-4445922d0463",
        "colab": {
          "base_uri": "https://localhost:8080/",
          "height": 34
        }
      },
      "source": [
        "# Winning ratio at home*******************\n",
        "pak_w_h_r = round(((pak_w_h) / (pak_w_h + pak_l_h)) * 100, 2)\n",
        "pak_w_h_r"
      ],
      "execution_count": 63,
      "outputs": [
        {
          "output_type": "execute_result",
          "data": {
            "text/plain": [
              "61.21"
            ]
          },
          "metadata": {
            "tags": []
          },
          "execution_count": 63
        }
      ]
    },
    {
      "cell_type": "code",
      "metadata": {
        "id": "e4K-mzo3dYkE",
        "colab_type": "code",
        "outputId": "fa32cbd6-da68-4c0e-eee2-efb7ff1c5f88",
        "colab": {
          "base_uri": "https://localhost:8080/",
          "height": 282
        }
      },
      "source": [
        "# Pakistan won away\n",
        "df_team_Country_win_away('Pakistan').head()"
      ],
      "execution_count": 64,
      "outputs": [
        {
          "output_type": "execute_result",
          "data": {
            "text/html": [
              "<div>\n",
              "<style scoped>\n",
              "    .dataframe tbody tr th:only-of-type {\n",
              "        vertical-align: middle;\n",
              "    }\n",
              "\n",
              "    .dataframe tbody tr th {\n",
              "        vertical-align: top;\n",
              "    }\n",
              "\n",
              "    .dataframe thead th {\n",
              "        text-align: right;\n",
              "    }\n",
              "</style>\n",
              "<table border=\"1\" class=\"dataframe\">\n",
              "  <thead>\n",
              "    <tr style=\"text-align: right;\">\n",
              "      <th></th>\n",
              "      <th>Unnamed: 0</th>\n",
              "      <th>Scorecard</th>\n",
              "      <th>Team_1</th>\n",
              "      <th>Team_2</th>\n",
              "      <th>Margin</th>\n",
              "      <th>Ground</th>\n",
              "      <th>Match_Date</th>\n",
              "      <th>Winner</th>\n",
              "      <th>Host_Country</th>\n",
              "      <th>Venue_Team1</th>\n",
              "      <th>Venue_Team2</th>\n",
              "      <th>Innings_Team1</th>\n",
              "      <th>Innings_Team2</th>\n",
              "    </tr>\n",
              "  </thead>\n",
              "  <tbody>\n",
              "    <tr>\n",
              "      <th>12</th>\n",
              "      <td>12</td>\n",
              "      <td>ODI # 14</td>\n",
              "      <td>England</td>\n",
              "      <td>Pakistan</td>\n",
              "      <td>Winner2ndInning</td>\n",
              "      <td>Nottingham</td>\n",
              "      <td>Aug 31, 1974</td>\n",
              "      <td>Pakistan</td>\n",
              "      <td>England</td>\n",
              "      <td>Home</td>\n",
              "      <td>Away</td>\n",
              "      <td>First</td>\n",
              "      <td>Second</td>\n",
              "    </tr>\n",
              "    <tr>\n",
              "      <th>13</th>\n",
              "      <td>13</td>\n",
              "      <td>ODI # 15</td>\n",
              "      <td>England</td>\n",
              "      <td>Pakistan</td>\n",
              "      <td>Winner2ndInning</td>\n",
              "      <td>Birmingham</td>\n",
              "      <td>Sep 3, 1974</td>\n",
              "      <td>Pakistan</td>\n",
              "      <td>England</td>\n",
              "      <td>Home</td>\n",
              "      <td>Away</td>\n",
              "      <td>First</td>\n",
              "      <td>Second</td>\n",
              "    </tr>\n",
              "    <tr>\n",
              "      <th>26</th>\n",
              "      <td>26</td>\n",
              "      <td>ODI # 30</td>\n",
              "      <td>Pakistan</td>\n",
              "      <td>Sri Lanka</td>\n",
              "      <td>Winner1stInning</td>\n",
              "      <td>Nottingham</td>\n",
              "      <td>Jun 14, 1975</td>\n",
              "      <td>Pakistan</td>\n",
              "      <td>England</td>\n",
              "      <td>Neutral</td>\n",
              "      <td>Neutral</td>\n",
              "      <td>First</td>\n",
              "      <td>Second</td>\n",
              "    </tr>\n",
              "    <tr>\n",
              "      <th>58</th>\n",
              "      <td>59</td>\n",
              "      <td>ODI # 64</td>\n",
              "      <td>Canada</td>\n",
              "      <td>Pakistan</td>\n",
              "      <td>Winner2ndInning</td>\n",
              "      <td>Leeds</td>\n",
              "      <td>Jun 9, 1979</td>\n",
              "      <td>Pakistan</td>\n",
              "      <td>England</td>\n",
              "      <td>Neutral</td>\n",
              "      <td>Neutral</td>\n",
              "      <td>First</td>\n",
              "      <td>Second</td>\n",
              "    </tr>\n",
              "    <tr>\n",
              "      <th>60</th>\n",
              "      <td>61</td>\n",
              "      <td>ODI # 66</td>\n",
              "      <td>Australia</td>\n",
              "      <td>Pakistan</td>\n",
              "      <td>Winner1stInning</td>\n",
              "      <td>Nottingham</td>\n",
              "      <td>Jun 13-14, 1979</td>\n",
              "      <td>Pakistan</td>\n",
              "      <td>England</td>\n",
              "      <td>Neutral</td>\n",
              "      <td>Neutral</td>\n",
              "      <td>Second</td>\n",
              "      <td>First</td>\n",
              "    </tr>\n",
              "  </tbody>\n",
              "</table>\n",
              "</div>"
            ],
            "text/plain": [
              "    Unnamed: 0 Scorecard     Team_1  ... Venue_Team2 Innings_Team1 Innings_Team2\n",
              "12          12  ODI # 14    England  ...        Away         First        Second\n",
              "13          13  ODI # 15    England  ...        Away         First        Second\n",
              "26          26  ODI # 30   Pakistan  ...     Neutral         First        Second\n",
              "58          59  ODI # 64     Canada  ...     Neutral         First        Second\n",
              "60          61  ODI # 66  Australia  ...     Neutral        Second         First\n",
              "\n",
              "[5 rows x 13 columns]"
            ]
          },
          "metadata": {
            "tags": []
          },
          "execution_count": 64
        }
      ]
    },
    {
      "cell_type": "code",
      "metadata": {
        "id": "qLdGkk6vVdkG",
        "colab_type": "code",
        "outputId": "a444db9b-adfe-4ec6-9b95-0c9e9401458c",
        "colab": {
          "base_uri": "https://localhost:8080/",
          "height": 34
        }
      },
      "source": [
        "# Number of win away\n",
        "pak_w_a = df_team_Country_win_away('Pakistan').shape[0]\n",
        "pak_w_a"
      ],
      "execution_count": 65,
      "outputs": [
        {
          "output_type": "execute_result",
          "data": {
            "text/plain": [
              "730"
            ]
          },
          "metadata": {
            "tags": []
          },
          "execution_count": 65
        }
      ]
    },
    {
      "cell_type": "code",
      "metadata": {
        "id": "2amfM_0BdYq_",
        "colab_type": "code",
        "outputId": "4afe4d15-e44d-4b59-db45-63822ada4c45",
        "colab": {
          "base_uri": "https://localhost:8080/",
          "height": 299
        }
      },
      "source": [
        "# Pakistan lost Away\n",
        "df_team_Country_lost_away('Pakistan').head()"
      ],
      "execution_count": 66,
      "outputs": [
        {
          "output_type": "execute_result",
          "data": {
            "text/html": [
              "<div>\n",
              "<style scoped>\n",
              "    .dataframe tbody tr th:only-of-type {\n",
              "        vertical-align: middle;\n",
              "    }\n",
              "\n",
              "    .dataframe tbody tr th {\n",
              "        vertical-align: top;\n",
              "    }\n",
              "\n",
              "    .dataframe thead th {\n",
              "        text-align: right;\n",
              "    }\n",
              "</style>\n",
              "<table border=\"1\" class=\"dataframe\">\n",
              "  <thead>\n",
              "    <tr style=\"text-align: right;\">\n",
              "      <th></th>\n",
              "      <th>Unnamed: 0</th>\n",
              "      <th>Scorecard</th>\n",
              "      <th>Team_1</th>\n",
              "      <th>Team_2</th>\n",
              "      <th>Margin</th>\n",
              "      <th>Ground</th>\n",
              "      <th>Match_Date</th>\n",
              "      <th>Winner</th>\n",
              "      <th>Host_Country</th>\n",
              "      <th>Venue_Team1</th>\n",
              "      <th>Venue_Team2</th>\n",
              "      <th>Innings_Team1</th>\n",
              "      <th>Innings_Team2</th>\n",
              "    </tr>\n",
              "  </thead>\n",
              "  <tbody>\n",
              "    <tr>\n",
              "      <th>4</th>\n",
              "      <td>4</td>\n",
              "      <td>ODI # 5</td>\n",
              "      <td>New Zealand</td>\n",
              "      <td>Pakistan</td>\n",
              "      <td>Winner1stInning</td>\n",
              "      <td>Christchurch</td>\n",
              "      <td>Feb 11, 1973</td>\n",
              "      <td>New Zealand</td>\n",
              "      <td>New Zealand</td>\n",
              "      <td>Home</td>\n",
              "      <td>Away</td>\n",
              "      <td>First</td>\n",
              "      <td>Second</td>\n",
              "    </tr>\n",
              "    <tr>\n",
              "      <th>17</th>\n",
              "      <td>17</td>\n",
              "      <td>ODI # 21</td>\n",
              "      <td>Australia</td>\n",
              "      <td>Pakistan</td>\n",
              "      <td>Winner1stInning</td>\n",
              "      <td>Leeds</td>\n",
              "      <td>Jun 7, 1975</td>\n",
              "      <td>Australia</td>\n",
              "      <td>England</td>\n",
              "      <td>Neutral</td>\n",
              "      <td>Neutral</td>\n",
              "      <td>First</td>\n",
              "      <td>Second</td>\n",
              "    </tr>\n",
              "    <tr>\n",
              "      <th>22</th>\n",
              "      <td>22</td>\n",
              "      <td>ODI # 26</td>\n",
              "      <td>Pakistan</td>\n",
              "      <td>West Indies</td>\n",
              "      <td>Winner2ndInning</td>\n",
              "      <td>Birmingham</td>\n",
              "      <td>Jun 11, 1975</td>\n",
              "      <td>West Indies</td>\n",
              "      <td>England</td>\n",
              "      <td>Neutral</td>\n",
              "      <td>Neutral</td>\n",
              "      <td>First</td>\n",
              "      <td>Second</td>\n",
              "    </tr>\n",
              "    <tr>\n",
              "      <th>37</th>\n",
              "      <td>37</td>\n",
              "      <td>ODI # 41</td>\n",
              "      <td>West Indies</td>\n",
              "      <td>Pakistan</td>\n",
              "      <td>Winner2ndInning</td>\n",
              "      <td>Albion</td>\n",
              "      <td>Mar 16, 1977</td>\n",
              "      <td>West Indies</td>\n",
              "      <td>West Indies</td>\n",
              "      <td>Home</td>\n",
              "      <td>Away</td>\n",
              "      <td>Second</td>\n",
              "      <td>First</td>\n",
              "    </tr>\n",
              "    <tr>\n",
              "      <th>46</th>\n",
              "      <td>46</td>\n",
              "      <td>ODI # 50</td>\n",
              "      <td>England</td>\n",
              "      <td>Pakistan</td>\n",
              "      <td>Winner1stInning</td>\n",
              "      <td>Manchester</td>\n",
              "      <td>May 24-25, 1978</td>\n",
              "      <td>England</td>\n",
              "      <td>England</td>\n",
              "      <td>Home</td>\n",
              "      <td>Away</td>\n",
              "      <td>First</td>\n",
              "      <td>Second</td>\n",
              "    </tr>\n",
              "  </tbody>\n",
              "</table>\n",
              "</div>"
            ],
            "text/plain": [
              "    Unnamed: 0 Scorecard       Team_1  ... Venue_Team2 Innings_Team1 Innings_Team2\n",
              "4            4   ODI # 5  New Zealand  ...        Away         First        Second\n",
              "17          17  ODI # 21    Australia  ...     Neutral         First        Second\n",
              "22          22  ODI # 26     Pakistan  ...     Neutral         First        Second\n",
              "37          37  ODI # 41  West Indies  ...        Away        Second         First\n",
              "46          46  ODI # 50      England  ...        Away         First        Second\n",
              "\n",
              "[5 rows x 13 columns]"
            ]
          },
          "metadata": {
            "tags": []
          },
          "execution_count": 66
        }
      ]
    },
    {
      "cell_type": "code",
      "metadata": {
        "id": "Ta8KZNH9ViDz",
        "colab_type": "code",
        "outputId": "617f7977-a7b6-44df-a096-69030ab6a6af",
        "colab": {
          "base_uri": "https://localhost:8080/",
          "height": 34
        }
      },
      "source": [
        "# Number of loss away\n",
        "pak_l_a = df_team_Country_lost_away('Pakistan').shape[0]\n",
        "pak_l_a"
      ],
      "execution_count": 67,
      "outputs": [
        {
          "output_type": "execute_result",
          "data": {
            "text/plain": [
              "648"
            ]
          },
          "metadata": {
            "tags": []
          },
          "execution_count": 67
        }
      ]
    },
    {
      "cell_type": "code",
      "metadata": {
        "id": "kv2xg7ocIkz6",
        "colab_type": "code",
        "outputId": "9a4f6594-8577-4e69-f1b4-82d7957ba9e2",
        "colab": {
          "base_uri": "https://localhost:8080/",
          "height": 34
        }
      },
      "source": [
        "# Winning ratio away****************************\n",
        "pak_w_a_r = round(((pak_w_a) / (pak_w_a + pak_l_a)) * 100, 2)\n",
        "pak_w_a_r"
      ],
      "execution_count": 68,
      "outputs": [
        {
          "output_type": "execute_result",
          "data": {
            "text/plain": [
              "52.98"
            ]
          },
          "metadata": {
            "tags": []
          },
          "execution_count": 68
        }
      ]
    },
    {
      "cell_type": "markdown",
      "metadata": {
        "id": "96kKOHYLcXis",
        "colab_type": "text"
      },
      "source": [
        "#  Bangladesh"
      ]
    },
    {
      "cell_type": "code",
      "metadata": {
        "id": "h2m1P0eadtHZ",
        "colab_type": "code",
        "outputId": "7632740b-f37e-4ff5-c34e-102f155b825d",
        "colab": {
          "base_uri": "https://localhost:8080/",
          "height": 316
        }
      },
      "source": [
        "# Bangladesh won at home\n",
        "df_team_Country_win_home('Bangladesh').head()"
      ],
      "execution_count": 69,
      "outputs": [
        {
          "output_type": "execute_result",
          "data": {
            "text/html": [
              "<div>\n",
              "<style scoped>\n",
              "    .dataframe tbody tr th:only-of-type {\n",
              "        vertical-align: middle;\n",
              "    }\n",
              "\n",
              "    .dataframe tbody tr th {\n",
              "        vertical-align: top;\n",
              "    }\n",
              "\n",
              "    .dataframe thead th {\n",
              "        text-align: right;\n",
              "    }\n",
              "</style>\n",
              "<table border=\"1\" class=\"dataframe\">\n",
              "  <thead>\n",
              "    <tr style=\"text-align: right;\">\n",
              "      <th></th>\n",
              "      <th>Unnamed: 0</th>\n",
              "      <th>Scorecard</th>\n",
              "      <th>Team_1</th>\n",
              "      <th>Team_2</th>\n",
              "      <th>Margin</th>\n",
              "      <th>Ground</th>\n",
              "      <th>Match_Date</th>\n",
              "      <th>Winner</th>\n",
              "      <th>Host_Country</th>\n",
              "      <th>Venue_Team1</th>\n",
              "      <th>Venue_Team2</th>\n",
              "      <th>Innings_Team1</th>\n",
              "      <th>Innings_Team2</th>\n",
              "    </tr>\n",
              "  </thead>\n",
              "  <tbody>\n",
              "    <tr>\n",
              "      <th>2108</th>\n",
              "      <td>2113</td>\n",
              "      <td>ODI # 2201</td>\n",
              "      <td>Bangladesh</td>\n",
              "      <td>India</td>\n",
              "      <td>Winner1stInning</td>\n",
              "      <td>Dhaka</td>\n",
              "      <td>Dec 26, 2004</td>\n",
              "      <td>Bangladesh</td>\n",
              "      <td>Bangladesh</td>\n",
              "      <td>Home</td>\n",
              "      <td>Away</td>\n",
              "      <td>First</td>\n",
              "      <td>Second</td>\n",
              "    </tr>\n",
              "    <tr>\n",
              "      <th>2116</th>\n",
              "      <td>2121</td>\n",
              "      <td>ODI # 2211</td>\n",
              "      <td>Bangladesh</td>\n",
              "      <td>Zimbabwe</td>\n",
              "      <td>Winner1stInning</td>\n",
              "      <td>Chittagong</td>\n",
              "      <td>Jan 26, 2005</td>\n",
              "      <td>Bangladesh</td>\n",
              "      <td>Bangladesh</td>\n",
              "      <td>Home</td>\n",
              "      <td>Away</td>\n",
              "      <td>First</td>\n",
              "      <td>Second</td>\n",
              "    </tr>\n",
              "    <tr>\n",
              "      <th>2119</th>\n",
              "      <td>2124</td>\n",
              "      <td>ODI # 2214</td>\n",
              "      <td>Bangladesh</td>\n",
              "      <td>Zimbabwe</td>\n",
              "      <td>Winner1stInning</td>\n",
              "      <td>Dhaka</td>\n",
              "      <td>Jan 29, 2005</td>\n",
              "      <td>Bangladesh</td>\n",
              "      <td>Bangladesh</td>\n",
              "      <td>Home</td>\n",
              "      <td>Away</td>\n",
              "      <td>First</td>\n",
              "      <td>Second</td>\n",
              "    </tr>\n",
              "    <tr>\n",
              "      <th>2122</th>\n",
              "      <td>2127</td>\n",
              "      <td>ODI # 2217</td>\n",
              "      <td>Bangladesh</td>\n",
              "      <td>Zimbabwe</td>\n",
              "      <td>Winner2ndInning</td>\n",
              "      <td>Dhaka</td>\n",
              "      <td>Jan 31, 2005</td>\n",
              "      <td>Bangladesh</td>\n",
              "      <td>Bangladesh</td>\n",
              "      <td>Home</td>\n",
              "      <td>Away</td>\n",
              "      <td>Second</td>\n",
              "      <td>First</td>\n",
              "    </tr>\n",
              "    <tr>\n",
              "      <th>2230</th>\n",
              "      <td>2235</td>\n",
              "      <td>ODI # 2336</td>\n",
              "      <td>Bangladesh</td>\n",
              "      <td>Sri Lanka</td>\n",
              "      <td>Winner2ndInning</td>\n",
              "      <td>Bogra</td>\n",
              "      <td>Feb 22, 2006</td>\n",
              "      <td>Bangladesh</td>\n",
              "      <td>Bangladesh</td>\n",
              "      <td>Home</td>\n",
              "      <td>Away</td>\n",
              "      <td>Second</td>\n",
              "      <td>First</td>\n",
              "    </tr>\n",
              "  </tbody>\n",
              "</table>\n",
              "</div>"
            ],
            "text/plain": [
              "      Unnamed: 0   Scorecard  ... Innings_Team1 Innings_Team2\n",
              "2108        2113  ODI # 2201  ...         First        Second\n",
              "2116        2121  ODI # 2211  ...         First        Second\n",
              "2119        2124  ODI # 2214  ...         First        Second\n",
              "2122        2127  ODI # 2217  ...        Second         First\n",
              "2230        2235  ODI # 2336  ...        Second         First\n",
              "\n",
              "[5 rows x 13 columns]"
            ]
          },
          "metadata": {
            "tags": []
          },
          "execution_count": 69
        }
      ]
    },
    {
      "cell_type": "code",
      "metadata": {
        "id": "2SOhxKwIXnS-",
        "colab_type": "code",
        "outputId": "79fe7a3b-c27e-4e88-9442-3c3ff440ec1c",
        "colab": {
          "base_uri": "https://localhost:8080/",
          "height": 34
        }
      },
      "source": [
        "# Number of win at home\n",
        "ban_w_h = df_team_Country_win_home('Bangladesh').shape[0]\n",
        "ban_w_h"
      ],
      "execution_count": 70,
      "outputs": [
        {
          "output_type": "execute_result",
          "data": {
            "text/plain": [
              "128"
            ]
          },
          "metadata": {
            "tags": []
          },
          "execution_count": 70
        }
      ]
    },
    {
      "cell_type": "code",
      "metadata": {
        "id": "LHokXMbUd08N",
        "colab_type": "code",
        "outputId": "4d64ae9c-349d-4e31-e81a-b1f7b4cb7c60",
        "colab": {
          "base_uri": "https://localhost:8080/",
          "height": 316
        }
      },
      "source": [
        "# Bangladesh lost at home\n",
        "df_team_Country_lost_home('Bangladesh').head()"
      ],
      "execution_count": 71,
      "outputs": [
        {
          "output_type": "execute_result",
          "data": {
            "text/html": [
              "<div>\n",
              "<style scoped>\n",
              "    .dataframe tbody tr th:only-of-type {\n",
              "        vertical-align: middle;\n",
              "    }\n",
              "\n",
              "    .dataframe tbody tr th {\n",
              "        vertical-align: top;\n",
              "    }\n",
              "\n",
              "    .dataframe thead th {\n",
              "        text-align: right;\n",
              "    }\n",
              "</style>\n",
              "<table border=\"1\" class=\"dataframe\">\n",
              "  <thead>\n",
              "    <tr style=\"text-align: right;\">\n",
              "      <th></th>\n",
              "      <th>Unnamed: 0</th>\n",
              "      <th>Scorecard</th>\n",
              "      <th>Team_1</th>\n",
              "      <th>Team_2</th>\n",
              "      <th>Margin</th>\n",
              "      <th>Ground</th>\n",
              "      <th>Match_Date</th>\n",
              "      <th>Winner</th>\n",
              "      <th>Host_Country</th>\n",
              "      <th>Venue_Team1</th>\n",
              "      <th>Venue_Team2</th>\n",
              "      <th>Innings_Team1</th>\n",
              "      <th>Innings_Team2</th>\n",
              "    </tr>\n",
              "  </thead>\n",
              "  <tbody>\n",
              "    <tr>\n",
              "      <th>506</th>\n",
              "      <td>509</td>\n",
              "      <td>ODI # 529</td>\n",
              "      <td>Bangladesh</td>\n",
              "      <td>India</td>\n",
              "      <td>Winner2ndInning</td>\n",
              "      <td>Chittagong</td>\n",
              "      <td>Oct 27, 1988</td>\n",
              "      <td>India</td>\n",
              "      <td>Bangladesh</td>\n",
              "      <td>Home</td>\n",
              "      <td>Away</td>\n",
              "      <td>First</td>\n",
              "      <td>Second</td>\n",
              "    </tr>\n",
              "    <tr>\n",
              "      <th>508</th>\n",
              "      <td>511</td>\n",
              "      <td>ODI # 531</td>\n",
              "      <td>Bangladesh</td>\n",
              "      <td>Pakistan</td>\n",
              "      <td>Winner1stInning</td>\n",
              "      <td>Chittagong</td>\n",
              "      <td>Oct 29, 1988</td>\n",
              "      <td>Pakistan</td>\n",
              "      <td>Bangladesh</td>\n",
              "      <td>Home</td>\n",
              "      <td>Away</td>\n",
              "      <td>Second</td>\n",
              "      <td>First</td>\n",
              "    </tr>\n",
              "    <tr>\n",
              "      <th>510</th>\n",
              "      <td>513</td>\n",
              "      <td>ODI # 533</td>\n",
              "      <td>Bangladesh</td>\n",
              "      <td>Sri Lanka</td>\n",
              "      <td>Winner2ndInning</td>\n",
              "      <td>Dhaka</td>\n",
              "      <td>Nov 2, 1988</td>\n",
              "      <td>Sri Lanka</td>\n",
              "      <td>Bangladesh</td>\n",
              "      <td>Home</td>\n",
              "      <td>Away</td>\n",
              "      <td>First</td>\n",
              "      <td>Second</td>\n",
              "    </tr>\n",
              "    <tr>\n",
              "      <th>1214</th>\n",
              "      <td>1218</td>\n",
              "      <td>ODI # 1271</td>\n",
              "      <td>Bangladesh</td>\n",
              "      <td>India</td>\n",
              "      <td>Winner2ndInning</td>\n",
              "      <td>Dhaka</td>\n",
              "      <td>Jan 10, 1998</td>\n",
              "      <td>India</td>\n",
              "      <td>Bangladesh</td>\n",
              "      <td>Home</td>\n",
              "      <td>Away</td>\n",
              "      <td>First</td>\n",
              "      <td>Second</td>\n",
              "    </tr>\n",
              "    <tr>\n",
              "      <th>1217</th>\n",
              "      <td>1221</td>\n",
              "      <td>ODI # 1274</td>\n",
              "      <td>Bangladesh</td>\n",
              "      <td>Pakistan</td>\n",
              "      <td>Winner2ndInning</td>\n",
              "      <td>Dhaka</td>\n",
              "      <td>Jan 12, 1998</td>\n",
              "      <td>Pakistan</td>\n",
              "      <td>Bangladesh</td>\n",
              "      <td>Home</td>\n",
              "      <td>Away</td>\n",
              "      <td>First</td>\n",
              "      <td>Second</td>\n",
              "    </tr>\n",
              "  </tbody>\n",
              "</table>\n",
              "</div>"
            ],
            "text/plain": [
              "      Unnamed: 0   Scorecard  ... Innings_Team1 Innings_Team2\n",
              "506          509   ODI # 529  ...         First        Second\n",
              "508          511   ODI # 531  ...        Second         First\n",
              "510          513   ODI # 533  ...         First        Second\n",
              "1214        1218  ODI # 1271  ...         First        Second\n",
              "1217        1221  ODI # 1274  ...         First        Second\n",
              "\n",
              "[5 rows x 13 columns]"
            ]
          },
          "metadata": {
            "tags": []
          },
          "execution_count": 71
        }
      ]
    },
    {
      "cell_type": "code",
      "metadata": {
        "id": "k_Gthu0MXq7G",
        "colab_type": "code",
        "outputId": "6a174210-02fa-4510-aaf0-004e4aedc66b",
        "colab": {
          "base_uri": "https://localhost:8080/",
          "height": 34
        }
      },
      "source": [
        "# Number of loss at home\n",
        "ban_l_h = df_team_Country_lost_home('Bangladesh').shape[0]\n",
        "ban_l_h"
      ],
      "execution_count": 72,
      "outputs": [
        {
          "output_type": "execute_result",
          "data": {
            "text/plain": [
              "184"
            ]
          },
          "metadata": {
            "tags": []
          },
          "execution_count": 72
        }
      ]
    },
    {
      "cell_type": "code",
      "metadata": {
        "id": "v29iNuTGGSv0",
        "colab_type": "code",
        "outputId": "dca61b30-b291-4b3b-8ce6-f8a0e7de175a",
        "colab": {
          "base_uri": "https://localhost:8080/",
          "height": 34
        }
      },
      "source": [
        "# Winning ratio at home*******************\n",
        "ban_w_h_r = round(((ban_w_h) / (ban_w_h + ban_l_h)) * 100, 2)\n",
        "ban_w_h_r"
      ],
      "execution_count": 73,
      "outputs": [
        {
          "output_type": "execute_result",
          "data": {
            "text/plain": [
              "41.03"
            ]
          },
          "metadata": {
            "tags": []
          },
          "execution_count": 73
        }
      ]
    },
    {
      "cell_type": "code",
      "metadata": {
        "id": "DEteW0gUd1Dn",
        "colab_type": "code",
        "outputId": "2892c55f-ec7a-4cb7-a57b-40d71753f515",
        "colab": {
          "base_uri": "https://localhost:8080/",
          "height": 316
        }
      },
      "source": [
        "# Bangladesh won away\n",
        "df_team_Country_win_away('Bangladesh').head()"
      ],
      "execution_count": 74,
      "outputs": [
        {
          "output_type": "execute_result",
          "data": {
            "text/html": [
              "<div>\n",
              "<style scoped>\n",
              "    .dataframe tbody tr th:only-of-type {\n",
              "        vertical-align: middle;\n",
              "    }\n",
              "\n",
              "    .dataframe tbody tr th {\n",
              "        vertical-align: top;\n",
              "    }\n",
              "\n",
              "    .dataframe thead th {\n",
              "        text-align: right;\n",
              "    }\n",
              "</style>\n",
              "<table border=\"1\" class=\"dataframe\">\n",
              "  <thead>\n",
              "    <tr style=\"text-align: right;\">\n",
              "      <th></th>\n",
              "      <th>Unnamed: 0</th>\n",
              "      <th>Scorecard</th>\n",
              "      <th>Team_1</th>\n",
              "      <th>Team_2</th>\n",
              "      <th>Margin</th>\n",
              "      <th>Ground</th>\n",
              "      <th>Match_Date</th>\n",
              "      <th>Winner</th>\n",
              "      <th>Host_Country</th>\n",
              "      <th>Venue_Team1</th>\n",
              "      <th>Venue_Team2</th>\n",
              "      <th>Innings_Team1</th>\n",
              "      <th>Innings_Team2</th>\n",
              "    </tr>\n",
              "  </thead>\n",
              "  <tbody>\n",
              "    <tr>\n",
              "      <th>1272</th>\n",
              "      <td>1276</td>\n",
              "      <td>ODI # 1329</td>\n",
              "      <td>Bangladesh</td>\n",
              "      <td>Kenya</td>\n",
              "      <td>Winner2ndInning</td>\n",
              "      <td>Hyderabad</td>\n",
              "      <td>May 17, 1998</td>\n",
              "      <td>Bangladesh</td>\n",
              "      <td>India</td>\n",
              "      <td>Neutral</td>\n",
              "      <td>Neutral</td>\n",
              "      <td>Second</td>\n",
              "      <td>First</td>\n",
              "    </tr>\n",
              "    <tr>\n",
              "      <th>1396</th>\n",
              "      <td>1400</td>\n",
              "      <td>ODI # 1459</td>\n",
              "      <td>Scotland</td>\n",
              "      <td>Bangladesh</td>\n",
              "      <td>Winner1stInning</td>\n",
              "      <td>Edinburgh</td>\n",
              "      <td>May 24, 1999</td>\n",
              "      <td>Bangladesh</td>\n",
              "      <td>Scotland</td>\n",
              "      <td>Home</td>\n",
              "      <td>Away</td>\n",
              "      <td>Second</td>\n",
              "      <td>First</td>\n",
              "    </tr>\n",
              "    <tr>\n",
              "      <th>1408</th>\n",
              "      <td>1412</td>\n",
              "      <td>ODI # 1471</td>\n",
              "      <td>Bangladesh</td>\n",
              "      <td>Pakistan</td>\n",
              "      <td>Winner1stInning</td>\n",
              "      <td>Northampton</td>\n",
              "      <td>May 31, 1999</td>\n",
              "      <td>Bangladesh</td>\n",
              "      <td>England</td>\n",
              "      <td>Neutral</td>\n",
              "      <td>Neutral</td>\n",
              "      <td>First</td>\n",
              "      <td>Second</td>\n",
              "    </tr>\n",
              "    <tr>\n",
              "      <th>2021</th>\n",
              "      <td>2026</td>\n",
              "      <td>ODI # 2110</td>\n",
              "      <td>Zimbabwe</td>\n",
              "      <td>Bangladesh</td>\n",
              "      <td>Winner1stInning</td>\n",
              "      <td>Harare</td>\n",
              "      <td>Mar 10, 2004</td>\n",
              "      <td>Bangladesh</td>\n",
              "      <td>Zimbabwe</td>\n",
              "      <td>Home</td>\n",
              "      <td>Away</td>\n",
              "      <td>Second</td>\n",
              "      <td>First</td>\n",
              "    </tr>\n",
              "    <tr>\n",
              "      <th>2051</th>\n",
              "      <td>2056</td>\n",
              "      <td>ODI # 2143</td>\n",
              "      <td>Bangladesh</td>\n",
              "      <td>Hong Kong</td>\n",
              "      <td>Winner1stInning</td>\n",
              "      <td>Colombo</td>\n",
              "      <td>Jul 16, 2004</td>\n",
              "      <td>Bangladesh</td>\n",
              "      <td>Sri Lanka</td>\n",
              "      <td>Neutral</td>\n",
              "      <td>Neutral</td>\n",
              "      <td>First</td>\n",
              "      <td>Second</td>\n",
              "    </tr>\n",
              "  </tbody>\n",
              "</table>\n",
              "</div>"
            ],
            "text/plain": [
              "      Unnamed: 0   Scorecard  ... Innings_Team1 Innings_Team2\n",
              "1272        1276  ODI # 1329  ...        Second         First\n",
              "1396        1400  ODI # 1459  ...        Second         First\n",
              "1408        1412  ODI # 1471  ...         First        Second\n",
              "2021        2026  ODI # 2110  ...        Second         First\n",
              "2051        2056  ODI # 2143  ...         First        Second\n",
              "\n",
              "[5 rows x 13 columns]"
            ]
          },
          "metadata": {
            "tags": []
          },
          "execution_count": 74
        }
      ]
    },
    {
      "cell_type": "code",
      "metadata": {
        "id": "og38txrYXuNW",
        "colab_type": "code",
        "outputId": "2b2a5210-c695-455c-a0e7-c2008612f47b",
        "colab": {
          "base_uri": "https://localhost:8080/",
          "height": 34
        }
      },
      "source": [
        "# Number of win away\n",
        "ban_w_a = df_team_Country_win_away('Bangladesh').shape[0]\n",
        "ban_w_a"
      ],
      "execution_count": 75,
      "outputs": [
        {
          "output_type": "execute_result",
          "data": {
            "text/plain": [
              "82"
            ]
          },
          "metadata": {
            "tags": []
          },
          "execution_count": 75
        }
      ]
    },
    {
      "cell_type": "code",
      "metadata": {
        "id": "XtP39guLd1KE",
        "colab_type": "code",
        "outputId": "88ac422a-344c-4d41-b15e-178d2f4c97e3",
        "colab": {
          "base_uri": "https://localhost:8080/",
          "height": 316
        }
      },
      "source": [
        "# Bangladesh lost Away\n",
        "df_team_Country_lost_away('Bangladesh').head()"
      ],
      "execution_count": 76,
      "outputs": [
        {
          "output_type": "execute_result",
          "data": {
            "text/html": [
              "<div>\n",
              "<style scoped>\n",
              "    .dataframe tbody tr th:only-of-type {\n",
              "        vertical-align: middle;\n",
              "    }\n",
              "\n",
              "    .dataframe tbody tr th {\n",
              "        vertical-align: top;\n",
              "    }\n",
              "\n",
              "    .dataframe thead th {\n",
              "        text-align: right;\n",
              "    }\n",
              "</style>\n",
              "<table border=\"1\" class=\"dataframe\">\n",
              "  <thead>\n",
              "    <tr style=\"text-align: right;\">\n",
              "      <th></th>\n",
              "      <th>Unnamed: 0</th>\n",
              "      <th>Scorecard</th>\n",
              "      <th>Team_1</th>\n",
              "      <th>Team_2</th>\n",
              "      <th>Margin</th>\n",
              "      <th>Ground</th>\n",
              "      <th>Match_Date</th>\n",
              "      <th>Winner</th>\n",
              "      <th>Host_Country</th>\n",
              "      <th>Venue_Team1</th>\n",
              "      <th>Venue_Team2</th>\n",
              "      <th>Innings_Team1</th>\n",
              "      <th>Innings_Team2</th>\n",
              "    </tr>\n",
              "  </thead>\n",
              "  <tbody>\n",
              "    <tr>\n",
              "      <th>355</th>\n",
              "      <td>356</td>\n",
              "      <td>ODI # 375</td>\n",
              "      <td>Bangladesh</td>\n",
              "      <td>Pakistan</td>\n",
              "      <td>Winner2ndInning</td>\n",
              "      <td>Moratuwa</td>\n",
              "      <td>Mar 31, 1986</td>\n",
              "      <td>Pakistan</td>\n",
              "      <td>Sri Lanka</td>\n",
              "      <td>Neutral</td>\n",
              "      <td>Neutral</td>\n",
              "      <td>First</td>\n",
              "      <td>Second</td>\n",
              "    </tr>\n",
              "    <tr>\n",
              "      <th>357</th>\n",
              "      <td>358</td>\n",
              "      <td>ODI # 377</td>\n",
              "      <td>Sri Lanka</td>\n",
              "      <td>Bangladesh</td>\n",
              "      <td>Winner2ndInning</td>\n",
              "      <td>Kandy</td>\n",
              "      <td>Apr 2, 1986</td>\n",
              "      <td>Sri Lanka</td>\n",
              "      <td>Sri Lanka</td>\n",
              "      <td>Home</td>\n",
              "      <td>Away</td>\n",
              "      <td>Second</td>\n",
              "      <td>First</td>\n",
              "    </tr>\n",
              "    <tr>\n",
              "      <th>599</th>\n",
              "      <td>602</td>\n",
              "      <td>ODI # 626</td>\n",
              "      <td>Bangladesh</td>\n",
              "      <td>New Zealand</td>\n",
              "      <td>Winner1stInning</td>\n",
              "      <td>Sharjah</td>\n",
              "      <td>Apr 28, 1990</td>\n",
              "      <td>New Zealand</td>\n",
              "      <td>U.A.E.</td>\n",
              "      <td>Neutral</td>\n",
              "      <td>Neutral</td>\n",
              "      <td>Second</td>\n",
              "      <td>First</td>\n",
              "    </tr>\n",
              "    <tr>\n",
              "      <th>601</th>\n",
              "      <td>604</td>\n",
              "      <td>ODI # 628</td>\n",
              "      <td>Australia</td>\n",
              "      <td>Bangladesh</td>\n",
              "      <td>Winner2ndInning</td>\n",
              "      <td>Sharjah</td>\n",
              "      <td>Apr 30, 1990</td>\n",
              "      <td>Australia</td>\n",
              "      <td>U.A.E.</td>\n",
              "      <td>Neutral</td>\n",
              "      <td>Neutral</td>\n",
              "      <td>Second</td>\n",
              "      <td>First</td>\n",
              "    </tr>\n",
              "    <tr>\n",
              "      <th>630</th>\n",
              "      <td>633</td>\n",
              "      <td>ODI # 657</td>\n",
              "      <td>India</td>\n",
              "      <td>Bangladesh</td>\n",
              "      <td>Winner2ndInning</td>\n",
              "      <td>Chandigarh</td>\n",
              "      <td>Dec 25, 1990</td>\n",
              "      <td>India</td>\n",
              "      <td>India</td>\n",
              "      <td>Home</td>\n",
              "      <td>Away</td>\n",
              "      <td>Second</td>\n",
              "      <td>First</td>\n",
              "    </tr>\n",
              "  </tbody>\n",
              "</table>\n",
              "</div>"
            ],
            "text/plain": [
              "     Unnamed: 0  Scorecard      Team_1  ... Venue_Team2 Innings_Team1 Innings_Team2\n",
              "355         356  ODI # 375  Bangladesh  ...     Neutral         First        Second\n",
              "357         358  ODI # 377   Sri Lanka  ...        Away        Second         First\n",
              "599         602  ODI # 626  Bangladesh  ...     Neutral        Second         First\n",
              "601         604  ODI # 628   Australia  ...     Neutral        Second         First\n",
              "630         633  ODI # 657       India  ...        Away        Second         First\n",
              "\n",
              "[5 rows x 13 columns]"
            ]
          },
          "metadata": {
            "tags": []
          },
          "execution_count": 76
        }
      ]
    },
    {
      "cell_type": "code",
      "metadata": {
        "id": "Vx21E_0JXwM1",
        "colab_type": "code",
        "outputId": "8bb2411d-f0b0-48cd-ba9e-37f6f550ad80",
        "colab": {
          "base_uri": "https://localhost:8080/",
          "height": 34
        }
      },
      "source": [
        "# Number of loss away\n",
        "ban_l_a = df_team_Country_lost_away('Bangladesh').shape[0]\n",
        "ban_l_a"
      ],
      "execution_count": 77,
      "outputs": [
        {
          "output_type": "execute_result",
          "data": {
            "text/plain": [
              "262"
            ]
          },
          "metadata": {
            "tags": []
          },
          "execution_count": 77
        }
      ]
    },
    {
      "cell_type": "code",
      "metadata": {
        "id": "q-Zg46rPIuHu",
        "colab_type": "code",
        "outputId": "d5b3bd65-9243-4a47-ac6a-546b84dd65ca",
        "colab": {
          "base_uri": "https://localhost:8080/",
          "height": 34
        }
      },
      "source": [
        "# Winning ratio away****************************\n",
        "ban_w_a_r = round(((ban_w_a) / (ban_w_a + ban_l_a)) * 100, 2)\n",
        "ban_w_a_r"
      ],
      "execution_count": 78,
      "outputs": [
        {
          "output_type": "execute_result",
          "data": {
            "text/plain": [
              "23.84"
            ]
          },
          "metadata": {
            "tags": []
          },
          "execution_count": 78
        }
      ]
    },
    {
      "cell_type": "markdown",
      "metadata": {
        "id": "I0RIlQL6ccCC",
        "colab_type": "text"
      },
      "source": [
        "# Sri Lanka"
      ]
    },
    {
      "cell_type": "code",
      "metadata": {
        "id": "8nzgMVrueAUN",
        "colab_type": "code",
        "outputId": "0a09b355-4e0e-4814-b03e-7a020b806ebb",
        "colab": {
          "base_uri": "https://localhost:8080/",
          "height": 316
        }
      },
      "source": [
        "# Sri Lanka won at home\n",
        "df_team_Country_win_home('Sri Lanka').head()"
      ],
      "execution_count": 79,
      "outputs": [
        {
          "output_type": "execute_result",
          "data": {
            "text/html": [
              "<div>\n",
              "<style scoped>\n",
              "    .dataframe tbody tr th:only-of-type {\n",
              "        vertical-align: middle;\n",
              "    }\n",
              "\n",
              "    .dataframe tbody tr th {\n",
              "        vertical-align: top;\n",
              "    }\n",
              "\n",
              "    .dataframe thead th {\n",
              "        text-align: right;\n",
              "    }\n",
              "</style>\n",
              "<table border=\"1\" class=\"dataframe\">\n",
              "  <thead>\n",
              "    <tr style=\"text-align: right;\">\n",
              "      <th></th>\n",
              "      <th>Unnamed: 0</th>\n",
              "      <th>Scorecard</th>\n",
              "      <th>Team_1</th>\n",
              "      <th>Team_2</th>\n",
              "      <th>Margin</th>\n",
              "      <th>Ground</th>\n",
              "      <th>Match_Date</th>\n",
              "      <th>Winner</th>\n",
              "      <th>Host_Country</th>\n",
              "      <th>Venue_Team1</th>\n",
              "      <th>Venue_Team2</th>\n",
              "      <th>Innings_Team1</th>\n",
              "      <th>Innings_Team2</th>\n",
              "    </tr>\n",
              "  </thead>\n",
              "  <tbody>\n",
              "    <tr>\n",
              "      <th>139</th>\n",
              "      <td>140</td>\n",
              "      <td>ODI # 146</td>\n",
              "      <td>Sri Lanka</td>\n",
              "      <td>England</td>\n",
              "      <td>Winner1stInning</td>\n",
              "      <td>Colombo</td>\n",
              "      <td>Feb 14, 1982</td>\n",
              "      <td>Sri Lanka</td>\n",
              "      <td>Sri Lanka</td>\n",
              "      <td>Home</td>\n",
              "      <td>Away</td>\n",
              "      <td>First</td>\n",
              "      <td>Second</td>\n",
              "    </tr>\n",
              "    <tr>\n",
              "      <th>185</th>\n",
              "      <td>186</td>\n",
              "      <td>ODI # 193</td>\n",
              "      <td>Sri Lanka</td>\n",
              "      <td>Australia</td>\n",
              "      <td>Winner2ndInning</td>\n",
              "      <td>Colombo</td>\n",
              "      <td>Apr 13, 1983</td>\n",
              "      <td>Sri Lanka</td>\n",
              "      <td>Sri Lanka</td>\n",
              "      <td>Home</td>\n",
              "      <td>Away</td>\n",
              "      <td>Second</td>\n",
              "      <td>First</td>\n",
              "    </tr>\n",
              "    <tr>\n",
              "      <th>186</th>\n",
              "      <td>187</td>\n",
              "      <td>ODI # 194</td>\n",
              "      <td>Sri Lanka</td>\n",
              "      <td>Australia</td>\n",
              "      <td>Winner2ndInning</td>\n",
              "      <td>Colombo</td>\n",
              "      <td>Apr 16, 1983</td>\n",
              "      <td>Sri Lanka</td>\n",
              "      <td>Sri Lanka</td>\n",
              "      <td>Home</td>\n",
              "      <td>Away</td>\n",
              "      <td>Second</td>\n",
              "      <td>First</td>\n",
              "    </tr>\n",
              "    <tr>\n",
              "      <th>245</th>\n",
              "      <td>246</td>\n",
              "      <td>ODI # 257</td>\n",
              "      <td>Sri Lanka</td>\n",
              "      <td>New Zealand</td>\n",
              "      <td>Winner1stInning</td>\n",
              "      <td>Moratuwa</td>\n",
              "      <td>Mar 31, 1984</td>\n",
              "      <td>Sri Lanka</td>\n",
              "      <td>Sri Lanka</td>\n",
              "      <td>Home</td>\n",
              "      <td>Away</td>\n",
              "      <td>First</td>\n",
              "      <td>Second</td>\n",
              "    </tr>\n",
              "    <tr>\n",
              "      <th>259</th>\n",
              "      <td>260</td>\n",
              "      <td>ODI # 274</td>\n",
              "      <td>Sri Lanka</td>\n",
              "      <td>New Zealand</td>\n",
              "      <td>Winner2ndInning</td>\n",
              "      <td>Colombo</td>\n",
              "      <td>Nov 3, 1984</td>\n",
              "      <td>Sri Lanka</td>\n",
              "      <td>Sri Lanka</td>\n",
              "      <td>Home</td>\n",
              "      <td>Away</td>\n",
              "      <td>Second</td>\n",
              "      <td>First</td>\n",
              "    </tr>\n",
              "  </tbody>\n",
              "</table>\n",
              "</div>"
            ],
            "text/plain": [
              "     Unnamed: 0  Scorecard     Team_1  ... Venue_Team2 Innings_Team1 Innings_Team2\n",
              "139         140  ODI # 146  Sri Lanka  ...        Away         First        Second\n",
              "185         186  ODI # 193  Sri Lanka  ...        Away        Second         First\n",
              "186         187  ODI # 194  Sri Lanka  ...        Away        Second         First\n",
              "245         246  ODI # 257  Sri Lanka  ...        Away         First        Second\n",
              "259         260  ODI # 274  Sri Lanka  ...        Away        Second         First\n",
              "\n",
              "[5 rows x 13 columns]"
            ]
          },
          "metadata": {
            "tags": []
          },
          "execution_count": 79
        }
      ]
    },
    {
      "cell_type": "code",
      "metadata": {
        "id": "sdh61K4XXyx8",
        "colab_type": "code",
        "outputId": "0a080dcc-39d3-4c4d-afaa-586bd55101d6",
        "colab": {
          "base_uri": "https://localhost:8080/",
          "height": 34
        }
      },
      "source": [
        "# Number of win at home\n",
        "sri_w_h = df_team_Country_win_home('Sri Lanka').shape[0]\n",
        "sri_w_h"
      ],
      "execution_count": 80,
      "outputs": [
        {
          "output_type": "execute_result",
          "data": {
            "text/plain": [
              "274"
            ]
          },
          "metadata": {
            "tags": []
          },
          "execution_count": 80
        }
      ]
    },
    {
      "cell_type": "code",
      "metadata": {
        "id": "vv4l_ClaeAcg",
        "colab_type": "code",
        "outputId": "a0498ec4-04a5-421d-998d-d517ac4b2ad0",
        "colab": {
          "base_uri": "https://localhost:8080/",
          "height": 316
        }
      },
      "source": [
        "# Sri Lanka lost at home\n",
        "df_team_Country_lost_home('Sri Lanka').head()"
      ],
      "execution_count": 81,
      "outputs": [
        {
          "output_type": "execute_result",
          "data": {
            "text/html": [
              "<div>\n",
              "<style scoped>\n",
              "    .dataframe tbody tr th:only-of-type {\n",
              "        vertical-align: middle;\n",
              "    }\n",
              "\n",
              "    .dataframe tbody tr th {\n",
              "        vertical-align: top;\n",
              "    }\n",
              "\n",
              "    .dataframe thead th {\n",
              "        text-align: right;\n",
              "    }\n",
              "</style>\n",
              "<table border=\"1\" class=\"dataframe\">\n",
              "  <thead>\n",
              "    <tr style=\"text-align: right;\">\n",
              "      <th></th>\n",
              "      <th>Unnamed: 0</th>\n",
              "      <th>Scorecard</th>\n",
              "      <th>Team_1</th>\n",
              "      <th>Team_2</th>\n",
              "      <th>Margin</th>\n",
              "      <th>Ground</th>\n",
              "      <th>Match_Date</th>\n",
              "      <th>Winner</th>\n",
              "      <th>Host_Country</th>\n",
              "      <th>Venue_Team1</th>\n",
              "      <th>Venue_Team2</th>\n",
              "      <th>Innings_Team1</th>\n",
              "      <th>Innings_Team2</th>\n",
              "    </tr>\n",
              "  </thead>\n",
              "  <tbody>\n",
              "    <tr>\n",
              "      <th>138</th>\n",
              "      <td>139</td>\n",
              "      <td>ODI # 145</td>\n",
              "      <td>Sri Lanka</td>\n",
              "      <td>England</td>\n",
              "      <td>Winner1stInning</td>\n",
              "      <td>Colombo</td>\n",
              "      <td>Feb 13, 1982</td>\n",
              "      <td>England</td>\n",
              "      <td>Sri Lanka</td>\n",
              "      <td>Home</td>\n",
              "      <td>Away</td>\n",
              "      <td>Second</td>\n",
              "      <td>First</td>\n",
              "    </tr>\n",
              "    <tr>\n",
              "      <th>241</th>\n",
              "      <td>242</td>\n",
              "      <td>ODI # 253</td>\n",
              "      <td>Sri Lanka</td>\n",
              "      <td>New Zealand</td>\n",
              "      <td>Winner1stInning</td>\n",
              "      <td>Colombo</td>\n",
              "      <td>Mar 3, 1984</td>\n",
              "      <td>New Zealand</td>\n",
              "      <td>Sri Lanka</td>\n",
              "      <td>Home</td>\n",
              "      <td>Away</td>\n",
              "      <td>Second</td>\n",
              "      <td>First</td>\n",
              "    </tr>\n",
              "    <tr>\n",
              "      <th>246</th>\n",
              "      <td>247</td>\n",
              "      <td>ODI # 258</td>\n",
              "      <td>Sri Lanka</td>\n",
              "      <td>New Zealand</td>\n",
              "      <td>Winner1stInning</td>\n",
              "      <td>Colombo</td>\n",
              "      <td>Apr 1, 1984</td>\n",
              "      <td>New Zealand</td>\n",
              "      <td>Sri Lanka</td>\n",
              "      <td>Home</td>\n",
              "      <td>Away</td>\n",
              "      <td>Second</td>\n",
              "      <td>First</td>\n",
              "    </tr>\n",
              "    <tr>\n",
              "      <th>260</th>\n",
              "      <td>261</td>\n",
              "      <td>ODI # 275</td>\n",
              "      <td>Sri Lanka</td>\n",
              "      <td>New Zealand</td>\n",
              "      <td>Winner2ndInning</td>\n",
              "      <td>Moratuwa</td>\n",
              "      <td>Nov 4, 1984</td>\n",
              "      <td>New Zealand</td>\n",
              "      <td>Sri Lanka</td>\n",
              "      <td>Home</td>\n",
              "      <td>Away</td>\n",
              "      <td>First</td>\n",
              "      <td>Second</td>\n",
              "    </tr>\n",
              "    <tr>\n",
              "      <th>315</th>\n",
              "      <td>316</td>\n",
              "      <td>ODI # 332</td>\n",
              "      <td>Sri Lanka</td>\n",
              "      <td>India</td>\n",
              "      <td>Winner2ndInning</td>\n",
              "      <td>Colombo</td>\n",
              "      <td>Aug 25, 1985</td>\n",
              "      <td>India</td>\n",
              "      <td>Sri Lanka</td>\n",
              "      <td>Home</td>\n",
              "      <td>Away</td>\n",
              "      <td>First</td>\n",
              "      <td>Second</td>\n",
              "    </tr>\n",
              "  </tbody>\n",
              "</table>\n",
              "</div>"
            ],
            "text/plain": [
              "     Unnamed: 0  Scorecard     Team_1  ... Venue_Team2 Innings_Team1 Innings_Team2\n",
              "138         139  ODI # 145  Sri Lanka  ...        Away        Second         First\n",
              "241         242  ODI # 253  Sri Lanka  ...        Away        Second         First\n",
              "246         247  ODI # 258  Sri Lanka  ...        Away        Second         First\n",
              "260         261  ODI # 275  Sri Lanka  ...        Away         First        Second\n",
              "315         316  ODI # 332  Sri Lanka  ...        Away         First        Second\n",
              "\n",
              "[5 rows x 13 columns]"
            ]
          },
          "metadata": {
            "tags": []
          },
          "execution_count": 81
        }
      ]
    },
    {
      "cell_type": "code",
      "metadata": {
        "id": "P7AzzN8GX1PI",
        "colab_type": "code",
        "outputId": "08c26c1d-f8b4-429e-bdc5-bdefc115c6e2",
        "colab": {
          "base_uri": "https://localhost:8080/",
          "height": 34
        }
      },
      "source": [
        "# Number of loss at home\n",
        "sri_l_h = df_team_Country_lost_home('Sri Lanka').shape[0]\n",
        "sri_l_h"
      ],
      "execution_count": 82,
      "outputs": [
        {
          "output_type": "execute_result",
          "data": {
            "text/plain": [
              "148"
            ]
          },
          "metadata": {
            "tags": []
          },
          "execution_count": 82
        }
      ]
    },
    {
      "cell_type": "code",
      "metadata": {
        "id": "4outLpQYGbUX",
        "colab_type": "code",
        "outputId": "936db07a-70a7-43f6-d3bb-ccc84ec27f2f",
        "colab": {
          "base_uri": "https://localhost:8080/",
          "height": 34
        }
      },
      "source": [
        "# Winning ratio at home*******************\n",
        "sri_w_h_r = round(((sri_w_h) / (sri_w_h + sri_l_h)) * 100, 2)\n",
        "sri_w_h_r"
      ],
      "execution_count": 83,
      "outputs": [
        {
          "output_type": "execute_result",
          "data": {
            "text/plain": [
              "64.93"
            ]
          },
          "metadata": {
            "tags": []
          },
          "execution_count": 83
        }
      ]
    },
    {
      "cell_type": "code",
      "metadata": {
        "id": "bhi0ZHdMeAj-",
        "colab_type": "code",
        "outputId": "17660596-4383-45aa-d1a7-c89d2a4573c0",
        "colab": {
          "base_uri": "https://localhost:8080/",
          "height": 316
        }
      },
      "source": [
        "# Sri Lanka won away\n",
        "df_team_Country_win_away('Sri Lanka').head()"
      ],
      "execution_count": 84,
      "outputs": [
        {
          "output_type": "execute_result",
          "data": {
            "text/html": [
              "<div>\n",
              "<style scoped>\n",
              "    .dataframe tbody tr th:only-of-type {\n",
              "        vertical-align: middle;\n",
              "    }\n",
              "\n",
              "    .dataframe tbody tr th {\n",
              "        vertical-align: top;\n",
              "    }\n",
              "\n",
              "    .dataframe thead th {\n",
              "        text-align: right;\n",
              "    }\n",
              "</style>\n",
              "<table border=\"1\" class=\"dataframe\">\n",
              "  <thead>\n",
              "    <tr style=\"text-align: right;\">\n",
              "      <th></th>\n",
              "      <th>Unnamed: 0</th>\n",
              "      <th>Scorecard</th>\n",
              "      <th>Team_1</th>\n",
              "      <th>Team_2</th>\n",
              "      <th>Margin</th>\n",
              "      <th>Ground</th>\n",
              "      <th>Match_Date</th>\n",
              "      <th>Winner</th>\n",
              "      <th>Host_Country</th>\n",
              "      <th>Venue_Team1</th>\n",
              "      <th>Venue_Team2</th>\n",
              "      <th>Innings_Team1</th>\n",
              "      <th>Innings_Team2</th>\n",
              "    </tr>\n",
              "  </thead>\n",
              "  <tbody>\n",
              "    <tr>\n",
              "      <th>62</th>\n",
              "      <td>63</td>\n",
              "      <td>ODI # 68</td>\n",
              "      <td>India</td>\n",
              "      <td>Sri Lanka</td>\n",
              "      <td>Winner1stInning</td>\n",
              "      <td>Manchester</td>\n",
              "      <td>Jun 16-18, 1979</td>\n",
              "      <td>Sri Lanka</td>\n",
              "      <td>England</td>\n",
              "      <td>Neutral</td>\n",
              "      <td>Neutral</td>\n",
              "      <td>Second</td>\n",
              "      <td>First</td>\n",
              "    </tr>\n",
              "    <tr>\n",
              "      <th>143</th>\n",
              "      <td>144</td>\n",
              "      <td>ODI # 150</td>\n",
              "      <td>Pakistan</td>\n",
              "      <td>Sri Lanka</td>\n",
              "      <td>Winner1stInning</td>\n",
              "      <td>Lahore</td>\n",
              "      <td>Mar 29, 1982</td>\n",
              "      <td>Sri Lanka</td>\n",
              "      <td>Pakistan</td>\n",
              "      <td>Home</td>\n",
              "      <td>Away</td>\n",
              "      <td>Second</td>\n",
              "      <td>First</td>\n",
              "    </tr>\n",
              "    <tr>\n",
              "      <th>204</th>\n",
              "      <td>205</td>\n",
              "      <td>ODI # 214</td>\n",
              "      <td>New Zealand</td>\n",
              "      <td>Sri Lanka</td>\n",
              "      <td>Winner2ndInning</td>\n",
              "      <td>Derby</td>\n",
              "      <td>Jun 18, 1983</td>\n",
              "      <td>Sri Lanka</td>\n",
              "      <td>England</td>\n",
              "      <td>Neutral</td>\n",
              "      <td>Neutral</td>\n",
              "      <td>First</td>\n",
              "      <td>Second</td>\n",
              "    </tr>\n",
              "    <tr>\n",
              "      <th>247</th>\n",
              "      <td>248</td>\n",
              "      <td>ODI # 259</td>\n",
              "      <td>Pakistan</td>\n",
              "      <td>Sri Lanka</td>\n",
              "      <td>Winner2ndInning</td>\n",
              "      <td>Sharjah</td>\n",
              "      <td>Apr 6, 1984</td>\n",
              "      <td>Sri Lanka</td>\n",
              "      <td>U.A.E.</td>\n",
              "      <td>Neutral</td>\n",
              "      <td>Neutral</td>\n",
              "      <td>First</td>\n",
              "      <td>Second</td>\n",
              "    </tr>\n",
              "    <tr>\n",
              "      <th>276</th>\n",
              "      <td>277</td>\n",
              "      <td>ODI # 291</td>\n",
              "      <td>Australia</td>\n",
              "      <td>Sri Lanka</td>\n",
              "      <td>Winner2ndInning</td>\n",
              "      <td>Melbourne</td>\n",
              "      <td>Jan 19, 1985</td>\n",
              "      <td>Sri Lanka</td>\n",
              "      <td>Australia</td>\n",
              "      <td>Home</td>\n",
              "      <td>Away</td>\n",
              "      <td>First</td>\n",
              "      <td>Second</td>\n",
              "    </tr>\n",
              "  </tbody>\n",
              "</table>\n",
              "</div>"
            ],
            "text/plain": [
              "     Unnamed: 0  Scorecard       Team_1  ... Venue_Team2 Innings_Team1 Innings_Team2\n",
              "62           63   ODI # 68        India  ...     Neutral        Second         First\n",
              "143         144  ODI # 150     Pakistan  ...        Away        Second         First\n",
              "204         205  ODI # 214  New Zealand  ...     Neutral         First        Second\n",
              "247         248  ODI # 259     Pakistan  ...     Neutral         First        Second\n",
              "276         277  ODI # 291    Australia  ...        Away         First        Second\n",
              "\n",
              "[5 rows x 13 columns]"
            ]
          },
          "metadata": {
            "tags": []
          },
          "execution_count": 84
        }
      ]
    },
    {
      "cell_type": "code",
      "metadata": {
        "id": "0xJ99Vs2X4aw",
        "colab_type": "code",
        "outputId": "f43e8e80-9acf-4b54-d8d7-46393afae32d",
        "colab": {
          "base_uri": "https://localhost:8080/",
          "height": 34
        }
      },
      "source": [
        "# Number of win away\n",
        "sri_w_a = df_team_Country_win_away('Sri Lanka').shape[0]\n",
        "sri_w_a"
      ],
      "execution_count": 85,
      "outputs": [
        {
          "output_type": "execute_result",
          "data": {
            "text/plain": [
              "468"
            ]
          },
          "metadata": {
            "tags": []
          },
          "execution_count": 85
        }
      ]
    },
    {
      "cell_type": "code",
      "metadata": {
        "id": "oY_m1JjKeAnX",
        "colab_type": "code",
        "outputId": "120fe95e-b23d-49f1-800a-1d5fc6fcf548",
        "colab": {
          "base_uri": "https://localhost:8080/",
          "height": 316
        }
      },
      "source": [
        "# Sri Lanka lost Away\n",
        "df_team_Country_lost_away('Sri Lanka').head()"
      ],
      "execution_count": 86,
      "outputs": [
        {
          "output_type": "execute_result",
          "data": {
            "text/html": [
              "<div>\n",
              "<style scoped>\n",
              "    .dataframe tbody tr th:only-of-type {\n",
              "        vertical-align: middle;\n",
              "    }\n",
              "\n",
              "    .dataframe tbody tr th {\n",
              "        vertical-align: top;\n",
              "    }\n",
              "\n",
              "    .dataframe thead th {\n",
              "        text-align: right;\n",
              "    }\n",
              "</style>\n",
              "<table border=\"1\" class=\"dataframe\">\n",
              "  <thead>\n",
              "    <tr style=\"text-align: right;\">\n",
              "      <th></th>\n",
              "      <th>Unnamed: 0</th>\n",
              "      <th>Scorecard</th>\n",
              "      <th>Team_1</th>\n",
              "      <th>Team_2</th>\n",
              "      <th>Margin</th>\n",
              "      <th>Ground</th>\n",
              "      <th>Match_Date</th>\n",
              "      <th>Winner</th>\n",
              "      <th>Host_Country</th>\n",
              "      <th>Venue_Team1</th>\n",
              "      <th>Venue_Team2</th>\n",
              "      <th>Innings_Team1</th>\n",
              "      <th>Innings_Team2</th>\n",
              "    </tr>\n",
              "  </thead>\n",
              "  <tbody>\n",
              "    <tr>\n",
              "      <th>18</th>\n",
              "      <td>18</td>\n",
              "      <td>ODI # 22</td>\n",
              "      <td>Sri Lanka</td>\n",
              "      <td>West Indies</td>\n",
              "      <td>Winner2ndInning</td>\n",
              "      <td>Manchester</td>\n",
              "      <td>Jun 7, 1975</td>\n",
              "      <td>West Indies</td>\n",
              "      <td>England</td>\n",
              "      <td>Neutral</td>\n",
              "      <td>Neutral</td>\n",
              "      <td>First</td>\n",
              "      <td>Second</td>\n",
              "    </tr>\n",
              "    <tr>\n",
              "      <th>21</th>\n",
              "      <td>21</td>\n",
              "      <td>ODI # 25</td>\n",
              "      <td>Australia</td>\n",
              "      <td>Sri Lanka</td>\n",
              "      <td>Winner1stInning</td>\n",
              "      <td>The Oval</td>\n",
              "      <td>Jun 11, 1975</td>\n",
              "      <td>Australia</td>\n",
              "      <td>England</td>\n",
              "      <td>Neutral</td>\n",
              "      <td>Neutral</td>\n",
              "      <td>First</td>\n",
              "      <td>Second</td>\n",
              "    </tr>\n",
              "    <tr>\n",
              "      <th>26</th>\n",
              "      <td>26</td>\n",
              "      <td>ODI # 30</td>\n",
              "      <td>Pakistan</td>\n",
              "      <td>Sri Lanka</td>\n",
              "      <td>Winner1stInning</td>\n",
              "      <td>Nottingham</td>\n",
              "      <td>Jun 14, 1975</td>\n",
              "      <td>Pakistan</td>\n",
              "      <td>England</td>\n",
              "      <td>Neutral</td>\n",
              "      <td>Neutral</td>\n",
              "      <td>First</td>\n",
              "      <td>Second</td>\n",
              "    </tr>\n",
              "    <tr>\n",
              "      <th>56</th>\n",
              "      <td>57</td>\n",
              "      <td>ODI # 62</td>\n",
              "      <td>New Zealand</td>\n",
              "      <td>Sri Lanka</td>\n",
              "      <td>Winner2ndInning</td>\n",
              "      <td>Nottingham</td>\n",
              "      <td>Jun 9, 1979</td>\n",
              "      <td>New Zealand</td>\n",
              "      <td>England</td>\n",
              "      <td>Neutral</td>\n",
              "      <td>Neutral</td>\n",
              "      <td>Second</td>\n",
              "      <td>First</td>\n",
              "    </tr>\n",
              "    <tr>\n",
              "      <th>142</th>\n",
              "      <td>143</td>\n",
              "      <td>ODI # 149</td>\n",
              "      <td>Pakistan</td>\n",
              "      <td>Sri Lanka</td>\n",
              "      <td>Winner2ndInning</td>\n",
              "      <td>Karachi</td>\n",
              "      <td>Mar 12, 1982</td>\n",
              "      <td>Pakistan</td>\n",
              "      <td>Pakistan</td>\n",
              "      <td>Home</td>\n",
              "      <td>Away</td>\n",
              "      <td>Second</td>\n",
              "      <td>First</td>\n",
              "    </tr>\n",
              "  </tbody>\n",
              "</table>\n",
              "</div>"
            ],
            "text/plain": [
              "     Unnamed: 0  Scorecard       Team_1  ... Venue_Team2 Innings_Team1 Innings_Team2\n",
              "18           18   ODI # 22    Sri Lanka  ...     Neutral         First        Second\n",
              "21           21   ODI # 25    Australia  ...     Neutral         First        Second\n",
              "26           26   ODI # 30     Pakistan  ...     Neutral         First        Second\n",
              "56           57   ODI # 62  New Zealand  ...     Neutral        Second         First\n",
              "142         143  ODI # 149     Pakistan  ...        Away        Second         First\n",
              "\n",
              "[5 rows x 13 columns]"
            ]
          },
          "metadata": {
            "tags": []
          },
          "execution_count": 86
        }
      ]
    },
    {
      "cell_type": "code",
      "metadata": {
        "id": "6niRuBK1X81Z",
        "colab_type": "code",
        "outputId": "c61e21f0-c015-487e-f186-84257de4569b",
        "colab": {
          "base_uri": "https://localhost:8080/",
          "height": 34
        }
      },
      "source": [
        "# Number of loss away\n",
        "sri_l_a = df_team_Country_lost_away('Sri Lanka').shape[0]\n",
        "sri_l_a"
      ],
      "execution_count": 87,
      "outputs": [
        {
          "output_type": "execute_result",
          "data": {
            "text/plain": [
              "642"
            ]
          },
          "metadata": {
            "tags": []
          },
          "execution_count": 87
        }
      ]
    },
    {
      "cell_type": "code",
      "metadata": {
        "id": "g3dNrsuRI2Z8",
        "colab_type": "code",
        "outputId": "2eb7cd45-69a0-4e26-fa6c-6ed04a46dd86",
        "colab": {
          "base_uri": "https://localhost:8080/",
          "height": 34
        }
      },
      "source": [
        "# Winning ratio away****************************\n",
        "sri_w_a_r = round(((sri_w_a) / (sri_w_a + sri_l_a)) * 100, 2)\n",
        "sri_w_a_r"
      ],
      "execution_count": 88,
      "outputs": [
        {
          "output_type": "execute_result",
          "data": {
            "text/plain": [
              "42.16"
            ]
          },
          "metadata": {
            "tags": []
          },
          "execution_count": 88
        }
      ]
    },
    {
      "cell_type": "markdown",
      "metadata": {
        "id": "hO6ub4uucgcw",
        "colab_type": "text"
      },
      "source": [
        "#  West Indies"
      ]
    },
    {
      "cell_type": "code",
      "metadata": {
        "id": "f_jklylNeJU-",
        "colab_type": "code",
        "outputId": "6f5b2cf6-36d0-417e-83ed-cae1e3e73250",
        "colab": {
          "base_uri": "https://localhost:8080/",
          "height": 316
        }
      },
      "source": [
        "# West Indies won at home\n",
        "df_team_Country_win_home('West Indies').head()"
      ],
      "execution_count": 89,
      "outputs": [
        {
          "output_type": "execute_result",
          "data": {
            "text/html": [
              "<div>\n",
              "<style scoped>\n",
              "    .dataframe tbody tr th:only-of-type {\n",
              "        vertical-align: middle;\n",
              "    }\n",
              "\n",
              "    .dataframe tbody tr th {\n",
              "        vertical-align: top;\n",
              "    }\n",
              "\n",
              "    .dataframe thead th {\n",
              "        text-align: right;\n",
              "    }\n",
              "</style>\n",
              "<table border=\"1\" class=\"dataframe\">\n",
              "  <thead>\n",
              "    <tr style=\"text-align: right;\">\n",
              "      <th></th>\n",
              "      <th>Unnamed: 0</th>\n",
              "      <th>Scorecard</th>\n",
              "      <th>Team_1</th>\n",
              "      <th>Team_2</th>\n",
              "      <th>Margin</th>\n",
              "      <th>Ground</th>\n",
              "      <th>Match_Date</th>\n",
              "      <th>Winner</th>\n",
              "      <th>Host_Country</th>\n",
              "      <th>Venue_Team1</th>\n",
              "      <th>Venue_Team2</th>\n",
              "      <th>Innings_Team1</th>\n",
              "      <th>Innings_Team2</th>\n",
              "    </tr>\n",
              "  </thead>\n",
              "  <tbody>\n",
              "    <tr>\n",
              "      <th>37</th>\n",
              "      <td>37</td>\n",
              "      <td>ODI # 41</td>\n",
              "      <td>West Indies</td>\n",
              "      <td>Pakistan</td>\n",
              "      <td>Winner2ndInning</td>\n",
              "      <td>Albion</td>\n",
              "      <td>Mar 16, 1977</td>\n",
              "      <td>West Indies</td>\n",
              "      <td>West Indies</td>\n",
              "      <td>Home</td>\n",
              "      <td>Away</td>\n",
              "      <td>Second</td>\n",
              "      <td>First</td>\n",
              "    </tr>\n",
              "    <tr>\n",
              "      <th>44</th>\n",
              "      <td>44</td>\n",
              "      <td>ODI # 48</td>\n",
              "      <td>West Indies</td>\n",
              "      <td>Australia</td>\n",
              "      <td>Winner1stInning</td>\n",
              "      <td>St John's</td>\n",
              "      <td>Feb 22, 1978</td>\n",
              "      <td>West Indies</td>\n",
              "      <td>West Indies</td>\n",
              "      <td>Home</td>\n",
              "      <td>Away</td>\n",
              "      <td>First</td>\n",
              "      <td>Second</td>\n",
              "    </tr>\n",
              "    <tr>\n",
              "      <th>108</th>\n",
              "      <td>109</td>\n",
              "      <td>ODI # 115</td>\n",
              "      <td>West Indies</td>\n",
              "      <td>England</td>\n",
              "      <td>Winner1stInning</td>\n",
              "      <td>Kingstown</td>\n",
              "      <td>Feb 4, 1981</td>\n",
              "      <td>West Indies</td>\n",
              "      <td>West Indies</td>\n",
              "      <td>Home</td>\n",
              "      <td>Away</td>\n",
              "      <td>First</td>\n",
              "      <td>Second</td>\n",
              "    </tr>\n",
              "    <tr>\n",
              "      <th>111</th>\n",
              "      <td>112</td>\n",
              "      <td>ODI # 118</td>\n",
              "      <td>West Indies</td>\n",
              "      <td>England</td>\n",
              "      <td>Winner2ndInning</td>\n",
              "      <td>Albion</td>\n",
              "      <td>Feb 26, 1981</td>\n",
              "      <td>West Indies</td>\n",
              "      <td>West Indies</td>\n",
              "      <td>Home</td>\n",
              "      <td>Away</td>\n",
              "      <td>Second</td>\n",
              "      <td>First</td>\n",
              "    </tr>\n",
              "    <tr>\n",
              "      <th>179</th>\n",
              "      <td>180</td>\n",
              "      <td>ODI # 187</td>\n",
              "      <td>West Indies</td>\n",
              "      <td>India</td>\n",
              "      <td>Winner1stInning</td>\n",
              "      <td>Port of Spain</td>\n",
              "      <td>Mar 9, 1983</td>\n",
              "      <td>West Indies</td>\n",
              "      <td>West Indies</td>\n",
              "      <td>Home</td>\n",
              "      <td>Away</td>\n",
              "      <td>First</td>\n",
              "      <td>Second</td>\n",
              "    </tr>\n",
              "  </tbody>\n",
              "</table>\n",
              "</div>"
            ],
            "text/plain": [
              "     Unnamed: 0  Scorecard       Team_1  ... Venue_Team2 Innings_Team1 Innings_Team2\n",
              "37           37   ODI # 41  West Indies  ...        Away        Second         First\n",
              "44           44   ODI # 48  West Indies  ...        Away         First        Second\n",
              "108         109  ODI # 115  West Indies  ...        Away         First        Second\n",
              "111         112  ODI # 118  West Indies  ...        Away        Second         First\n",
              "179         180  ODI # 187  West Indies  ...        Away         First        Second\n",
              "\n",
              "[5 rows x 13 columns]"
            ]
          },
          "metadata": {
            "tags": []
          },
          "execution_count": 89
        }
      ]
    },
    {
      "cell_type": "code",
      "metadata": {
        "id": "GYEzojc3YAly",
        "colab_type": "code",
        "outputId": "9803cc28-c114-4b8b-876e-c86910d777ee",
        "colab": {
          "base_uri": "https://localhost:8080/",
          "height": 34
        }
      },
      "source": [
        "# Number of win at home\n",
        "wi_w_h = df_team_Country_win_home('West Indies').shape[0]\n",
        "wi_w_h"
      ],
      "execution_count": 90,
      "outputs": [
        {
          "output_type": "execute_result",
          "data": {
            "text/plain": [
              "258"
            ]
          },
          "metadata": {
            "tags": []
          },
          "execution_count": 90
        }
      ]
    },
    {
      "cell_type": "code",
      "metadata": {
        "id": "Yl25jZnQeOoI",
        "colab_type": "code",
        "outputId": "10631560-b331-4f19-d2bc-008400316ddc",
        "colab": {
          "base_uri": "https://localhost:8080/",
          "height": 316
        }
      },
      "source": [
        "# West Indies lost at home\n",
        "df_team_Country_lost_home('West Indies').head()"
      ],
      "execution_count": 91,
      "outputs": [
        {
          "output_type": "execute_result",
          "data": {
            "text/html": [
              "<div>\n",
              "<style scoped>\n",
              "    .dataframe tbody tr th:only-of-type {\n",
              "        vertical-align: middle;\n",
              "    }\n",
              "\n",
              "    .dataframe tbody tr th {\n",
              "        vertical-align: top;\n",
              "    }\n",
              "\n",
              "    .dataframe thead th {\n",
              "        text-align: right;\n",
              "    }\n",
              "</style>\n",
              "<table border=\"1\" class=\"dataframe\">\n",
              "  <thead>\n",
              "    <tr style=\"text-align: right;\">\n",
              "      <th></th>\n",
              "      <th>Unnamed: 0</th>\n",
              "      <th>Scorecard</th>\n",
              "      <th>Team_1</th>\n",
              "      <th>Team_2</th>\n",
              "      <th>Margin</th>\n",
              "      <th>Ground</th>\n",
              "      <th>Match_Date</th>\n",
              "      <th>Winner</th>\n",
              "      <th>Host_Country</th>\n",
              "      <th>Venue_Team1</th>\n",
              "      <th>Venue_Team2</th>\n",
              "      <th>Innings_Team1</th>\n",
              "      <th>Innings_Team2</th>\n",
              "    </tr>\n",
              "  </thead>\n",
              "  <tbody>\n",
              "    <tr>\n",
              "      <th>45</th>\n",
              "      <td>45</td>\n",
              "      <td>ODI # 49</td>\n",
              "      <td>West Indies</td>\n",
              "      <td>Australia</td>\n",
              "      <td>Winner2ndInning</td>\n",
              "      <td>Castries</td>\n",
              "      <td>Apr 12, 1978</td>\n",
              "      <td>Australia</td>\n",
              "      <td>West Indies</td>\n",
              "      <td>Home</td>\n",
              "      <td>Away</td>\n",
              "      <td>First</td>\n",
              "      <td>Second</td>\n",
              "    </tr>\n",
              "    <tr>\n",
              "      <th>183</th>\n",
              "      <td>184</td>\n",
              "      <td>ODI # 191</td>\n",
              "      <td>West Indies</td>\n",
              "      <td>India</td>\n",
              "      <td>Winner1stInning</td>\n",
              "      <td>Albion</td>\n",
              "      <td>Mar 29, 1983</td>\n",
              "      <td>India</td>\n",
              "      <td>West Indies</td>\n",
              "      <td>Home</td>\n",
              "      <td>Away</td>\n",
              "      <td>Second</td>\n",
              "      <td>First</td>\n",
              "    </tr>\n",
              "    <tr>\n",
              "      <th>243</th>\n",
              "      <td>244</td>\n",
              "      <td>ODI # 255</td>\n",
              "      <td>West Indies</td>\n",
              "      <td>Australia</td>\n",
              "      <td>Winner2ndInning</td>\n",
              "      <td>Port of Spain</td>\n",
              "      <td>Mar 14, 1984</td>\n",
              "      <td>Australia</td>\n",
              "      <td>West Indies</td>\n",
              "      <td>Home</td>\n",
              "      <td>Away</td>\n",
              "      <td>First</td>\n",
              "      <td>Second</td>\n",
              "    </tr>\n",
              "    <tr>\n",
              "      <th>347</th>\n",
              "      <td>348</td>\n",
              "      <td>ODI # 366</td>\n",
              "      <td>West Indies</td>\n",
              "      <td>England</td>\n",
              "      <td>Winner2ndInning</td>\n",
              "      <td>Port of Spain</td>\n",
              "      <td>Mar 4, 1986</td>\n",
              "      <td>England</td>\n",
              "      <td>West Indies</td>\n",
              "      <td>Home</td>\n",
              "      <td>Away</td>\n",
              "      <td>First</td>\n",
              "      <td>Second</td>\n",
              "    </tr>\n",
              "    <tr>\n",
              "      <th>644</th>\n",
              "      <td>647</td>\n",
              "      <td>ODI # 671</td>\n",
              "      <td>West Indies</td>\n",
              "      <td>Australia</td>\n",
              "      <td>Winner1stInning</td>\n",
              "      <td>Kingston</td>\n",
              "      <td>Feb 26, 1991</td>\n",
              "      <td>Australia</td>\n",
              "      <td>West Indies</td>\n",
              "      <td>Home</td>\n",
              "      <td>Away</td>\n",
              "      <td>Second</td>\n",
              "      <td>First</td>\n",
              "    </tr>\n",
              "  </tbody>\n",
              "</table>\n",
              "</div>"
            ],
            "text/plain": [
              "     Unnamed: 0  Scorecard       Team_1  ... Venue_Team2 Innings_Team1 Innings_Team2\n",
              "45           45   ODI # 49  West Indies  ...        Away         First        Second\n",
              "183         184  ODI # 191  West Indies  ...        Away        Second         First\n",
              "243         244  ODI # 255  West Indies  ...        Away         First        Second\n",
              "347         348  ODI # 366  West Indies  ...        Away         First        Second\n",
              "644         647  ODI # 671  West Indies  ...        Away        Second         First\n",
              "\n",
              "[5 rows x 13 columns]"
            ]
          },
          "metadata": {
            "tags": []
          },
          "execution_count": 91
        }
      ]
    },
    {
      "cell_type": "code",
      "metadata": {
        "id": "AnN90qRZYFG0",
        "colab_type": "code",
        "outputId": "70c6ff99-e801-4eb6-9b12-6bcce1949775",
        "colab": {
          "base_uri": "https://localhost:8080/",
          "height": 34
        }
      },
      "source": [
        "# Number of loss at home\n",
        "wi_l_h = df_team_Country_lost_home('West Indies').shape[0]\n",
        "wi_l_h"
      ],
      "execution_count": 92,
      "outputs": [
        {
          "output_type": "execute_result",
          "data": {
            "text/plain": [
              "202"
            ]
          },
          "metadata": {
            "tags": []
          },
          "execution_count": 92
        }
      ]
    },
    {
      "cell_type": "code",
      "metadata": {
        "id": "3GWJR2AUGwcP",
        "colab_type": "code",
        "outputId": "469662bd-fee4-4b2d-93ab-bae867b667e8",
        "colab": {
          "base_uri": "https://localhost:8080/",
          "height": 34
        }
      },
      "source": [
        "# Winning ratio at home*******************\n",
        "wi_w_h_r = round(((wi_w_h) / (wi_w_h + wi_l_h)) * 100, 2)\n",
        "wi_w_h_r"
      ],
      "execution_count": 93,
      "outputs": [
        {
          "output_type": "execute_result",
          "data": {
            "text/plain": [
              "56.09"
            ]
          },
          "metadata": {
            "tags": []
          },
          "execution_count": 93
        }
      ]
    },
    {
      "cell_type": "code",
      "metadata": {
        "id": "6X-EuoEJeQ1j",
        "colab_type": "code",
        "outputId": "dc496979-4619-4c9a-9221-cd528d2a5430",
        "colab": {
          "base_uri": "https://localhost:8080/",
          "height": 316
        }
      },
      "source": [
        "# West Indies won away\n",
        "df_team_Country_win_away('West Indies').head()"
      ],
      "execution_count": 94,
      "outputs": [
        {
          "output_type": "execute_result",
          "data": {
            "text/html": [
              "<div>\n",
              "<style scoped>\n",
              "    .dataframe tbody tr th:only-of-type {\n",
              "        vertical-align: middle;\n",
              "    }\n",
              "\n",
              "    .dataframe tbody tr th {\n",
              "        vertical-align: top;\n",
              "    }\n",
              "\n",
              "    .dataframe thead th {\n",
              "        text-align: right;\n",
              "    }\n",
              "</style>\n",
              "<table border=\"1\" class=\"dataframe\">\n",
              "  <thead>\n",
              "    <tr style=\"text-align: right;\">\n",
              "      <th></th>\n",
              "      <th>Unnamed: 0</th>\n",
              "      <th>Scorecard</th>\n",
              "      <th>Team_1</th>\n",
              "      <th>Team_2</th>\n",
              "      <th>Margin</th>\n",
              "      <th>Ground</th>\n",
              "      <th>Match_Date</th>\n",
              "      <th>Winner</th>\n",
              "      <th>Host_Country</th>\n",
              "      <th>Venue_Team1</th>\n",
              "      <th>Venue_Team2</th>\n",
              "      <th>Innings_Team1</th>\n",
              "      <th>Innings_Team2</th>\n",
              "    </tr>\n",
              "  </thead>\n",
              "  <tbody>\n",
              "    <tr>\n",
              "      <th>7</th>\n",
              "      <td>7</td>\n",
              "      <td>ODI # 9</td>\n",
              "      <td>England</td>\n",
              "      <td>West Indies</td>\n",
              "      <td>Winner2ndInning</td>\n",
              "      <td>The Oval</td>\n",
              "      <td>Sep 7, 1973</td>\n",
              "      <td>West Indies</td>\n",
              "      <td>England</td>\n",
              "      <td>Home</td>\n",
              "      <td>Away</td>\n",
              "      <td>First</td>\n",
              "      <td>Second</td>\n",
              "    </tr>\n",
              "    <tr>\n",
              "      <th>18</th>\n",
              "      <td>18</td>\n",
              "      <td>ODI # 22</td>\n",
              "      <td>Sri Lanka</td>\n",
              "      <td>West Indies</td>\n",
              "      <td>Winner2ndInning</td>\n",
              "      <td>Manchester</td>\n",
              "      <td>Jun 7, 1975</td>\n",
              "      <td>West Indies</td>\n",
              "      <td>England</td>\n",
              "      <td>Neutral</td>\n",
              "      <td>Neutral</td>\n",
              "      <td>First</td>\n",
              "      <td>Second</td>\n",
              "    </tr>\n",
              "    <tr>\n",
              "      <th>22</th>\n",
              "      <td>22</td>\n",
              "      <td>ODI # 26</td>\n",
              "      <td>Pakistan</td>\n",
              "      <td>West Indies</td>\n",
              "      <td>Winner2ndInning</td>\n",
              "      <td>Birmingham</td>\n",
              "      <td>Jun 11, 1975</td>\n",
              "      <td>West Indies</td>\n",
              "      <td>England</td>\n",
              "      <td>Neutral</td>\n",
              "      <td>Neutral</td>\n",
              "      <td>First</td>\n",
              "      <td>Second</td>\n",
              "    </tr>\n",
              "    <tr>\n",
              "      <th>25</th>\n",
              "      <td>25</td>\n",
              "      <td>ODI # 29</td>\n",
              "      <td>Australia</td>\n",
              "      <td>West Indies</td>\n",
              "      <td>Winner2ndInning</td>\n",
              "      <td>The Oval</td>\n",
              "      <td>Jun 14, 1975</td>\n",
              "      <td>West Indies</td>\n",
              "      <td>England</td>\n",
              "      <td>Neutral</td>\n",
              "      <td>Neutral</td>\n",
              "      <td>First</td>\n",
              "      <td>Second</td>\n",
              "    </tr>\n",
              "    <tr>\n",
              "      <th>28</th>\n",
              "      <td>28</td>\n",
              "      <td>ODI # 32</td>\n",
              "      <td>New Zealand</td>\n",
              "      <td>West Indies</td>\n",
              "      <td>Winner2ndInning</td>\n",
              "      <td>The Oval</td>\n",
              "      <td>Jun 18, 1975</td>\n",
              "      <td>West Indies</td>\n",
              "      <td>England</td>\n",
              "      <td>Neutral</td>\n",
              "      <td>Neutral</td>\n",
              "      <td>First</td>\n",
              "      <td>Second</td>\n",
              "    </tr>\n",
              "  </tbody>\n",
              "</table>\n",
              "</div>"
            ],
            "text/plain": [
              "    Unnamed: 0 Scorecard       Team_1  ... Venue_Team2 Innings_Team1 Innings_Team2\n",
              "7            7   ODI # 9      England  ...        Away         First        Second\n",
              "18          18  ODI # 22    Sri Lanka  ...     Neutral         First        Second\n",
              "22          22  ODI # 26     Pakistan  ...     Neutral         First        Second\n",
              "25          25  ODI # 29    Australia  ...     Neutral         First        Second\n",
              "28          28  ODI # 32  New Zealand  ...     Neutral         First        Second\n",
              "\n",
              "[5 rows x 13 columns]"
            ]
          },
          "metadata": {
            "tags": []
          },
          "execution_count": 94
        }
      ]
    },
    {
      "cell_type": "code",
      "metadata": {
        "id": "8AP1kWrNYJDI",
        "colab_type": "code",
        "outputId": "326de833-734b-4545-f0ce-250fb748d816",
        "colab": {
          "base_uri": "https://localhost:8080/",
          "height": 34
        }
      },
      "source": [
        "# Number of win away\n",
        "wi_w_a = df_team_Country_win_away('West Indies').shape[0]\n",
        "wi_w_a"
      ],
      "execution_count": 95,
      "outputs": [
        {
          "output_type": "execute_result",
          "data": {
            "text/plain": [
              "502"
            ]
          },
          "metadata": {
            "tags": []
          },
          "execution_count": 95
        }
      ]
    },
    {
      "cell_type": "code",
      "metadata": {
        "id": "D43TgshEeQ7q",
        "colab_type": "code",
        "outputId": "9ea60c37-fb37-490d-f7f6-b5bd4b1c256e",
        "colab": {
          "base_uri": "https://localhost:8080/",
          "height": 316
        }
      },
      "source": [
        "# West Indies lost Away\n",
        "df_team_Country_lost_away('West Indies').head()"
      ],
      "execution_count": 96,
      "outputs": [
        {
          "output_type": "execute_result",
          "data": {
            "text/html": [
              "<div>\n",
              "<style scoped>\n",
              "    .dataframe tbody tr th:only-of-type {\n",
              "        vertical-align: middle;\n",
              "    }\n",
              "\n",
              "    .dataframe tbody tr th {\n",
              "        vertical-align: top;\n",
              "    }\n",
              "\n",
              "    .dataframe thead th {\n",
              "        text-align: right;\n",
              "    }\n",
              "</style>\n",
              "<table border=\"1\" class=\"dataframe\">\n",
              "  <thead>\n",
              "    <tr style=\"text-align: right;\">\n",
              "      <th></th>\n",
              "      <th>Unnamed: 0</th>\n",
              "      <th>Scorecard</th>\n",
              "      <th>Team_1</th>\n",
              "      <th>Team_2</th>\n",
              "      <th>Margin</th>\n",
              "      <th>Ground</th>\n",
              "      <th>Match_Date</th>\n",
              "      <th>Winner</th>\n",
              "      <th>Host_Country</th>\n",
              "      <th>Venue_Team1</th>\n",
              "      <th>Venue_Team2</th>\n",
              "      <th>Innings_Team1</th>\n",
              "      <th>Innings_Team2</th>\n",
              "    </tr>\n",
              "  </thead>\n",
              "  <tbody>\n",
              "    <tr>\n",
              "      <th>6</th>\n",
              "      <td>6</td>\n",
              "      <td>ODI # 8</td>\n",
              "      <td>England</td>\n",
              "      <td>West Indies</td>\n",
              "      <td>Winner2ndInning</td>\n",
              "      <td>Leeds</td>\n",
              "      <td>Sep 5, 1973</td>\n",
              "      <td>England</td>\n",
              "      <td>England</td>\n",
              "      <td>Home</td>\n",
              "      <td>Away</td>\n",
              "      <td>Second</td>\n",
              "      <td>First</td>\n",
              "    </tr>\n",
              "    <tr>\n",
              "      <th>30</th>\n",
              "      <td>30</td>\n",
              "      <td>ODI # 34</td>\n",
              "      <td>Australia</td>\n",
              "      <td>West Indies</td>\n",
              "      <td>Winner2ndInning</td>\n",
              "      <td>Adelaide</td>\n",
              "      <td>Dec 20, 1975</td>\n",
              "      <td>Australia</td>\n",
              "      <td>Australia</td>\n",
              "      <td>Home</td>\n",
              "      <td>Away</td>\n",
              "      <td>Second</td>\n",
              "      <td>First</td>\n",
              "    </tr>\n",
              "    <tr>\n",
              "      <th>69</th>\n",
              "      <td>70</td>\n",
              "      <td>ODI # 75</td>\n",
              "      <td>Australia</td>\n",
              "      <td>West Indies</td>\n",
              "      <td>Winner2ndInning</td>\n",
              "      <td>Sydney</td>\n",
              "      <td>Nov 27, 1979</td>\n",
              "      <td>Australia</td>\n",
              "      <td>Australia</td>\n",
              "      <td>Home</td>\n",
              "      <td>Away</td>\n",
              "      <td>Second</td>\n",
              "      <td>First</td>\n",
              "    </tr>\n",
              "    <tr>\n",
              "      <th>70</th>\n",
              "      <td>71</td>\n",
              "      <td>ODI # 76</td>\n",
              "      <td>England</td>\n",
              "      <td>West Indies</td>\n",
              "      <td>Winner1stInning</td>\n",
              "      <td>Sydney</td>\n",
              "      <td>Nov 28, 1979</td>\n",
              "      <td>England</td>\n",
              "      <td>Australia</td>\n",
              "      <td>Neutral</td>\n",
              "      <td>Neutral</td>\n",
              "      <td>First</td>\n",
              "      <td>Second</td>\n",
              "    </tr>\n",
              "    <tr>\n",
              "      <th>74</th>\n",
              "      <td>75</td>\n",
              "      <td>ODI # 80</td>\n",
              "      <td>Australia</td>\n",
              "      <td>West Indies</td>\n",
              "      <td>Winner1stInning</td>\n",
              "      <td>Sydney</td>\n",
              "      <td>Dec 21, 1979</td>\n",
              "      <td>Australia</td>\n",
              "      <td>Australia</td>\n",
              "      <td>Home</td>\n",
              "      <td>Away</td>\n",
              "      <td>First</td>\n",
              "      <td>Second</td>\n",
              "    </tr>\n",
              "  </tbody>\n",
              "</table>\n",
              "</div>"
            ],
            "text/plain": [
              "    Unnamed: 0 Scorecard     Team_1  ... Venue_Team2 Innings_Team1 Innings_Team2\n",
              "6            6   ODI # 8    England  ...        Away        Second         First\n",
              "30          30  ODI # 34  Australia  ...        Away        Second         First\n",
              "69          70  ODI # 75  Australia  ...        Away        Second         First\n",
              "70          71  ODI # 76    England  ...     Neutral         First        Second\n",
              "74          75  ODI # 80  Australia  ...        Away         First        Second\n",
              "\n",
              "[5 rows x 13 columns]"
            ]
          },
          "metadata": {
            "tags": []
          },
          "execution_count": 96
        }
      ]
    },
    {
      "cell_type": "code",
      "metadata": {
        "id": "DIMfTXapYMgq",
        "colab_type": "code",
        "outputId": "7370c446-577d-4af0-baf6-7219bb18d67a",
        "colab": {
          "base_uri": "https://localhost:8080/",
          "height": 34
        }
      },
      "source": [
        "# Number of loss away\n",
        "wi_l_a = df_team_Country_lost_away('West Indies').shape[0]\n",
        "wi_l_a"
      ],
      "execution_count": 97,
      "outputs": [
        {
          "output_type": "execute_result",
          "data": {
            "text/plain": [
              "500"
            ]
          },
          "metadata": {
            "tags": []
          },
          "execution_count": 97
        }
      ]
    },
    {
      "cell_type": "code",
      "metadata": {
        "id": "KLuFkcp_I-_T",
        "colab_type": "code",
        "outputId": "b14d7c78-dcac-4752-aa56-c6ed502cba15",
        "colab": {
          "base_uri": "https://localhost:8080/",
          "height": 34
        }
      },
      "source": [
        "# Winning ratio away****************************\n",
        "wi_w_a_r = round(((wi_w_a) / (wi_w_a + wi_l_a)) * 100, 2)\n",
        "wi_w_a_r"
      ],
      "execution_count": 98,
      "outputs": [
        {
          "output_type": "execute_result",
          "data": {
            "text/plain": [
              "50.1"
            ]
          },
          "metadata": {
            "tags": []
          },
          "execution_count": 98
        }
      ]
    },
    {
      "cell_type": "markdown",
      "metadata": {
        "id": "SB_JP9a6ckSK",
        "colab_type": "text"
      },
      "source": [
        "#  Afghanistan\t"
      ]
    },
    {
      "cell_type": "code",
      "metadata": {
        "id": "lmu30dSOeVMQ",
        "colab_type": "code",
        "outputId": "5005e5ba-ca52-43d7-bc8f-b79980c56db3",
        "colab": {
          "base_uri": "https://localhost:8080/",
          "height": 84
        }
      },
      "source": [
        "# Afghanistan won at home\n",
        "df_team_Country_win_home('Afghanistan').head()"
      ],
      "execution_count": 99,
      "outputs": [
        {
          "output_type": "execute_result",
          "data": {
            "text/html": [
              "<div>\n",
              "<style scoped>\n",
              "    .dataframe tbody tr th:only-of-type {\n",
              "        vertical-align: middle;\n",
              "    }\n",
              "\n",
              "    .dataframe tbody tr th {\n",
              "        vertical-align: top;\n",
              "    }\n",
              "\n",
              "    .dataframe thead th {\n",
              "        text-align: right;\n",
              "    }\n",
              "</style>\n",
              "<table border=\"1\" class=\"dataframe\">\n",
              "  <thead>\n",
              "    <tr style=\"text-align: right;\">\n",
              "      <th></th>\n",
              "      <th>Unnamed: 0</th>\n",
              "      <th>Scorecard</th>\n",
              "      <th>Team_1</th>\n",
              "      <th>Team_2</th>\n",
              "      <th>Margin</th>\n",
              "      <th>Ground</th>\n",
              "      <th>Match_Date</th>\n",
              "      <th>Winner</th>\n",
              "      <th>Host_Country</th>\n",
              "      <th>Venue_Team1</th>\n",
              "      <th>Venue_Team2</th>\n",
              "      <th>Innings_Team1</th>\n",
              "      <th>Innings_Team2</th>\n",
              "    </tr>\n",
              "  </thead>\n",
              "  <tbody>\n",
              "  </tbody>\n",
              "</table>\n",
              "</div>"
            ],
            "text/plain": [
              "Empty DataFrame\n",
              "Columns: [Unnamed: 0, Scorecard, Team_1, Team_2, Margin, Ground, Match_Date, Winner, Host_Country, Venue_Team1, Venue_Team2, Innings_Team1, Innings_Team2]\n",
              "Index: []"
            ]
          },
          "metadata": {
            "tags": []
          },
          "execution_count": 99
        }
      ]
    },
    {
      "cell_type": "code",
      "metadata": {
        "id": "0FzPJCRMYPTj",
        "colab_type": "code",
        "outputId": "fef25395-2d33-4757-c033-7d65241f57f6",
        "colab": {
          "base_uri": "https://localhost:8080/",
          "height": 34
        }
      },
      "source": [
        "# Number of win at home\n",
        "afg_w_h = df_team_Country_win_home('Afghanistan').shape[0]\n",
        "afg_w_h"
      ],
      "execution_count": 100,
      "outputs": [
        {
          "output_type": "execute_result",
          "data": {
            "text/plain": [
              "0"
            ]
          },
          "metadata": {
            "tags": []
          },
          "execution_count": 100
        }
      ]
    },
    {
      "cell_type": "code",
      "metadata": {
        "id": "56fb8dQLeVP4",
        "colab_type": "code",
        "outputId": "19eb448d-439d-4e95-a21d-69860519e978",
        "colab": {
          "base_uri": "https://localhost:8080/",
          "height": 84
        }
      },
      "source": [
        "# Afghanistan lost at home\n",
        "df_team_Country_lost_home('Afghanistan').head()"
      ],
      "execution_count": 101,
      "outputs": [
        {
          "output_type": "execute_result",
          "data": {
            "text/html": [
              "<div>\n",
              "<style scoped>\n",
              "    .dataframe tbody tr th:only-of-type {\n",
              "        vertical-align: middle;\n",
              "    }\n",
              "\n",
              "    .dataframe tbody tr th {\n",
              "        vertical-align: top;\n",
              "    }\n",
              "\n",
              "    .dataframe thead th {\n",
              "        text-align: right;\n",
              "    }\n",
              "</style>\n",
              "<table border=\"1\" class=\"dataframe\">\n",
              "  <thead>\n",
              "    <tr style=\"text-align: right;\">\n",
              "      <th></th>\n",
              "      <th>Unnamed: 0</th>\n",
              "      <th>Scorecard</th>\n",
              "      <th>Team_1</th>\n",
              "      <th>Team_2</th>\n",
              "      <th>Margin</th>\n",
              "      <th>Ground</th>\n",
              "      <th>Match_Date</th>\n",
              "      <th>Winner</th>\n",
              "      <th>Host_Country</th>\n",
              "      <th>Venue_Team1</th>\n",
              "      <th>Venue_Team2</th>\n",
              "      <th>Innings_Team1</th>\n",
              "      <th>Innings_Team2</th>\n",
              "    </tr>\n",
              "  </thead>\n",
              "  <tbody>\n",
              "  </tbody>\n",
              "</table>\n",
              "</div>"
            ],
            "text/plain": [
              "Empty DataFrame\n",
              "Columns: [Unnamed: 0, Scorecard, Team_1, Team_2, Margin, Ground, Match_Date, Winner, Host_Country, Venue_Team1, Venue_Team2, Innings_Team1, Innings_Team2]\n",
              "Index: []"
            ]
          },
          "metadata": {
            "tags": []
          },
          "execution_count": 101
        }
      ]
    },
    {
      "cell_type": "code",
      "metadata": {
        "id": "y8zWPD7dYWOH",
        "colab_type": "code",
        "outputId": "bcb1d57e-88f1-470b-e1bb-359155737cb8",
        "colab": {
          "base_uri": "https://localhost:8080/",
          "height": 34
        }
      },
      "source": [
        "# Number of loss at home\n",
        "afg_l_h = df_team_Country_lost_home('Afghanistan').shape[0]\n",
        "afg_l_h"
      ],
      "execution_count": 102,
      "outputs": [
        {
          "output_type": "execute_result",
          "data": {
            "text/plain": [
              "0"
            ]
          },
          "metadata": {
            "tags": []
          },
          "execution_count": 102
        }
      ]
    },
    {
      "cell_type": "code",
      "metadata": {
        "id": "n80oADrwG6c6",
        "colab_type": "code",
        "outputId": "f151429b-3ee5-4460-983c-c69f356734f7",
        "colab": {
          "base_uri": "https://localhost:8080/",
          "height": 34
        }
      },
      "source": [
        "# Winning ratio at home*******************\n",
        "afg_w_h_r = 0\n",
        "afg_w_h_r"
      ],
      "execution_count": 103,
      "outputs": [
        {
          "output_type": "execute_result",
          "data": {
            "text/plain": [
              "0"
            ]
          },
          "metadata": {
            "tags": []
          },
          "execution_count": 103
        }
      ]
    },
    {
      "cell_type": "code",
      "metadata": {
        "id": "WAL6oJSYeVS8",
        "colab_type": "code",
        "outputId": "93c9b495-2805-45c3-c50f-18edb00fd0e9",
        "colab": {
          "base_uri": "https://localhost:8080/",
          "height": 316
        }
      },
      "source": [
        "# Afghanistan won away\n",
        "df_team_Country_win_away('Afghanistan').head()"
      ],
      "execution_count": 104,
      "outputs": [
        {
          "output_type": "execute_result",
          "data": {
            "text/html": [
              "<div>\n",
              "<style scoped>\n",
              "    .dataframe tbody tr th:only-of-type {\n",
              "        vertical-align: middle;\n",
              "    }\n",
              "\n",
              "    .dataframe tbody tr th {\n",
              "        vertical-align: top;\n",
              "    }\n",
              "\n",
              "    .dataframe thead th {\n",
              "        text-align: right;\n",
              "    }\n",
              "</style>\n",
              "<table border=\"1\" class=\"dataframe\">\n",
              "  <thead>\n",
              "    <tr style=\"text-align: right;\">\n",
              "      <th></th>\n",
              "      <th>Unnamed: 0</th>\n",
              "      <th>Scorecard</th>\n",
              "      <th>Team_1</th>\n",
              "      <th>Team_2</th>\n",
              "      <th>Margin</th>\n",
              "      <th>Ground</th>\n",
              "      <th>Match_Date</th>\n",
              "      <th>Winner</th>\n",
              "      <th>Host_Country</th>\n",
              "      <th>Venue_Team1</th>\n",
              "      <th>Venue_Team2</th>\n",
              "      <th>Innings_Team1</th>\n",
              "      <th>Innings_Team2</th>\n",
              "    </tr>\n",
              "  </thead>\n",
              "  <tbody>\n",
              "    <tr>\n",
              "      <th>2706</th>\n",
              "      <td>2711</td>\n",
              "      <td>ODI # 2842</td>\n",
              "      <td>Afghanistan</td>\n",
              "      <td>Scotland</td>\n",
              "      <td>Winner1stInning</td>\n",
              "      <td>Benoni</td>\n",
              "      <td>Apr 19, 2009</td>\n",
              "      <td>Afghanistan</td>\n",
              "      <td>South Africa</td>\n",
              "      <td>Neutral</td>\n",
              "      <td>Neutral</td>\n",
              "      <td>First</td>\n",
              "      <td>Second</td>\n",
              "    </tr>\n",
              "    <tr>\n",
              "      <th>2743</th>\n",
              "      <td>2748</td>\n",
              "      <td>ODI # 2881</td>\n",
              "      <td>Netherlands</td>\n",
              "      <td>Afghanistan</td>\n",
              "      <td>Winner2ndInning</td>\n",
              "      <td>Amstelveen</td>\n",
              "      <td>Sep 1, 2009</td>\n",
              "      <td>Afghanistan</td>\n",
              "      <td>Netherlands</td>\n",
              "      <td>Home</td>\n",
              "      <td>Away</td>\n",
              "      <td>First</td>\n",
              "      <td>Second</td>\n",
              "    </tr>\n",
              "    <tr>\n",
              "      <th>2816</th>\n",
              "      <td>2821</td>\n",
              "      <td>ODI # 2957</td>\n",
              "      <td>Afghanistan</td>\n",
              "      <td>Canada</td>\n",
              "      <td>Winner1stInning</td>\n",
              "      <td>Sharjah</td>\n",
              "      <td>Feb 16, 2010</td>\n",
              "      <td>Afghanistan</td>\n",
              "      <td>U.A.E.</td>\n",
              "      <td>Neutral</td>\n",
              "      <td>Neutral</td>\n",
              "      <td>First</td>\n",
              "      <td>Second</td>\n",
              "    </tr>\n",
              "    <tr>\n",
              "      <th>2864</th>\n",
              "      <td>2869</td>\n",
              "      <td>ODI # 3005</td>\n",
              "      <td>Afghanistan</td>\n",
              "      <td>Canada</td>\n",
              "      <td>Winner2ndInning</td>\n",
              "      <td>The Hague</td>\n",
              "      <td>Jul 1, 2010</td>\n",
              "      <td>Afghanistan</td>\n",
              "      <td>Netherlands</td>\n",
              "      <td>Neutral</td>\n",
              "      <td>Neutral</td>\n",
              "      <td>Second</td>\n",
              "      <td>First</td>\n",
              "    </tr>\n",
              "    <tr>\n",
              "      <th>2871</th>\n",
              "      <td>2876</td>\n",
              "      <td>ODI # 3012</td>\n",
              "      <td>Afghanistan</td>\n",
              "      <td>Kenya</td>\n",
              "      <td>Winner2ndInning</td>\n",
              "      <td>Amstelveen</td>\n",
              "      <td>Jul 5, 2010</td>\n",
              "      <td>Afghanistan</td>\n",
              "      <td>Netherlands</td>\n",
              "      <td>Neutral</td>\n",
              "      <td>Neutral</td>\n",
              "      <td>Second</td>\n",
              "      <td>First</td>\n",
              "    </tr>\n",
              "  </tbody>\n",
              "</table>\n",
              "</div>"
            ],
            "text/plain": [
              "      Unnamed: 0   Scorecard  ... Innings_Team1 Innings_Team2\n",
              "2706        2711  ODI # 2842  ...         First        Second\n",
              "2743        2748  ODI # 2881  ...         First        Second\n",
              "2816        2821  ODI # 2957  ...         First        Second\n",
              "2864        2869  ODI # 3005  ...        Second         First\n",
              "2871        2876  ODI # 3012  ...        Second         First\n",
              "\n",
              "[5 rows x 13 columns]"
            ]
          },
          "metadata": {
            "tags": []
          },
          "execution_count": 104
        }
      ]
    },
    {
      "cell_type": "code",
      "metadata": {
        "id": "GFu4SUGNYswD",
        "colab_type": "code",
        "outputId": "2f4f8f2a-fd06-4df5-a347-4c5f3ea70f61",
        "colab": {
          "base_uri": "https://localhost:8080/",
          "height": 34
        }
      },
      "source": [
        "# Number of win away\n",
        "afg_w_a = df_team_Country_win_away('Afghanistan').shape[0]\n",
        "afg_w_a"
      ],
      "execution_count": 105,
      "outputs": [
        {
          "output_type": "execute_result",
          "data": {
            "text/plain": [
              "84"
            ]
          },
          "metadata": {
            "tags": []
          },
          "execution_count": 105
        }
      ]
    },
    {
      "cell_type": "code",
      "metadata": {
        "id": "P2KTjCJ8eVWa",
        "colab_type": "code",
        "outputId": "f6ed589b-180b-4ef3-9f09-0e2a82bc9e0b",
        "colab": {
          "base_uri": "https://localhost:8080/",
          "height": 316
        }
      },
      "source": [
        "# Afghanistan lost Away\n",
        "df_team_Country_lost_away('Afghanistan').head()"
      ],
      "execution_count": 106,
      "outputs": [
        {
          "output_type": "execute_result",
          "data": {
            "text/html": [
              "<div>\n",
              "<style scoped>\n",
              "    .dataframe tbody tr th:only-of-type {\n",
              "        vertical-align: middle;\n",
              "    }\n",
              "\n",
              "    .dataframe tbody tr th {\n",
              "        vertical-align: top;\n",
              "    }\n",
              "\n",
              "    .dataframe thead th {\n",
              "        text-align: right;\n",
              "    }\n",
              "</style>\n",
              "<table border=\"1\" class=\"dataframe\">\n",
              "  <thead>\n",
              "    <tr style=\"text-align: right;\">\n",
              "      <th></th>\n",
              "      <th>Unnamed: 0</th>\n",
              "      <th>Scorecard</th>\n",
              "      <th>Team_1</th>\n",
              "      <th>Team_2</th>\n",
              "      <th>Margin</th>\n",
              "      <th>Ground</th>\n",
              "      <th>Match_Date</th>\n",
              "      <th>Winner</th>\n",
              "      <th>Host_Country</th>\n",
              "      <th>Venue_Team1</th>\n",
              "      <th>Venue_Team2</th>\n",
              "      <th>Innings_Team1</th>\n",
              "      <th>Innings_Team2</th>\n",
              "    </tr>\n",
              "  </thead>\n",
              "  <tbody>\n",
              "    <tr>\n",
              "      <th>2742</th>\n",
              "      <td>2747</td>\n",
              "      <td>ODI # 2880</td>\n",
              "      <td>Netherlands</td>\n",
              "      <td>Afghanistan</td>\n",
              "      <td>Winner1stInning</td>\n",
              "      <td>Amstelveen</td>\n",
              "      <td>Aug 30, 2009</td>\n",
              "      <td>Netherlands</td>\n",
              "      <td>Netherlands</td>\n",
              "      <td>Home</td>\n",
              "      <td>Away</td>\n",
              "      <td>First</td>\n",
              "      <td>Second</td>\n",
              "    </tr>\n",
              "    <tr>\n",
              "      <th>2818</th>\n",
              "      <td>2823</td>\n",
              "      <td>ODI # 2959</td>\n",
              "      <td>Afghanistan</td>\n",
              "      <td>Canada</td>\n",
              "      <td>Winner2ndInning</td>\n",
              "      <td>Sharjah</td>\n",
              "      <td>Feb 18, 2010</td>\n",
              "      <td>Canada</td>\n",
              "      <td>U.A.E.</td>\n",
              "      <td>Neutral</td>\n",
              "      <td>Neutral</td>\n",
              "      <td>First</td>\n",
              "      <td>Second</td>\n",
              "    </tr>\n",
              "    <tr>\n",
              "      <th>2867</th>\n",
              "      <td>2872</td>\n",
              "      <td>ODI # 3008</td>\n",
              "      <td>Afghanistan</td>\n",
              "      <td>Ireland</td>\n",
              "      <td>Winner1stInning</td>\n",
              "      <td>Rotterdam</td>\n",
              "      <td>Jul 3-4, 2010</td>\n",
              "      <td>Ireland</td>\n",
              "      <td>Netherlands</td>\n",
              "      <td>Neutral</td>\n",
              "      <td>Neutral</td>\n",
              "      <td>Second</td>\n",
              "      <td>First</td>\n",
              "    </tr>\n",
              "    <tr>\n",
              "      <th>2878</th>\n",
              "      <td>2883</td>\n",
              "      <td>ODI # 3019</td>\n",
              "      <td>Afghanistan</td>\n",
              "      <td>Scotland</td>\n",
              "      <td>Winner2ndInning</td>\n",
              "      <td>Rotterdam</td>\n",
              "      <td>Jul 9, 2010</td>\n",
              "      <td>Scotland</td>\n",
              "      <td>Netherlands</td>\n",
              "      <td>Neutral</td>\n",
              "      <td>Neutral</td>\n",
              "      <td>First</td>\n",
              "      <td>Second</td>\n",
              "    </tr>\n",
              "    <tr>\n",
              "      <th>2894</th>\n",
              "      <td>2899</td>\n",
              "      <td>ODI # 3035</td>\n",
              "      <td>Scotland</td>\n",
              "      <td>Afghanistan</td>\n",
              "      <td>Winner2ndInning</td>\n",
              "      <td>Ayr</td>\n",
              "      <td>Aug 17, 2010</td>\n",
              "      <td>Scotland</td>\n",
              "      <td>Scotland</td>\n",
              "      <td>Home</td>\n",
              "      <td>Away</td>\n",
              "      <td>Second</td>\n",
              "      <td>First</td>\n",
              "    </tr>\n",
              "  </tbody>\n",
              "</table>\n",
              "</div>"
            ],
            "text/plain": [
              "      Unnamed: 0   Scorecard  ... Innings_Team1 Innings_Team2\n",
              "2742        2747  ODI # 2880  ...         First        Second\n",
              "2818        2823  ODI # 2959  ...         First        Second\n",
              "2867        2872  ODI # 3008  ...        Second         First\n",
              "2878        2883  ODI # 3019  ...         First        Second\n",
              "2894        2899  ODI # 3035  ...        Second         First\n",
              "\n",
              "[5 rows x 13 columns]"
            ]
          },
          "metadata": {
            "tags": []
          },
          "execution_count": 106
        }
      ]
    },
    {
      "cell_type": "code",
      "metadata": {
        "id": "FzJaP36hYva0",
        "colab_type": "code",
        "outputId": "0d56d354-8e1e-4e77-9630-8b86fbb68a88",
        "colab": {
          "base_uri": "https://localhost:8080/",
          "height": 34
        }
      },
      "source": [
        "# Number of loss away\n",
        "afg_l_a = df_team_Country_lost_away('Afghanistan').shape[0]\n",
        "afg_l_a"
      ],
      "execution_count": 107,
      "outputs": [
        {
          "output_type": "execute_result",
          "data": {
            "text/plain": [
              "78"
            ]
          },
          "metadata": {
            "tags": []
          },
          "execution_count": 107
        }
      ]
    },
    {
      "cell_type": "code",
      "metadata": {
        "id": "-468VnNlJHKN",
        "colab_type": "code",
        "outputId": "0ec1b8ec-eed2-4f68-872b-b779451a7c58",
        "colab": {
          "base_uri": "https://localhost:8080/",
          "height": 34
        }
      },
      "source": [
        "# Winning ratio away****************************\n",
        "afg_w_a_r = round(((afg_w_a) / (afg_w_a + afg_l_a)) * 100, 2)\n",
        "afg_w_a_r"
      ],
      "execution_count": 108,
      "outputs": [
        {
          "output_type": "execute_result",
          "data": {
            "text/plain": [
              "51.85"
            ]
          },
          "metadata": {
            "tags": []
          },
          "execution_count": 108
        }
      ]
    },
    {
      "cell_type": "markdown",
      "metadata": {
        "id": "D90v7mqUWSpH",
        "colab_type": "text"
      },
      "source": [
        "# ............"
      ]
    },
    {
      "cell_type": "markdown",
      "metadata": {
        "id": "orVhzLdNROU1",
        "colab_type": "text"
      },
      "source": [
        "# Bar plot\n",
        "Now that I've got the winning ratio of each teams both home and away, I can use those numbers to create a bar plot, which will help us to visualize the result."
      ]
    },
    {
      "cell_type": "code",
      "metadata": {
        "id": "NGi5XrpYr31T",
        "colab_type": "code",
        "outputId": "49a9c6de-08fa-4d58-fe00-4b2c2a729703",
        "colab": {
          "base_uri": "https://localhost:8080/",
          "height": 597
        }
      },
      "source": [
        "labels = ['Eng', 'Ind', 'NZ','SA', 'Aus', 'Pak', 'Ban', 'Sri', 'WI', 'Afg']\n",
        "\n",
        "home_r = [eng_w_h_r, ind_w_h_r, nz_w_h_r, sa_w_h_r, aus_w_h_r, pak_w_h_r,\n",
        "          ban_w_h_r, sri_w_h_r, wi_w_h_r, afg_w_h_r]\n",
        "\n",
        "away_r = [eng_w_a_r, ind_w_a_r, nz_w_a_r, sa_w_a_r, aus_w_a_r,\n",
        "          pak_w_a_r, ban_w_a_r, sri_w_a_r, wi_w_a_r, afg_w_a_r]\n",
        "\n",
        "x = np.arange(len(labels))  \n",
        "width = 0.35  \n",
        "\n",
        "plt.style.use('fivethirtyeight')\n",
        "fig, ax = plt.subplots(figsize=(19,8))\n",
        "\n",
        "rects1 = ax.bar(x - width/2, home_r, width, label='Wins at home', color = 'b')\n",
        "rects2 = ax.bar(x + width/2, away_r, width, label='Wins away', color = 'r')\n",
        "rects1[1].set_color('orange')\n",
        "rects2[1].set_color('green')\n",
        "rects1[1].set_label('Wins of India at home')\n",
        "rects2[1].set_label('Wins of India away')\n",
        "ax.set_ylabel('Win percentage(%)')\n",
        "ax.set_title(\"Tigers At Home, Lambs Abroad- But it's not just Team India.\" )\n",
        "ax.text( s = \"Record of all major team's winning ratio in home vs abroad (1971-2017)\",\n",
        "        x = 2.4, y = 78)\n",
        "\n",
        "ax.set_xticks(x)\n",
        "ax.set_xticklabels(labels)\n",
        "ax.tick_params(axis='both', which='major', labelsize=20)\n",
        "ax.set_yticks(range(0,100,20))\n",
        "ax.set_yticklabels([0,20,40,60,\"80%\"])\n",
        "ax.legend()\n",
        "\n",
        "\n",
        "def autolabel(rects):\n",
        "    for rect in rects:\n",
        "        height = rect.get_height()\n",
        "        ax.annotate('{}'.format(height),\n",
        "                    xy=(rect.get_x() + rect.get_width() / 2, height),\n",
        "                    xytext=(0, 3), fontsize = 15,\n",
        "                    textcoords=\"offset points\",\n",
        "                    ha='center', va='bottom')\n",
        "\n",
        "\n",
        "ax.legend()\n",
        "autolabel(rects1)\n",
        "autolabel(rects2)\n",
        "\n",
        "fig.tight_layout()\n",
        "\n",
        "plt.show()"
      ],
      "execution_count": 123,
      "outputs": [
        {
          "output_type": "display_data",
          "data": {
            "image/png": "[encoded data removed]",
            "text/plain": [
              "<Figure size 1368x576 with 1 Axes>"
            ]
          },
          "metadata": {
            "tags": []
          }
        }
      ]
    },
    {
      "cell_type": "markdown",
      "metadata": {
        "id": "g3b5LsTjrJQS",
        "colab_type": "text"
      },
      "source": [
        "From the bar plot it is pretty clear that it is not just India, all the teams tends to do better at home than away. So far India has managed to achieve victory 50.6% of the times while playing abroad. Which seems better than many other countries. But is it better than the average?"
      ]
    },
    {
      "cell_type": "markdown",
      "metadata": {
        "id": "6ahcI0DkMvk0",
        "colab_type": "text"
      },
      "source": [
        "# Pie Chart\n",
        "With a pie chart I will try to see out of all the cricket matches mentioned in my data how many matches were won by the home team and how many were won by the away team. In this way I can find out the average winning ratio of away teams, and I can compare it with the winning ratio of the indian cricket team."
      ]
    },
    {
      "cell_type": "code",
      "metadata": {
        "id": "q8kGiUZSM8LO",
        "colab_type": "code",
        "outputId": "9feb3b65-bd74-4135-a991-a82af6d69671",
        "colab": {
          "base_uri": "https://localhost:8080/",
          "height": 34
        }
      },
      "source": [
        "# Winner at home\n",
        "df_winner_home = df[((df['Team_1'] == df['Host_Country']) | (df['Team_2'] == df['Host_Country'])) & (df['Winner'] == df['Host_Country'])]\n",
        "df_winner_home.shape"
      ],
      "execution_count": 110,
      "outputs": [
        {
          "output_type": "execute_result",
          "data": {
            "text/plain": [
              "(3028, 13)"
            ]
          },
          "metadata": {
            "tags": []
          },
          "execution_count": 110
        }
      ]
    },
    {
      "cell_type": "code",
      "metadata": {
        "id": "cHHSQRXWtkyl",
        "colab_type": "code",
        "colab": {
          "base_uri": "https://localhost:8080/",
          "height": 34
        },
        "outputId": "4764fb97-3d0a-4d2b-b545-266f79127bb3"
      },
      "source": [
        "# Number of winner at home\n",
        "df_winner_home.shape[0]"
      ],
      "execution_count": 117,
      "outputs": [
        {
          "output_type": "execute_result",
          "data": {
            "text/plain": [
              "3028"
            ]
          },
          "metadata": {
            "tags": []
          },
          "execution_count": 117
        }
      ]
    },
    {
      "cell_type": "code",
      "metadata": {
        "id": "2cJC5gluNW08",
        "colab_type": "code",
        "outputId": "cd2a0fd1-c43b-47e0-f3f6-f25dfc7edc04",
        "colab": {
          "base_uri": "https://localhost:8080/",
          "height": 34
        }
      },
      "source": [
        "# Winner away\n",
        "df_winner_away = df[((df['Team_1'] == df['Host_Country']) | (df['Team_2'] == df['Host_Country'])) & (df['Winner'] != df['Host_Country'])]\n",
        "df_winner_away.shape"
      ],
      "execution_count": 111,
      "outputs": [
        {
          "output_type": "execute_result",
          "data": {
            "text/plain": [
              "(2190, 13)"
            ]
          },
          "metadata": {
            "tags": []
          },
          "execution_count": 111
        }
      ]
    },
    {
      "cell_type": "code",
      "metadata": {
        "id": "GcFrPj2ktv2v",
        "colab_type": "code",
        "colab": {
          "base_uri": "https://localhost:8080/",
          "height": 34
        },
        "outputId": "f2b289f0-58d6-443b-e2d1-86aa4d52bcf9"
      },
      "source": [
        "# Number of winner away\n",
        "df_winner_away.shape[0]"
      ],
      "execution_count": 118,
      "outputs": [
        {
          "output_type": "execute_result",
          "data": {
            "text/plain": [
              "2190"
            ]
          },
          "metadata": {
            "tags": []
          },
          "execution_count": 118
        }
      ]
    },
    {
      "cell_type": "code",
      "metadata": {
        "id": "3cxk0IPJNUBD",
        "colab_type": "code",
        "colab": {}
      },
      "source": [
        "wh = df_winner_home.shape[0]\n",
        "wa = df_winner_away.shape[0]"
      ],
      "execution_count": 0,
      "outputs": []
    },
    {
      "cell_type": "code",
      "metadata": {
        "id": "zcCpOGd_A8hv",
        "colab_type": "code",
        "colab": {}
      },
      "source": [
        "from matplotlib.patches import PathPatch\n",
        "from matplotlib.offsetbox import OffsetImage, AnnotationBbox"
      ],
      "execution_count": 0,
      "outputs": []
    },
    {
      "cell_type": "code",
      "metadata": {
        "id": "rNJaF7jovSu-",
        "colab_type": "code",
        "outputId": "987aebd2-6926-4348-d133-6e1883d1f939",
        "colab": {
          "base_uri": "https://localhost:8080/",
          "height": 659
        }
      },
      "source": [
        "total = [wh, wa]\n",
        "labels = ['winner-home team(58%)', 'winner-away team(42%)']\n",
        "\n",
        "plt.title('Winning ratio - Home vs Away', x = 0.5, y = 1.8, fontweight = 'bold',\n",
        "          fontsize = 20)\n",
        "plt.gca().axis(\"equal\")\n",
        "pic = ['https://raw.githubusercontent.com/Ekram49/DS-Unit-1-Build/master/winner-home.png',\n",
        "       'https://raw.githubusercontent.com/Ekram49/DS-Unit-1-Build/master/winner-away.png']\n",
        "wedges, texts = plt.pie(total, startangle=90, labels=labels, radius = 3,\n",
        "                        shadow = True,wedgeprops = \n",
        "                        { 'linewidth': 2, \"edgecolor\" :\"k\",\"fill\":False,  })\n",
        "\n",
        "def img_to_pie( fn, wedge, xy, zoom=1, ax = None):\n",
        "    if ax==None: ax=plt.gca()\n",
        "    im = plt.imread(fn, format='png')\n",
        "    path = wedge.get_path()\n",
        "    patch = PathPatch(path, facecolor='none')\n",
        "    ax.add_patch(patch)\n",
        "    imagebox = OffsetImage(im, zoom=zoom, clip_path=patch, zorder=-10)\n",
        "    ab = AnnotationBbox(imagebox, xy, xycoords='data', pad=0, frameon=False)\n",
        "    ax.add_artist(ab)\n",
        "positions = [(-1,0.3),(0,-0.5)]\n",
        "zooms = [1.5,2]\n",
        "\n",
        "for i in range(2):\n",
        "    fn = pic[i].format(pic[i].lower())\n",
        "    img_to_pie(fn, wedges[i], xy=positions[i], zoom=zooms[i] )\n",
        "    wedges[i].set_zorder(10)"
      ],
      "execution_count": 116,
      "outputs": [
        {
          "output_type": "display_data",
          "data": {
            "image/png": "[encoded data removed]",
            "text/plain": [
              "<Figure size 432x288 with 1 Axes>"
            ]
          },
          "metadata": {
            "tags": []
          }
        }
      ]
    }
  ]
}